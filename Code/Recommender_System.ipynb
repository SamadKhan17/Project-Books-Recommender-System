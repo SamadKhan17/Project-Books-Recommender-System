{
 "cells": [
  {
   "cell_type": "code",
   "execution_count": 1,
   "id": "a5721c39-4ef9-46cb-b652-f4f6156725f3",
   "metadata": {},
   "outputs": [],
   "source": [
    "#Importing Necessary Libraries\n",
    "\n",
    "import pandas as pd\n",
    "import numpy as np\n",
    "\n",
    "import matplotlib.pyplot as plt\n",
    "import seaborn as sns\n",
    "\n",
    "import warnings\n",
    "warnings.filterwarnings(\"ignore\")"
   ]
  },
  {
   "cell_type": "markdown",
   "id": "8385cf29-9890-461e-b71b-7274bce2fb2f",
   "metadata": {},
   "source": [
    "### Importing Datasets"
   ]
  },
  {
   "cell_type": "code",
   "execution_count": 3,
   "id": "70ba6bb7-a9a3-4daf-aa42-8cf3949d7a73",
   "metadata": {},
   "outputs": [],
   "source": [
    "books = pd.read_csv('books.csv')\n",
    "users = pd.read_csv('Users.csv')\n",
    "ratings = pd.read_csv('ratings.csv')"
   ]
  },
  {
   "cell_type": "markdown",
   "id": "3af1c21a-73bf-431a-ba7c-aa0b3c736294",
   "metadata": {},
   "source": [
    "### Understanding the Data"
   ]
  },
  {
   "cell_type": "code",
   "execution_count": 5,
   "id": "f2d21766-06a9-482f-90e6-5587516df5ef",
   "metadata": {},
   "outputs": [
    {
     "data": {
      "text/html": [
       "<div>\n",
       "<style scoped>\n",
       "    .dataframe tbody tr th:only-of-type {\n",
       "        vertical-align: middle;\n",
       "    }\n",
       "\n",
       "    .dataframe tbody tr th {\n",
       "        vertical-align: top;\n",
       "    }\n",
       "\n",
       "    .dataframe thead th {\n",
       "        text-align: right;\n",
       "    }\n",
       "</style>\n",
       "<table border=\"1\" class=\"dataframe\">\n",
       "  <thead>\n",
       "    <tr style=\"text-align: right;\">\n",
       "      <th></th>\n",
       "      <th>ISBN</th>\n",
       "      <th>Book-Title</th>\n",
       "      <th>Book-Author</th>\n",
       "      <th>Year-Of-Publication</th>\n",
       "      <th>Publisher</th>\n",
       "      <th>Image-URL-S</th>\n",
       "      <th>Image-URL-M</th>\n",
       "      <th>Image-URL-L</th>\n",
       "    </tr>\n",
       "  </thead>\n",
       "  <tbody>\n",
       "    <tr>\n",
       "      <th>0</th>\n",
       "      <td>0195153448</td>\n",
       "      <td>Classical Mythology</td>\n",
       "      <td>Mark P. O. Morford</td>\n",
       "      <td>2002</td>\n",
       "      <td>Oxford University Press</td>\n",
       "      <td>http://images.amazon.com/images/P/0195153448.0...</td>\n",
       "      <td>http://images.amazon.com/images/P/0195153448.0...</td>\n",
       "      <td>http://images.amazon.com/images/P/0195153448.0...</td>\n",
       "    </tr>\n",
       "    <tr>\n",
       "      <th>1</th>\n",
       "      <td>0002005018</td>\n",
       "      <td>Clara Callan</td>\n",
       "      <td>Richard Bruce Wright</td>\n",
       "      <td>2001</td>\n",
       "      <td>HarperFlamingo Canada</td>\n",
       "      <td>http://images.amazon.com/images/P/0002005018.0...</td>\n",
       "      <td>http://images.amazon.com/images/P/0002005018.0...</td>\n",
       "      <td>http://images.amazon.com/images/P/0002005018.0...</td>\n",
       "    </tr>\n",
       "    <tr>\n",
       "      <th>2</th>\n",
       "      <td>0060973129</td>\n",
       "      <td>Decision in Normandy</td>\n",
       "      <td>Carlo D'Este</td>\n",
       "      <td>1991</td>\n",
       "      <td>HarperPerennial</td>\n",
       "      <td>http://images.amazon.com/images/P/0060973129.0...</td>\n",
       "      <td>http://images.amazon.com/images/P/0060973129.0...</td>\n",
       "      <td>http://images.amazon.com/images/P/0060973129.0...</td>\n",
       "    </tr>\n",
       "    <tr>\n",
       "      <th>3</th>\n",
       "      <td>0374157065</td>\n",
       "      <td>Flu: The Story of the Great Influenza Pandemic...</td>\n",
       "      <td>Gina Bari Kolata</td>\n",
       "      <td>1999</td>\n",
       "      <td>Farrar Straus Giroux</td>\n",
       "      <td>http://images.amazon.com/images/P/0374157065.0...</td>\n",
       "      <td>http://images.amazon.com/images/P/0374157065.0...</td>\n",
       "      <td>http://images.amazon.com/images/P/0374157065.0...</td>\n",
       "    </tr>\n",
       "    <tr>\n",
       "      <th>4</th>\n",
       "      <td>0393045218</td>\n",
       "      <td>The Mummies of Urumchi</td>\n",
       "      <td>E. J. W. Barber</td>\n",
       "      <td>1999</td>\n",
       "      <td>W. W. Norton &amp;amp; Company</td>\n",
       "      <td>http://images.amazon.com/images/P/0393045218.0...</td>\n",
       "      <td>http://images.amazon.com/images/P/0393045218.0...</td>\n",
       "      <td>http://images.amazon.com/images/P/0393045218.0...</td>\n",
       "    </tr>\n",
       "  </tbody>\n",
       "</table>\n",
       "</div>"
      ],
      "text/plain": [
       "         ISBN                                         Book-Title  \\\n",
       "0  0195153448                                Classical Mythology   \n",
       "1  0002005018                                       Clara Callan   \n",
       "2  0060973129                               Decision in Normandy   \n",
       "3  0374157065  Flu: The Story of the Great Influenza Pandemic...   \n",
       "4  0393045218                             The Mummies of Urumchi   \n",
       "\n",
       "            Book-Author Year-Of-Publication                   Publisher  \\\n",
       "0    Mark P. O. Morford                2002     Oxford University Press   \n",
       "1  Richard Bruce Wright                2001       HarperFlamingo Canada   \n",
       "2          Carlo D'Este                1991             HarperPerennial   \n",
       "3      Gina Bari Kolata                1999        Farrar Straus Giroux   \n",
       "4       E. J. W. Barber                1999  W. W. Norton &amp; Company   \n",
       "\n",
       "                                         Image-URL-S  \\\n",
       "0  http://images.amazon.com/images/P/0195153448.0...   \n",
       "1  http://images.amazon.com/images/P/0002005018.0...   \n",
       "2  http://images.amazon.com/images/P/0060973129.0...   \n",
       "3  http://images.amazon.com/images/P/0374157065.0...   \n",
       "4  http://images.amazon.com/images/P/0393045218.0...   \n",
       "\n",
       "                                         Image-URL-M  \\\n",
       "0  http://images.amazon.com/images/P/0195153448.0...   \n",
       "1  http://images.amazon.com/images/P/0002005018.0...   \n",
       "2  http://images.amazon.com/images/P/0060973129.0...   \n",
       "3  http://images.amazon.com/images/P/0374157065.0...   \n",
       "4  http://images.amazon.com/images/P/0393045218.0...   \n",
       "\n",
       "                                         Image-URL-L  \n",
       "0  http://images.amazon.com/images/P/0195153448.0...  \n",
       "1  http://images.amazon.com/images/P/0002005018.0...  \n",
       "2  http://images.amazon.com/images/P/0060973129.0...  \n",
       "3  http://images.amazon.com/images/P/0374157065.0...  \n",
       "4  http://images.amazon.com/images/P/0393045218.0...  "
      ]
     },
     "execution_count": 5,
     "metadata": {},
     "output_type": "execute_result"
    }
   ],
   "source": [
    "books.head()"
   ]
  },
  {
   "cell_type": "code",
   "execution_count": 6,
   "id": "dfdc25b0-6b89-4861-8618-e83e3a8bd3b7",
   "metadata": {},
   "outputs": [
    {
     "data": {
      "text/html": [
       "<div>\n",
       "<style scoped>\n",
       "    .dataframe tbody tr th:only-of-type {\n",
       "        vertical-align: middle;\n",
       "    }\n",
       "\n",
       "    .dataframe tbody tr th {\n",
       "        vertical-align: top;\n",
       "    }\n",
       "\n",
       "    .dataframe thead th {\n",
       "        text-align: right;\n",
       "    }\n",
       "</style>\n",
       "<table border=\"1\" class=\"dataframe\">\n",
       "  <thead>\n",
       "    <tr style=\"text-align: right;\">\n",
       "      <th></th>\n",
       "      <th>User-ID</th>\n",
       "      <th>Location</th>\n",
       "      <th>Age</th>\n",
       "    </tr>\n",
       "  </thead>\n",
       "  <tbody>\n",
       "    <tr>\n",
       "      <th>0</th>\n",
       "      <td>1</td>\n",
       "      <td>nyc, new york, usa</td>\n",
       "      <td>NaN</td>\n",
       "    </tr>\n",
       "    <tr>\n",
       "      <th>1</th>\n",
       "      <td>2</td>\n",
       "      <td>stockton, california, usa</td>\n",
       "      <td>18.0</td>\n",
       "    </tr>\n",
       "    <tr>\n",
       "      <th>2</th>\n",
       "      <td>3</td>\n",
       "      <td>moscow, yukon territory, russia</td>\n",
       "      <td>NaN</td>\n",
       "    </tr>\n",
       "    <tr>\n",
       "      <th>3</th>\n",
       "      <td>4</td>\n",
       "      <td>porto, v.n.gaia, portugal</td>\n",
       "      <td>17.0</td>\n",
       "    </tr>\n",
       "    <tr>\n",
       "      <th>4</th>\n",
       "      <td>5</td>\n",
       "      <td>farnborough, hants, united kingdom</td>\n",
       "      <td>NaN</td>\n",
       "    </tr>\n",
       "  </tbody>\n",
       "</table>\n",
       "</div>"
      ],
      "text/plain": [
       "   User-ID                            Location   Age\n",
       "0        1                  nyc, new york, usa   NaN\n",
       "1        2           stockton, california, usa  18.0\n",
       "2        3     moscow, yukon territory, russia   NaN\n",
       "3        4           porto, v.n.gaia, portugal  17.0\n",
       "4        5  farnborough, hants, united kingdom   NaN"
      ]
     },
     "execution_count": 6,
     "metadata": {},
     "output_type": "execute_result"
    }
   ],
   "source": [
    "users.head()"
   ]
  },
  {
   "cell_type": "code",
   "execution_count": 7,
   "id": "05b4362f-f9eb-4edf-b37b-3e6d7737ec38",
   "metadata": {},
   "outputs": [
    {
     "data": {
      "text/html": [
       "<div>\n",
       "<style scoped>\n",
       "    .dataframe tbody tr th:only-of-type {\n",
       "        vertical-align: middle;\n",
       "    }\n",
       "\n",
       "    .dataframe tbody tr th {\n",
       "        vertical-align: top;\n",
       "    }\n",
       "\n",
       "    .dataframe thead th {\n",
       "        text-align: right;\n",
       "    }\n",
       "</style>\n",
       "<table border=\"1\" class=\"dataframe\">\n",
       "  <thead>\n",
       "    <tr style=\"text-align: right;\">\n",
       "      <th></th>\n",
       "      <th>User-ID</th>\n",
       "      <th>ISBN</th>\n",
       "      <th>Book-Rating</th>\n",
       "    </tr>\n",
       "  </thead>\n",
       "  <tbody>\n",
       "    <tr>\n",
       "      <th>0</th>\n",
       "      <td>276725</td>\n",
       "      <td>034545104X</td>\n",
       "      <td>0</td>\n",
       "    </tr>\n",
       "    <tr>\n",
       "      <th>1</th>\n",
       "      <td>276726</td>\n",
       "      <td>0155061224</td>\n",
       "      <td>5</td>\n",
       "    </tr>\n",
       "    <tr>\n",
       "      <th>2</th>\n",
       "      <td>276727</td>\n",
       "      <td>0446520802</td>\n",
       "      <td>0</td>\n",
       "    </tr>\n",
       "    <tr>\n",
       "      <th>3</th>\n",
       "      <td>276729</td>\n",
       "      <td>052165615X</td>\n",
       "      <td>3</td>\n",
       "    </tr>\n",
       "    <tr>\n",
       "      <th>4</th>\n",
       "      <td>276729</td>\n",
       "      <td>0521795028</td>\n",
       "      <td>6</td>\n",
       "    </tr>\n",
       "  </tbody>\n",
       "</table>\n",
       "</div>"
      ],
      "text/plain": [
       "   User-ID        ISBN  Book-Rating\n",
       "0   276725  034545104X            0\n",
       "1   276726  0155061224            5\n",
       "2   276727  0446520802            0\n",
       "3   276729  052165615X            3\n",
       "4   276729  0521795028            6"
      ]
     },
     "execution_count": 7,
     "metadata": {},
     "output_type": "execute_result"
    }
   ],
   "source": [
    "ratings.head()"
   ]
  },
  {
   "cell_type": "code",
   "execution_count": 8,
   "id": "59ac04b0-f71b-4c5d-b533-3ef860720a97",
   "metadata": {},
   "outputs": [
    {
     "data": {
      "text/plain": [
       "(271360, 8)"
      ]
     },
     "execution_count": 8,
     "metadata": {},
     "output_type": "execute_result"
    }
   ],
   "source": [
    "books.shape"
   ]
  },
  {
   "cell_type": "code",
   "execution_count": 9,
   "id": "282420fb-a975-4fbf-a6d6-7090f4e2e4e4",
   "metadata": {},
   "outputs": [
    {
     "data": {
      "text/plain": [
       "(278858, 3)"
      ]
     },
     "execution_count": 9,
     "metadata": {},
     "output_type": "execute_result"
    }
   ],
   "source": [
    "users.shape"
   ]
  },
  {
   "cell_type": "code",
   "execution_count": 10,
   "id": "946d336f-727f-4f91-b584-47c3e17c8d70",
   "metadata": {},
   "outputs": [
    {
     "data": {
      "text/plain": [
       "(1149780, 3)"
      ]
     },
     "execution_count": 10,
     "metadata": {},
     "output_type": "execute_result"
    }
   ],
   "source": [
    "ratings.shape"
   ]
  },
  {
   "cell_type": "markdown",
   "id": "e0013dc9-4331-4f2f-8c40-b6aaf3e4c554",
   "metadata": {},
   "source": [
    "### Books Data Pre-Processing"
   ]
  },
  {
   "cell_type": "code",
   "execution_count": 12,
   "id": "057a2f6e-f721-4e8f-b053-6a79f3f717cc",
   "metadata": {},
   "outputs": [
    {
     "data": {
      "text/plain": [
       "ISBN                   0\n",
       "Book-Title             0\n",
       "Book-Author            2\n",
       "Year-Of-Publication    0\n",
       "Publisher              2\n",
       "Image-URL-S            0\n",
       "Image-URL-M            0\n",
       "Image-URL-L            3\n",
       "dtype: int64"
      ]
     },
     "execution_count": 12,
     "metadata": {},
     "output_type": "execute_result"
    }
   ],
   "source": [
    "books.isnull().sum()"
   ]
  },
  {
   "cell_type": "code",
   "execution_count": 13,
   "id": "aea472b4-dd9b-4ab8-8e17-b5256a0c0022",
   "metadata": {},
   "outputs": [
    {
     "name": "stdout",
     "output_type": "stream",
     "text": [
      "ISBN                   object\n",
      "Book-Title             object\n",
      "Book-Author            object\n",
      "Year-Of-Publication    object\n",
      "Publisher              object\n",
      "Image-URL-S            object\n",
      "Image-URL-M            object\n",
      "Image-URL-L            object\n",
      "dtype: object\n"
     ]
    }
   ],
   "source": [
    "print(books.dtypes)"
   ]
  },
  {
   "cell_type": "code",
   "execution_count": 14,
   "id": "08d1bbfb-ff53-45e1-957c-06d05536ad67",
   "metadata": {},
   "outputs": [
    {
     "data": {
      "text/html": [
       "<div>\n",
       "<style scoped>\n",
       "    .dataframe tbody tr th:only-of-type {\n",
       "        vertical-align: middle;\n",
       "    }\n",
       "\n",
       "    .dataframe tbody tr th {\n",
       "        vertical-align: top;\n",
       "    }\n",
       "\n",
       "    .dataframe thead th {\n",
       "        text-align: right;\n",
       "    }\n",
       "</style>\n",
       "<table border=\"1\" class=\"dataframe\">\n",
       "  <thead>\n",
       "    <tr style=\"text-align: right;\">\n",
       "      <th></th>\n",
       "      <th>ISBN</th>\n",
       "      <th>Book-Title</th>\n",
       "      <th>Book-Author</th>\n",
       "      <th>Year-Of-Publication</th>\n",
       "      <th>Publisher</th>\n",
       "    </tr>\n",
       "  </thead>\n",
       "  <tbody>\n",
       "    <tr>\n",
       "      <th>0</th>\n",
       "      <td>0195153448</td>\n",
       "      <td>Classical Mythology</td>\n",
       "      <td>Mark P. O. Morford</td>\n",
       "      <td>2002</td>\n",
       "      <td>Oxford University Press</td>\n",
       "    </tr>\n",
       "    <tr>\n",
       "      <th>1</th>\n",
       "      <td>0002005018</td>\n",
       "      <td>Clara Callan</td>\n",
       "      <td>Richard Bruce Wright</td>\n",
       "      <td>2001</td>\n",
       "      <td>HarperFlamingo Canada</td>\n",
       "    </tr>\n",
       "    <tr>\n",
       "      <th>2</th>\n",
       "      <td>0060973129</td>\n",
       "      <td>Decision in Normandy</td>\n",
       "      <td>Carlo D'Este</td>\n",
       "      <td>1991</td>\n",
       "      <td>HarperPerennial</td>\n",
       "    </tr>\n",
       "    <tr>\n",
       "      <th>3</th>\n",
       "      <td>0374157065</td>\n",
       "      <td>Flu: The Story of the Great Influenza Pandemic...</td>\n",
       "      <td>Gina Bari Kolata</td>\n",
       "      <td>1999</td>\n",
       "      <td>Farrar Straus Giroux</td>\n",
       "    </tr>\n",
       "    <tr>\n",
       "      <th>4</th>\n",
       "      <td>0393045218</td>\n",
       "      <td>The Mummies of Urumchi</td>\n",
       "      <td>E. J. W. Barber</td>\n",
       "      <td>1999</td>\n",
       "      <td>W. W. Norton &amp;amp; Company</td>\n",
       "    </tr>\n",
       "  </tbody>\n",
       "</table>\n",
       "</div>"
      ],
      "text/plain": [
       "         ISBN                                         Book-Title  \\\n",
       "0  0195153448                                Classical Mythology   \n",
       "1  0002005018                                       Clara Callan   \n",
       "2  0060973129                               Decision in Normandy   \n",
       "3  0374157065  Flu: The Story of the Great Influenza Pandemic...   \n",
       "4  0393045218                             The Mummies of Urumchi   \n",
       "\n",
       "            Book-Author Year-Of-Publication                   Publisher  \n",
       "0    Mark P. O. Morford                2002     Oxford University Press  \n",
       "1  Richard Bruce Wright                2001       HarperFlamingo Canada  \n",
       "2          Carlo D'Este                1991             HarperPerennial  \n",
       "3      Gina Bari Kolata                1999        Farrar Straus Giroux  \n",
       "4       E. J. W. Barber                1999  W. W. Norton &amp; Company  "
      ]
     },
     "execution_count": 14,
     "metadata": {},
     "output_type": "execute_result"
    }
   ],
   "source": [
    "#Dropping URL columns\n",
    "\n",
    "books = books.drop(['Image-URL-S', 'Image-URL-M', 'Image-URL-L'], axis=1)\n",
    "books.head()"
   ]
  },
  {
   "cell_type": "code",
   "execution_count": 15,
   "id": "85068ffa-9212-4227-b8ac-a5615dd8ac24",
   "metadata": {},
   "outputs": [
    {
     "data": {
      "text/plain": [
       "array([2002, 2001, 1991, 1999, 2000, 1993, 1996, 1988, 2004, 1998, 1994,\n",
       "       2003, 1997, 1983, 1979, 1995, 1982, 1985, 1992, 1986, 1978, 1980,\n",
       "       1952, 1987, 1990, 1981, 1989, 1984, 0, 1968, 1961, 1958, 1974,\n",
       "       1976, 1971, 1977, 1975, 1965, 1941, 1970, 1962, 1973, 1972, 1960,\n",
       "       1966, 1920, 1956, 1959, 1953, 1951, 1942, 1963, 1964, 1969, 1954,\n",
       "       1950, 1967, 2005, 1957, 1940, 1937, 1955, 1946, 1936, 1930, 2011,\n",
       "       1925, 1948, 1943, 1947, 1945, 1923, 2020, 1939, 1926, 1938, 2030,\n",
       "       1911, 1904, 1949, 1932, 1928, 1929, 1927, 1931, 1914, 2050, 1934,\n",
       "       1910, 1933, 1902, 1924, 1921, 1900, 2038, 2026, 1944, 1917, 1901,\n",
       "       2010, 1908, 1906, 1935, 1806, 2021, '2000', '1995', '1999', '2004',\n",
       "       '2003', '1990', '1994', '1986', '1989', '2002', '1981', '1993',\n",
       "       '1983', '1982', '1976', '1991', '1977', '1998', '1992', '1996',\n",
       "       '0', '1997', '2001', '1974', '1968', '1987', '1984', '1988',\n",
       "       '1963', '1956', '1970', '1985', '1978', '1973', '1980', '1979',\n",
       "       '1975', '1969', '1961', '1965', '1939', '1958', '1950', '1953',\n",
       "       '1966', '1971', '1959', '1972', '1955', '1957', '1945', '1960',\n",
       "       '1967', '1932', '1924', '1964', '2012', '1911', '1927', '1948',\n",
       "       '1962', '2006', '1952', '1940', '1951', '1931', '1954', '2005',\n",
       "       '1930', '1941', '1944', 'DK Publishing Inc', '1943', '1938',\n",
       "       '1900', '1942', '1923', '1920', '1933', 'Gallimard', '1909',\n",
       "       '1946', '2008', '1378', '2030', '1936', '1947', '2011', '2020',\n",
       "       '1919', '1949', '1922', '1897', '2024', '1376', '1926', '2037'],\n",
       "      dtype=object)"
      ]
     },
     "execution_count": 15,
     "metadata": {},
     "output_type": "execute_result"
    }
   ],
   "source": [
    "books['Year-Of-Publication'].unique()\n",
    "\n",
    "#Incorrect Values, 0 and 'DK Publishing Inc' and 'Gallimard' "
   ]
  },
  {
   "cell_type": "code",
   "execution_count": 16,
   "id": "04a9421c-2a86-45e5-acc5-73ab22072886",
   "metadata": {},
   "outputs": [
    {
     "data": {
      "text/html": [
       "<div>\n",
       "<style scoped>\n",
       "    .dataframe tbody tr th:only-of-type {\n",
       "        vertical-align: middle;\n",
       "    }\n",
       "\n",
       "    .dataframe tbody tr th {\n",
       "        vertical-align: top;\n",
       "    }\n",
       "\n",
       "    .dataframe thead th {\n",
       "        text-align: right;\n",
       "    }\n",
       "</style>\n",
       "<table border=\"1\" class=\"dataframe\">\n",
       "  <thead>\n",
       "    <tr style=\"text-align: right;\">\n",
       "      <th></th>\n",
       "      <th>ISBN</th>\n",
       "      <th>Book-Title</th>\n",
       "      <th>Book-Author</th>\n",
       "      <th>Year-Of-Publication</th>\n",
       "      <th>Publisher</th>\n",
       "    </tr>\n",
       "  </thead>\n",
       "  <tbody>\n",
       "    <tr>\n",
       "      <th>209538</th>\n",
       "      <td>078946697X</td>\n",
       "      <td>DK Readers: Creating the X-Men, How It All Beg...</td>\n",
       "      <td>2000</td>\n",
       "      <td>DK Publishing Inc</td>\n",
       "      <td>http://images.amazon.com/images/P/078946697X.0...</td>\n",
       "    </tr>\n",
       "    <tr>\n",
       "      <th>221678</th>\n",
       "      <td>0789466953</td>\n",
       "      <td>DK Readers: Creating the X-Men, How Comic Book...</td>\n",
       "      <td>2000</td>\n",
       "      <td>DK Publishing Inc</td>\n",
       "      <td>http://images.amazon.com/images/P/0789466953.0...</td>\n",
       "    </tr>\n",
       "  </tbody>\n",
       "</table>\n",
       "</div>"
      ],
      "text/plain": [
       "              ISBN                                         Book-Title  \\\n",
       "209538  078946697X  DK Readers: Creating the X-Men, How It All Beg...   \n",
       "221678  0789466953  DK Readers: Creating the X-Men, How Comic Book...   \n",
       "\n",
       "       Book-Author Year-Of-Publication  \\\n",
       "209538        2000   DK Publishing Inc   \n",
       "221678        2000   DK Publishing Inc   \n",
       "\n",
       "                                                Publisher  \n",
       "209538  http://images.amazon.com/images/P/078946697X.0...  \n",
       "221678  http://images.amazon.com/images/P/0789466953.0...  "
      ]
     },
     "execution_count": 16,
     "metadata": {},
     "output_type": "execute_result"
    }
   ],
   "source": [
    "books[books['Year-Of-Publication'] == 'DK Publishing Inc']"
   ]
  },
  {
   "cell_type": "code",
   "execution_count": 17,
   "id": "0d07e5d7-1b04-4127-bc45-c9b5e5f139b1",
   "metadata": {},
   "outputs": [
    {
     "data": {
      "text/html": [
       "<div>\n",
       "<style scoped>\n",
       "    .dataframe tbody tr th:only-of-type {\n",
       "        vertical-align: middle;\n",
       "    }\n",
       "\n",
       "    .dataframe tbody tr th {\n",
       "        vertical-align: top;\n",
       "    }\n",
       "\n",
       "    .dataframe thead th {\n",
       "        text-align: right;\n",
       "    }\n",
       "</style>\n",
       "<table border=\"1\" class=\"dataframe\">\n",
       "  <thead>\n",
       "    <tr style=\"text-align: right;\">\n",
       "      <th></th>\n",
       "      <th>Book-Author</th>\n",
       "      <th>Year-Of-Publication</th>\n",
       "    </tr>\n",
       "  </thead>\n",
       "  <tbody>\n",
       "    <tr>\n",
       "      <th>209538</th>\n",
       "      <td>2000</td>\n",
       "      <td>DK Publishing Inc</td>\n",
       "    </tr>\n",
       "    <tr>\n",
       "      <th>221678</th>\n",
       "      <td>2000</td>\n",
       "      <td>DK Publishing Inc</td>\n",
       "    </tr>\n",
       "  </tbody>\n",
       "</table>\n",
       "</div>"
      ],
      "text/plain": [
       "       Book-Author Year-Of-Publication\n",
       "209538        2000   DK Publishing Inc\n",
       "221678        2000   DK Publishing Inc"
      ]
     },
     "execution_count": 17,
     "metadata": {},
     "output_type": "execute_result"
    }
   ],
   "source": [
    "books.loc[[209538,221678],['Book-Author','Year-Of-Publication']] "
   ]
  },
  {
   "cell_type": "code",
   "execution_count": 18,
   "id": "b4252509-6b87-4db9-881c-9193f3f6f653",
   "metadata": {},
   "outputs": [],
   "source": [
    "#Correcting Values from Book-Author and YOP Column\n",
    "\n",
    "books.loc[[209538,221678], 'Year-Of-Publication'] = 2000\n",
    "books.loc[[209538,221678], 'Book-Author'] = 'DK Publishing Inc'"
   ]
  },
  {
   "cell_type": "code",
   "execution_count": 19,
   "id": "e72c3ffe-d169-490c-a492-17963dd34d5d",
   "metadata": {},
   "outputs": [
    {
     "data": {
      "text/html": [
       "<div>\n",
       "<style scoped>\n",
       "    .dataframe tbody tr th:only-of-type {\n",
       "        vertical-align: middle;\n",
       "    }\n",
       "\n",
       "    .dataframe tbody tr th {\n",
       "        vertical-align: top;\n",
       "    }\n",
       "\n",
       "    .dataframe thead th {\n",
       "        text-align: right;\n",
       "    }\n",
       "</style>\n",
       "<table border=\"1\" class=\"dataframe\">\n",
       "  <thead>\n",
       "    <tr style=\"text-align: right;\">\n",
       "      <th></th>\n",
       "      <th>Book-Author</th>\n",
       "      <th>Year-Of-Publication</th>\n",
       "    </tr>\n",
       "  </thead>\n",
       "  <tbody>\n",
       "    <tr>\n",
       "      <th>209538</th>\n",
       "      <td>DK Publishing Inc</td>\n",
       "      <td>2000</td>\n",
       "    </tr>\n",
       "    <tr>\n",
       "      <th>221678</th>\n",
       "      <td>DK Publishing Inc</td>\n",
       "      <td>2000</td>\n",
       "    </tr>\n",
       "  </tbody>\n",
       "</table>\n",
       "</div>"
      ],
      "text/plain": [
       "              Book-Author Year-Of-Publication\n",
       "209538  DK Publishing Inc                2000\n",
       "221678  DK Publishing Inc                2000"
      ]
     },
     "execution_count": 19,
     "metadata": {},
     "output_type": "execute_result"
    }
   ],
   "source": [
    "books.loc[[209538,221678],['Book-Author','Year-Of-Publication']] "
   ]
  },
  {
   "cell_type": "code",
   "execution_count": 20,
   "id": "f3cedd15-030b-494f-9002-a9cef5d6754a",
   "metadata": {},
   "outputs": [
    {
     "data": {
      "text/html": [
       "<div>\n",
       "<style scoped>\n",
       "    .dataframe tbody tr th:only-of-type {\n",
       "        vertical-align: middle;\n",
       "    }\n",
       "\n",
       "    .dataframe tbody tr th {\n",
       "        vertical-align: top;\n",
       "    }\n",
       "\n",
       "    .dataframe thead th {\n",
       "        text-align: right;\n",
       "    }\n",
       "</style>\n",
       "<table border=\"1\" class=\"dataframe\">\n",
       "  <thead>\n",
       "    <tr style=\"text-align: right;\">\n",
       "      <th></th>\n",
       "      <th>ISBN</th>\n",
       "      <th>Book-Title</th>\n",
       "      <th>Book-Author</th>\n",
       "      <th>Year-Of-Publication</th>\n",
       "      <th>Publisher</th>\n",
       "    </tr>\n",
       "  </thead>\n",
       "  <tbody>\n",
       "    <tr>\n",
       "      <th>220731</th>\n",
       "      <td>2070426769</td>\n",
       "      <td>Peuple du ciel, suivi de 'Les Bergers\\\";Jean-M...</td>\n",
       "      <td>2003</td>\n",
       "      <td>Gallimard</td>\n",
       "      <td>http://images.amazon.com/images/P/2070426769.0...</td>\n",
       "    </tr>\n",
       "  </tbody>\n",
       "</table>\n",
       "</div>"
      ],
      "text/plain": [
       "              ISBN                                         Book-Title  \\\n",
       "220731  2070426769  Peuple du ciel, suivi de 'Les Bergers\\\";Jean-M...   \n",
       "\n",
       "       Book-Author Year-Of-Publication  \\\n",
       "220731        2003           Gallimard   \n",
       "\n",
       "                                                Publisher  \n",
       "220731  http://images.amazon.com/images/P/2070426769.0...  "
      ]
     },
     "execution_count": 20,
     "metadata": {},
     "output_type": "execute_result"
    }
   ],
   "source": [
    "books[books['Year-Of-Publication'] == 'Gallimard']"
   ]
  },
  {
   "cell_type": "code",
   "execution_count": 21,
   "id": "92e85863-1b07-44e4-b3e2-f53d7a5a5d54",
   "metadata": {},
   "outputs": [],
   "source": [
    "books.loc[220731, 'Year-Of-Publication'] = 2003\n",
    "books.loc[220731, 'Book-Author'] = 'Gallimard'"
   ]
  },
  {
   "cell_type": "code",
   "execution_count": 22,
   "id": "eff45ea0-0583-46bc-9d9c-6b8ec1f04c3e",
   "metadata": {},
   "outputs": [
    {
     "data": {
      "text/plain": [
       "Year-Of-Publication         2003\n",
       "Book-Author            Gallimard\n",
       "Name: 220731, dtype: object"
      ]
     },
     "execution_count": 22,
     "metadata": {},
     "output_type": "execute_result"
    }
   ],
   "source": [
    "books.loc[220731, ['Year-Of-Publication', 'Book-Author']] "
   ]
  },
  {
   "cell_type": "code",
   "execution_count": 23,
   "id": "7e5c933d-b018-4469-8c25-616c2fa03e65",
   "metadata": {},
   "outputs": [],
   "source": [
    "#Converting YOP Column from Object/String to Integer\n",
    "\n",
    "books['Year-Of-Publication'] = books['Year-Of-Publication'].astype(int)"
   ]
  },
  {
   "cell_type": "code",
   "execution_count": 24,
   "id": "24d228c2-7b9a-4326-a4ac-b95a08a749b1",
   "metadata": {},
   "outputs": [
    {
     "data": {
      "text/plain": [
       "ISBN                   object\n",
       "Book-Title             object\n",
       "Book-Author            object\n",
       "Year-Of-Publication     int32\n",
       "Publisher              object\n",
       "dtype: object"
      ]
     },
     "execution_count": 24,
     "metadata": {},
     "output_type": "execute_result"
    }
   ],
   "source": [
    "books.dtypes"
   ]
  },
  {
   "cell_type": "code",
   "execution_count": 25,
   "id": "71cd29ad-9175-47da-b1a2-94ee067bb4db",
   "metadata": {},
   "outputs": [
    {
     "data": {
      "text/plain": [
       "array([2002, 2001, 1991, 1999, 2000, 1993, 1996, 1988, 2004, 1998, 1994,\n",
       "       2003, 1997, 1983, 1979, 1995, 1982, 1985, 1992, 1986, 1978, 1980,\n",
       "       1952, 1987, 1990, 1981, 1989, 1984,    0, 1968, 1961, 1958, 1974,\n",
       "       1976, 1971, 1977, 1975, 1965, 1941, 1970, 1962, 1973, 1972, 1960,\n",
       "       1966, 1920, 1956, 1959, 1953, 1951, 1942, 1963, 1964, 1969, 1954,\n",
       "       1950, 1967, 2005, 1957, 1940, 1937, 1955, 1946, 1936, 1930, 2011,\n",
       "       1925, 1948, 1943, 1947, 1945, 1923, 2020, 1939, 1926, 1938, 2030,\n",
       "       1911, 1904, 1949, 1932, 1928, 1929, 1927, 1931, 1914, 2050, 1934,\n",
       "       1910, 1933, 1902, 1924, 1921, 1900, 2038, 2026, 1944, 1917, 1901,\n",
       "       2010, 1908, 1906, 1935, 1806, 2021, 2012, 2006, 1909, 2008, 1378,\n",
       "       1919, 1922, 1897, 2024, 1376, 2037])"
      ]
     },
     "execution_count": 25,
     "metadata": {},
     "output_type": "execute_result"
    }
   ],
   "source": [
    "books['Year-Of-Publication'].unique()"
   ]
  },
  {
   "cell_type": "code",
   "execution_count": 26,
   "id": "f87872b2-170c-4e2b-9947-9526e8fad92e",
   "metadata": {},
   "outputs": [
    {
     "data": {
      "text/html": [
       "<div>\n",
       "<style scoped>\n",
       "    .dataframe tbody tr th:only-of-type {\n",
       "        vertical-align: middle;\n",
       "    }\n",
       "\n",
       "    .dataframe tbody tr th {\n",
       "        vertical-align: top;\n",
       "    }\n",
       "\n",
       "    .dataframe thead th {\n",
       "        text-align: right;\n",
       "    }\n",
       "</style>\n",
       "<table border=\"1\" class=\"dataframe\">\n",
       "  <thead>\n",
       "    <tr style=\"text-align: right;\">\n",
       "      <th></th>\n",
       "      <th>ISBN</th>\n",
       "      <th>Book-Title</th>\n",
       "      <th>Book-Author</th>\n",
       "      <th>Year-Of-Publication</th>\n",
       "      <th>Publisher</th>\n",
       "    </tr>\n",
       "  </thead>\n",
       "  <tbody>\n",
       "    <tr>\n",
       "      <th>176</th>\n",
       "      <td>3150000335</td>\n",
       "      <td>Kabale Und Liebe</td>\n",
       "      <td>Schiller</td>\n",
       "      <td>0</td>\n",
       "      <td>Philipp Reclam, Jun Verlag GmbH</td>\n",
       "    </tr>\n",
       "    <tr>\n",
       "      <th>188</th>\n",
       "      <td>342311360X</td>\n",
       "      <td>Die Liebe in Den Zelten</td>\n",
       "      <td>Gabriel Garcia Marquez</td>\n",
       "      <td>0</td>\n",
       "      <td>Deutscher Taschenbuch Verlag (DTV)</td>\n",
       "    </tr>\n",
       "    <tr>\n",
       "      <th>288</th>\n",
       "      <td>0571197639</td>\n",
       "      <td>Poisonwood Bible Edition Uk</td>\n",
       "      <td>Barbara Kingsolver</td>\n",
       "      <td>0</td>\n",
       "      <td>Faber Faber Inc</td>\n",
       "    </tr>\n",
       "    <tr>\n",
       "      <th>351</th>\n",
       "      <td>3596214629</td>\n",
       "      <td>Herr Der Fliegen (Fiction, Poetry and Drama)</td>\n",
       "      <td>Golding</td>\n",
       "      <td>0</td>\n",
       "      <td>Fischer Taschenbuch Verlag GmbH</td>\n",
       "    </tr>\n",
       "    <tr>\n",
       "      <th>542</th>\n",
       "      <td>8845229041</td>\n",
       "      <td>Biblioteca Universale Rizzoli: Sulla Sponda De...</td>\n",
       "      <td>P Coelho</td>\n",
       "      <td>0</td>\n",
       "      <td>Fabbri - RCS Libri</td>\n",
       "    </tr>\n",
       "    <tr>\n",
       "      <th>...</th>\n",
       "      <td>...</td>\n",
       "      <td>...</td>\n",
       "      <td>...</td>\n",
       "      <td>...</td>\n",
       "      <td>...</td>\n",
       "    </tr>\n",
       "    <tr>\n",
       "      <th>270794</th>\n",
       "      <td>014029953X</td>\n",
       "      <td>Foe (Essential.penguin S.)</td>\n",
       "      <td>J.M. Coetzee</td>\n",
       "      <td>0</td>\n",
       "      <td>Penguin Books Ltd</td>\n",
       "    </tr>\n",
       "    <tr>\n",
       "      <th>270913</th>\n",
       "      <td>0340571187</td>\n",
       "      <td>Postmens House</td>\n",
       "      <td>Maggie Hemingway</td>\n",
       "      <td>0</td>\n",
       "      <td>Trafalgar Square</td>\n",
       "    </tr>\n",
       "    <tr>\n",
       "      <th>271094</th>\n",
       "      <td>8427201079</td>\n",
       "      <td>El Misterio De Sittaford</td>\n",
       "      <td>Agatha Christie</td>\n",
       "      <td>0</td>\n",
       "      <td>Editorial Molino</td>\n",
       "    </tr>\n",
       "    <tr>\n",
       "      <th>271182</th>\n",
       "      <td>0887781721</td>\n",
       "      <td>Tom Penny</td>\n",
       "      <td>Tony German</td>\n",
       "      <td>0</td>\n",
       "      <td>P. Martin Associates</td>\n",
       "    </tr>\n",
       "    <tr>\n",
       "      <th>271196</th>\n",
       "      <td>3150013763</td>\n",
       "      <td>Der Hofmeister</td>\n",
       "      <td>Jakob Lenz</td>\n",
       "      <td>0</td>\n",
       "      <td>Philipp Reclam, Jun Verlag GmbH</td>\n",
       "    </tr>\n",
       "  </tbody>\n",
       "</table>\n",
       "<p>4618 rows × 5 columns</p>\n",
       "</div>"
      ],
      "text/plain": [
       "              ISBN                                         Book-Title  \\\n",
       "176     3150000335                                   Kabale Und Liebe   \n",
       "188     342311360X                            Die Liebe in Den Zelten   \n",
       "288     0571197639                        Poisonwood Bible Edition Uk   \n",
       "351     3596214629       Herr Der Fliegen (Fiction, Poetry and Drama)   \n",
       "542     8845229041  Biblioteca Universale Rizzoli: Sulla Sponda De...   \n",
       "...            ...                                                ...   \n",
       "270794  014029953X                         Foe (Essential.penguin S.)   \n",
       "270913  0340571187                                     Postmens House   \n",
       "271094  8427201079                           El Misterio De Sittaford   \n",
       "271182  0887781721                                          Tom Penny   \n",
       "271196  3150013763                                     Der Hofmeister   \n",
       "\n",
       "                   Book-Author  Year-Of-Publication  \\\n",
       "176                   Schiller                    0   \n",
       "188     Gabriel Garcia Marquez                    0   \n",
       "288         Barbara Kingsolver                    0   \n",
       "351                    Golding                    0   \n",
       "542                   P Coelho                    0   \n",
       "...                        ...                  ...   \n",
       "270794            J.M. Coetzee                    0   \n",
       "270913        Maggie Hemingway                    0   \n",
       "271094         Agatha Christie                    0   \n",
       "271182             Tony German                    0   \n",
       "271196              Jakob Lenz                    0   \n",
       "\n",
       "                                 Publisher  \n",
       "176        Philipp Reclam, Jun Verlag GmbH  \n",
       "188     Deutscher Taschenbuch Verlag (DTV)  \n",
       "288                        Faber Faber Inc  \n",
       "351        Fischer Taschenbuch Verlag GmbH  \n",
       "542                     Fabbri - RCS Libri  \n",
       "...                                    ...  \n",
       "270794                   Penguin Books Ltd  \n",
       "270913                    Trafalgar Square  \n",
       "271094                    Editorial Molino  \n",
       "271182                P. Martin Associates  \n",
       "271196     Philipp Reclam, Jun Verlag GmbH  \n",
       "\n",
       "[4618 rows x 5 columns]"
      ]
     },
     "execution_count": 26,
     "metadata": {},
     "output_type": "execute_result"
    }
   ],
   "source": [
    "books[books['Year-Of-Publication'] == 0]\n",
    "\n",
    "#Many Year-of-Publication are 0 which is not possible"
   ]
  },
  {
   "cell_type": "code",
   "execution_count": 27,
   "id": "50937e89-e776-4a41-9738-36d8fa8508e9",
   "metadata": {},
   "outputs": [
    {
     "name": "stdout",
     "output_type": "stream",
     "text": [
      "0    2002\n",
      "Name: Year-Of-Publication, dtype: int32\n"
     ]
    }
   ],
   "source": [
    "print(books['Year-Of-Publication'].mode())"
   ]
  },
  {
   "cell_type": "code",
   "execution_count": 28,
   "id": "22829f5d-8221-4d1a-b673-bc9a2fe983a2",
   "metadata": {},
   "outputs": [],
   "source": [
    "#Converting 0 Y-O-P value to 2002 as it appears most amount of time\n",
    "\n",
    "# Replace 0 values with the mode\n",
    "books['Year-Of-Publication'] = books['Year-Of-Publication'].replace(0, books['Year-Of-Publication'].mode()[0])"
   ]
  },
  {
   "cell_type": "code",
   "execution_count": 29,
   "id": "d97f7b81-2cde-43b6-974b-f6a064ab9bf6",
   "metadata": {},
   "outputs": [
    {
     "data": {
      "text/plain": [
       "array([2002, 2001, 1991, 1999, 2000, 1993, 1996, 1988, 2004, 1998, 1994,\n",
       "       2003, 1997, 1983, 1979, 1995, 1982, 1985, 1992, 1986, 1978, 1980,\n",
       "       1952, 1987, 1990, 1981, 1989, 1984, 1968, 1961, 1958, 1974, 1976,\n",
       "       1971, 1977, 1975, 1965, 1941, 1970, 1962, 1973, 1972, 1960, 1966,\n",
       "       1920, 1956, 1959, 1953, 1951, 1942, 1963, 1964, 1969, 1954, 1950,\n",
       "       1967, 2005, 1957, 1940, 1937, 1955, 1946, 1936, 1930, 2011, 1925,\n",
       "       1948, 1943, 1947, 1945, 1923, 2020, 1939, 1926, 1938, 2030, 1911,\n",
       "       1904, 1949, 1932, 1928, 1929, 1927, 1931, 1914, 2050, 1934, 1910,\n",
       "       1933, 1902, 1924, 1921, 1900, 2038, 2026, 1944, 1917, 1901, 2010,\n",
       "       1908, 1906, 1935, 1806, 2021, 2012, 2006, 1909, 2008, 1378, 1919,\n",
       "       1922, 1897, 2024, 1376, 2037])"
      ]
     },
     "execution_count": 29,
     "metadata": {},
     "output_type": "execute_result"
    }
   ],
   "source": [
    "books['Year-Of-Publication'].unique()"
   ]
  },
  {
   "cell_type": "code",
   "execution_count": 30,
   "id": "52059b96-9afb-4bcd-84af-cd8cf4a4fae8",
   "metadata": {},
   "outputs": [
    {
     "data": {
      "text/plain": [
       "Year-Of-Publication\n",
       "2002    22245\n",
       "1999    17431\n",
       "2001    17359\n",
       "2000    17234\n",
       "1998    15766\n",
       "        ...  \n",
       "1910        1\n",
       "1934        1\n",
       "1914        1\n",
       "1904        1\n",
       "2037        1\n",
       "Name: count, Length: 115, dtype: int64"
      ]
     },
     "execution_count": 30,
     "metadata": {},
     "output_type": "execute_result"
    }
   ],
   "source": [
    "books['Year-Of-Publication'].value_counts()"
   ]
  },
  {
   "cell_type": "markdown",
   "id": "68567c8c-018d-4ea5-accc-63f6bbf32ba7",
   "metadata": {},
   "source": [
    "#### ***Visualization*** "
   ]
  },
  {
   "cell_type": "code",
   "execution_count": 32,
   "id": "2bc02e10-04d6-40d3-90ec-fa257763bde9",
   "metadata": {},
   "outputs": [
    {
     "data": {
      "image/png": "[encoded data removed]",
      "text/plain": [
       "<Figure size 1500x700 with 1 Axes>"
      ]
     },
     "metadata": {},
     "output_type": "display_data"
    }
   ],
   "source": [
    "plt.figure(figsize = (15,7))\n",
    "sns.countplot(y = 'Year-Of-Publication', data = books,order = books.value_counts(books['Year-Of-Publication']).iloc[:10].index)\n",
    "plt.title('Top 10 Year Where Books Have Been Published Most of The Times')\n",
    "\n",
    "# Save the plot as an image file\n",
    "plt.savefig('top_10_years_book_publications.png')\n",
    "\n",
    "plt.show()"
   ]
  },
  {
   "cell_type": "markdown",
   "id": "d0471365-daef-4657-b587-9f4cf0d9b7ee",
   "metadata": {},
   "source": [
    "### Handling Missing Values"
   ]
  },
  {
   "cell_type": "code",
   "execution_count": 34,
   "id": "7d35e026-cefb-4c58-9ecb-900679c07a78",
   "metadata": {},
   "outputs": [
    {
     "data": {
      "text/plain": [
       "ISBN                   0\n",
       "Book-Title             0\n",
       "Book-Author            2\n",
       "Year-Of-Publication    0\n",
       "Publisher              2\n",
       "dtype: int64"
      ]
     },
     "execution_count": 34,
     "metadata": {},
     "output_type": "execute_result"
    }
   ],
   "source": [
    "books.isna().sum()"
   ]
  },
  {
   "cell_type": "code",
   "execution_count": 35,
   "id": "b1f84282-f88f-4df9-aa77-49f08d09d066",
   "metadata": {},
   "outputs": [
    {
     "data": {
      "text/html": [
       "<div>\n",
       "<style scoped>\n",
       "    .dataframe tbody tr th:only-of-type {\n",
       "        vertical-align: middle;\n",
       "    }\n",
       "\n",
       "    .dataframe tbody tr th {\n",
       "        vertical-align: top;\n",
       "    }\n",
       "\n",
       "    .dataframe thead th {\n",
       "        text-align: right;\n",
       "    }\n",
       "</style>\n",
       "<table border=\"1\" class=\"dataframe\">\n",
       "  <thead>\n",
       "    <tr style=\"text-align: right;\">\n",
       "      <th></th>\n",
       "      <th>ISBN</th>\n",
       "      <th>Book-Title</th>\n",
       "      <th>Book-Author</th>\n",
       "      <th>Year-Of-Publication</th>\n",
       "      <th>Publisher</th>\n",
       "    </tr>\n",
       "  </thead>\n",
       "  <tbody>\n",
       "    <tr>\n",
       "      <th>118033</th>\n",
       "      <td>0751352497</td>\n",
       "      <td>A+ Quiz Masters:01 Earth</td>\n",
       "      <td>NaN</td>\n",
       "      <td>1999</td>\n",
       "      <td>Dorling Kindersley</td>\n",
       "    </tr>\n",
       "    <tr>\n",
       "      <th>187689</th>\n",
       "      <td>9627982032</td>\n",
       "      <td>The Credit Suisse Guide to Managing Your Perso...</td>\n",
       "      <td>NaN</td>\n",
       "      <td>1995</td>\n",
       "      <td>Edinburgh Financial Publishing</td>\n",
       "    </tr>\n",
       "  </tbody>\n",
       "</table>\n",
       "</div>"
      ],
      "text/plain": [
       "              ISBN                                         Book-Title  \\\n",
       "118033  0751352497                           A+ Quiz Masters:01 Earth   \n",
       "187689  9627982032  The Credit Suisse Guide to Managing Your Perso...   \n",
       "\n",
       "       Book-Author  Year-Of-Publication                       Publisher  \n",
       "118033         NaN                 1999              Dorling Kindersley  \n",
       "187689         NaN                 1995  Edinburgh Financial Publishing  "
      ]
     },
     "execution_count": 35,
     "metadata": {},
     "output_type": "execute_result"
    }
   ],
   "source": [
    "books.loc[books['Book-Author'].isnull(),:]"
   ]
  },
  {
   "cell_type": "code",
   "execution_count": 36,
   "id": "a54647f2-a86b-4a31-bc4a-69157b355a6a",
   "metadata": {},
   "outputs": [
    {
     "data": {
      "text/html": [
       "<div>\n",
       "<style scoped>\n",
       "    .dataframe tbody tr th:only-of-type {\n",
       "        vertical-align: middle;\n",
       "    }\n",
       "\n",
       "    .dataframe tbody tr th {\n",
       "        vertical-align: top;\n",
       "    }\n",
       "\n",
       "    .dataframe thead th {\n",
       "        text-align: right;\n",
       "    }\n",
       "</style>\n",
       "<table border=\"1\" class=\"dataframe\">\n",
       "  <thead>\n",
       "    <tr style=\"text-align: right;\">\n",
       "      <th></th>\n",
       "      <th>ISBN</th>\n",
       "      <th>Book-Title</th>\n",
       "      <th>Book-Author</th>\n",
       "      <th>Year-Of-Publication</th>\n",
       "      <th>Publisher</th>\n",
       "    </tr>\n",
       "  </thead>\n",
       "  <tbody>\n",
       "    <tr>\n",
       "      <th>128890</th>\n",
       "      <td>193169656X</td>\n",
       "      <td>Tyrant Moon</td>\n",
       "      <td>Elaine Corvidae</td>\n",
       "      <td>2002</td>\n",
       "      <td>NaN</td>\n",
       "    </tr>\n",
       "    <tr>\n",
       "      <th>129037</th>\n",
       "      <td>1931696993</td>\n",
       "      <td>Finders Keepers</td>\n",
       "      <td>Linnea Sinclair</td>\n",
       "      <td>2001</td>\n",
       "      <td>NaN</td>\n",
       "    </tr>\n",
       "  </tbody>\n",
       "</table>\n",
       "</div>"
      ],
      "text/plain": [
       "              ISBN       Book-Title      Book-Author  Year-Of-Publication  \\\n",
       "128890  193169656X      Tyrant Moon  Elaine Corvidae                 2002   \n",
       "129037  1931696993  Finders Keepers  Linnea Sinclair                 2001   \n",
       "\n",
       "       Publisher  \n",
       "128890       NaN  \n",
       "129037       NaN  "
      ]
     },
     "execution_count": 36,
     "metadata": {},
     "output_type": "execute_result"
    }
   ],
   "source": [
    "books.loc[books['Publisher'].isnull(),:]"
   ]
  },
  {
   "cell_type": "code",
   "execution_count": 37,
   "id": "1ef973a7-67dd-4c5c-bf07-15b6c1b69474",
   "metadata": {},
   "outputs": [],
   "source": [
    "#Dropping the Missing Values\n",
    "\n",
    "books.dropna(axis = 0, inplace = True)"
   ]
  },
  {
   "cell_type": "code",
   "execution_count": 38,
   "id": "f28df7ff-372e-47c7-8a24-afa9e3cb4dc0",
   "metadata": {},
   "outputs": [
    {
     "data": {
      "text/plain": [
       "ISBN                   0\n",
       "Book-Title             0\n",
       "Book-Author            0\n",
       "Year-Of-Publication    0\n",
       "Publisher              0\n",
       "dtype: int64"
      ]
     },
     "execution_count": 38,
     "metadata": {},
     "output_type": "execute_result"
    }
   ],
   "source": [
    "#No missing values present\n",
    "\n",
    "books.isna().sum()"
   ]
  },
  {
   "cell_type": "code",
   "execution_count": 39,
   "id": "2efbceec-4daf-4eb8-93b6-3d9cbe976d86",
   "metadata": {},
   "outputs": [
    {
     "data": {
      "text/html": [
       "<div>\n",
       "<style scoped>\n",
       "    .dataframe tbody tr th:only-of-type {\n",
       "        vertical-align: middle;\n",
       "    }\n",
       "\n",
       "    .dataframe tbody tr th {\n",
       "        vertical-align: top;\n",
       "    }\n",
       "\n",
       "    .dataframe thead th {\n",
       "        text-align: right;\n",
       "    }\n",
       "</style>\n",
       "<table border=\"1\" class=\"dataframe\">\n",
       "  <thead>\n",
       "    <tr style=\"text-align: right;\">\n",
       "      <th></th>\n",
       "      <th>ISBN</th>\n",
       "      <th>Book-Title</th>\n",
       "      <th>Book-Author</th>\n",
       "      <th>Year-Of-Publication</th>\n",
       "      <th>Publisher</th>\n",
       "    </tr>\n",
       "  </thead>\n",
       "  <tbody>\n",
       "    <tr>\n",
       "      <th>0</th>\n",
       "      <td>0195153448</td>\n",
       "      <td>Classical Mythology</td>\n",
       "      <td>Mark P. O. Morford</td>\n",
       "      <td>2002</td>\n",
       "      <td>Oxford University Press</td>\n",
       "    </tr>\n",
       "    <tr>\n",
       "      <th>1</th>\n",
       "      <td>0002005018</td>\n",
       "      <td>Clara Callan</td>\n",
       "      <td>Richard Bruce Wright</td>\n",
       "      <td>2001</td>\n",
       "      <td>HarperFlamingo Canada</td>\n",
       "    </tr>\n",
       "    <tr>\n",
       "      <th>2</th>\n",
       "      <td>0060973129</td>\n",
       "      <td>Decision in Normandy</td>\n",
       "      <td>Carlo D'Este</td>\n",
       "      <td>1991</td>\n",
       "      <td>HarperPerennial</td>\n",
       "    </tr>\n",
       "    <tr>\n",
       "      <th>3</th>\n",
       "      <td>0374157065</td>\n",
       "      <td>Flu: The Story of the Great Influenza Pandemic...</td>\n",
       "      <td>Gina Bari Kolata</td>\n",
       "      <td>1999</td>\n",
       "      <td>Farrar Straus Giroux</td>\n",
       "    </tr>\n",
       "    <tr>\n",
       "      <th>4</th>\n",
       "      <td>0393045218</td>\n",
       "      <td>The Mummies of Urumchi</td>\n",
       "      <td>E. J. W. Barber</td>\n",
       "      <td>1999</td>\n",
       "      <td>W. W. Norton &amp;amp; Company</td>\n",
       "    </tr>\n",
       "    <tr>\n",
       "      <th>...</th>\n",
       "      <td>...</td>\n",
       "      <td>...</td>\n",
       "      <td>...</td>\n",
       "      <td>...</td>\n",
       "      <td>...</td>\n",
       "    </tr>\n",
       "    <tr>\n",
       "      <th>271355</th>\n",
       "      <td>0440400988</td>\n",
       "      <td>There's a Bat in Bunk Five</td>\n",
       "      <td>Paula Danziger</td>\n",
       "      <td>1988</td>\n",
       "      <td>Random House Childrens Pub (Mm)</td>\n",
       "    </tr>\n",
       "    <tr>\n",
       "      <th>271356</th>\n",
       "      <td>0525447644</td>\n",
       "      <td>From One to One Hundred</td>\n",
       "      <td>Teri Sloat</td>\n",
       "      <td>1991</td>\n",
       "      <td>Dutton Books</td>\n",
       "    </tr>\n",
       "    <tr>\n",
       "      <th>271357</th>\n",
       "      <td>006008667X</td>\n",
       "      <td>Lily Dale : The True Story of the Town that Ta...</td>\n",
       "      <td>Christine Wicker</td>\n",
       "      <td>2004</td>\n",
       "      <td>HarperSanFrancisco</td>\n",
       "    </tr>\n",
       "    <tr>\n",
       "      <th>271358</th>\n",
       "      <td>0192126040</td>\n",
       "      <td>Republic (World's Classics)</td>\n",
       "      <td>Plato</td>\n",
       "      <td>1996</td>\n",
       "      <td>Oxford University Press</td>\n",
       "    </tr>\n",
       "    <tr>\n",
       "      <th>271359</th>\n",
       "      <td>0767409752</td>\n",
       "      <td>A Guided Tour of Rene Descartes' Meditations o...</td>\n",
       "      <td>Christopher  Biffle</td>\n",
       "      <td>2000</td>\n",
       "      <td>McGraw-Hill Humanities/Social Sciences/Languages</td>\n",
       "    </tr>\n",
       "  </tbody>\n",
       "</table>\n",
       "<p>271356 rows × 5 columns</p>\n",
       "</div>"
      ],
      "text/plain": [
       "              ISBN                                         Book-Title  \\\n",
       "0       0195153448                                Classical Mythology   \n",
       "1       0002005018                                       Clara Callan   \n",
       "2       0060973129                               Decision in Normandy   \n",
       "3       0374157065  Flu: The Story of the Great Influenza Pandemic...   \n",
       "4       0393045218                             The Mummies of Urumchi   \n",
       "...            ...                                                ...   \n",
       "271355  0440400988                         There's a Bat in Bunk Five   \n",
       "271356  0525447644                            From One to One Hundred   \n",
       "271357  006008667X  Lily Dale : The True Story of the Town that Ta...   \n",
       "271358  0192126040                        Republic (World's Classics)   \n",
       "271359  0767409752  A Guided Tour of Rene Descartes' Meditations o...   \n",
       "\n",
       "                 Book-Author  Year-Of-Publication  \\\n",
       "0         Mark P. O. Morford                 2002   \n",
       "1       Richard Bruce Wright                 2001   \n",
       "2               Carlo D'Este                 1991   \n",
       "3           Gina Bari Kolata                 1999   \n",
       "4            E. J. W. Barber                 1999   \n",
       "...                      ...                  ...   \n",
       "271355        Paula Danziger                 1988   \n",
       "271356            Teri Sloat                 1991   \n",
       "271357      Christine Wicker                 2004   \n",
       "271358                 Plato                 1996   \n",
       "271359   Christopher  Biffle                 2000   \n",
       "\n",
       "                                               Publisher  \n",
       "0                                Oxford University Press  \n",
       "1                                  HarperFlamingo Canada  \n",
       "2                                        HarperPerennial  \n",
       "3                                   Farrar Straus Giroux  \n",
       "4                             W. W. Norton &amp; Company  \n",
       "...                                                  ...  \n",
       "271355                   Random House Childrens Pub (Mm)  \n",
       "271356                                      Dutton Books  \n",
       "271357                                HarperSanFrancisco  \n",
       "271358                           Oxford University Press  \n",
       "271359  McGraw-Hill Humanities/Social Sciences/Languages  \n",
       "\n",
       "[271356 rows x 5 columns]"
      ]
     },
     "execution_count": 39,
     "metadata": {},
     "output_type": "execute_result"
    }
   ],
   "source": [
    "books"
   ]
  },
  {
   "cell_type": "code",
   "execution_count": 40,
   "id": "140e6357-78d2-4bcf-b37a-c6dff8f1c5a1",
   "metadata": {},
   "outputs": [
    {
     "data": {
      "text/plain": [
       "0"
      ]
     },
     "execution_count": 40,
     "metadata": {},
     "output_type": "execute_result"
    }
   ],
   "source": [
    "books.duplicated().sum()   "
   ]
  },
  {
   "cell_type": "code",
   "execution_count": 41,
   "id": "8a03ffc1-0acf-4ef4-8e00-315f379a43f6",
   "metadata": {},
   "outputs": [
    {
     "data": {
      "text/plain": [
       "ISBN                   271356\n",
       "Book-Title             242132\n",
       "Book-Author            102021\n",
       "Year-Of-Publication       115\n",
       "Publisher               16806\n",
       "dtype: int64"
      ]
     },
     "execution_count": 41,
     "metadata": {},
     "output_type": "execute_result"
    }
   ],
   "source": [
    "books.nunique()"
   ]
  },
  {
   "cell_type": "code",
   "execution_count": 42,
   "id": "bf71bcfa-6d29-4514-bd68-95157d419ba2",
   "metadata": {},
   "outputs": [
    {
     "data": {
      "text/plain": [
       "array([2002, 2001, 1991, 1999, 2000, 1993, 1996, 1988, 2004, 1998, 1994,\n",
       "       2003, 1997, 1983, 1979, 1995, 1982, 1985, 1992, 1986, 1978, 1980,\n",
       "       1952, 1987, 1990, 1981, 1989, 1984, 1968, 1961, 1958, 1974, 1976,\n",
       "       1971, 1977, 1975, 1965, 1941, 1970, 1962, 1973, 1972, 1960, 1966,\n",
       "       1920, 1956, 1959, 1953, 1951, 1942, 1963, 1964, 1969, 1954, 1950,\n",
       "       1967, 2005, 1957, 1940, 1937, 1955, 1946, 1936, 1930, 2011, 1925,\n",
       "       1948, 1943, 1947, 1945, 1923, 2020, 1939, 1926, 1938, 2030, 1911,\n",
       "       1904, 1949, 1932, 1928, 1929, 1927, 1931, 1914, 2050, 1934, 1910,\n",
       "       1933, 1902, 1924, 1921, 1900, 2038, 2026, 1944, 1917, 1901, 2010,\n",
       "       1908, 1906, 1935, 1806, 2021, 2012, 2006, 1909, 2008, 1378, 1919,\n",
       "       1922, 1897, 2024, 1376, 2037])"
      ]
     },
     "execution_count": 42,
     "metadata": {},
     "output_type": "execute_result"
    }
   ],
   "source": [
    "books['Year-Of-Publication'].unique()"
   ]
  },
  {
   "cell_type": "markdown",
   "id": "8e7df93b-5e49-4c64-9a32-3ce63ed50090",
   "metadata": {},
   "source": [
    "### ***Visualization***"
   ]
  },
  {
   "cell_type": "code",
   "execution_count": 44,
   "id": "d265d8ee-504f-4d11-83bb-3f83b07d132f",
   "metadata": {},
   "outputs": [
    {
     "data": {
      "text/plain": [
       "Book-Author\n",
       "Agatha Christie         632\n",
       "William Shakespeare     567\n",
       "Stephen King            524\n",
       "Ann M. Martin           423\n",
       "Carolyn Keene           373\n",
       "                       ... \n",
       "Artiste C. Arthur         1\n",
       "Emily Pearl Kingsley      1\n",
       "Jean Cassels              1\n",
       "Bernice Meyers            1\n",
       "Christopher  Biffle       1\n",
       "Name: count, Length: 102021, dtype: int64"
      ]
     },
     "execution_count": 44,
     "metadata": {},
     "output_type": "execute_result"
    }
   ],
   "source": [
    "books['Book-Author'].value_counts()"
   ]
  },
  {
   "cell_type": "markdown",
   "id": "22e6a3d9-66b6-410b-98be-0d67a3fad356",
   "metadata": {},
   "source": [
    "##### Top 10 Authors which have written the most books."
   ]
  },
  {
   "cell_type": "code",
   "execution_count": 46,
   "id": "2231f95f-be99-4247-b798-991b470c6c2d",
   "metadata": {},
   "outputs": [
    {
     "data": {
      "image/png": "[encoded data removed]",
      "text/plain": [
       "<Figure size 1500x700 with 1 Axes>"
      ]
     },
     "metadata": {},
     "output_type": "display_data"
    }
   ],
   "source": [
    "plt.figure(figsize = (15,7))\n",
    "sns.countplot(y = 'Book-Author',data = books, order = books.value_counts(books['Book-Author']).iloc[:10].index)\n",
    "plt.title('Top 10 Authors')\n",
    "\n",
    "plt.savefig('Top 10 Authors written most of the books.png')  \n",
    "plt.show()"
   ]
  },
  {
   "cell_type": "markdown",
   "id": "5dc0297d-4f09-4a1c-8316-b4ea1a74cdad",
   "metadata": {},
   "source": [
    "##### Top 10 Publisher which have published the most books."
   ]
  },
  {
   "cell_type": "code",
   "execution_count": 48,
   "id": "907d2ab7-b794-454e-bbad-8efcc29904f5",
   "metadata": {},
   "outputs": [
    {
     "data": {
      "text/plain": [
       "Publisher\n",
       "Harlequin                  7535\n",
       "Silhouette                 4220\n",
       "Pocket                     3905\n",
       "Ballantine Books           3783\n",
       "Bantam Books               3646\n",
       "                           ... \n",
       "Polaris Books                 1\n",
       "Hannover House                1\n",
       "Amber Quill Press, LLC.       1\n",
       "Lunchbox Press                1\n",
       "Connaught                     1\n",
       "Name: count, Length: 16806, dtype: int64"
      ]
     },
     "execution_count": 48,
     "metadata": {},
     "output_type": "execute_result"
    }
   ],
   "source": [
    "books['Publisher'].value_counts()"
   ]
  },
  {
   "cell_type": "code",
   "execution_count": 49,
   "id": "6a13f53a-ac37-4143-a51f-af5d9a2d1336",
   "metadata": {},
   "outputs": [
    {
     "data": {
      "image/png": "[encoded data removed]",
      "text/plain": [
       "<Figure size 1500x700 with 1 Axes>"
      ]
     },
     "metadata": {},
     "output_type": "display_data"
    }
   ],
   "source": [
    "plt.figure(figsize = (15,7))\n",
    "sns.countplot(y = 'Publisher', data = books,order = books.value_counts(books['Publisher']).iloc[:10].index,color='green')\n",
    "plt.title('Top 10 Publishers')\n",
    "\n",
    "plt.savefig('Top 10 Publishers who published most of the books.png') \n",
    "plt.show()"
   ]
  },
  {
   "cell_type": "markdown",
   "id": "8a8a3ea4-0e6c-4ef2-aed2-9f9b037554bf",
   "metadata": {},
   "source": [
    "### User's Data Pre-Processing"
   ]
  },
  {
   "cell_type": "code",
   "execution_count": 51,
   "id": "b5f5f57a-133f-4cc4-8602-445e43584009",
   "metadata": {},
   "outputs": [
    {
     "data": {
      "text/plain": [
       "(278858, 3)"
      ]
     },
     "execution_count": 51,
     "metadata": {},
     "output_type": "execute_result"
    }
   ],
   "source": [
    "users.shape"
   ]
  },
  {
   "cell_type": "code",
   "execution_count": 52,
   "id": "bbf05a48-a5a4-4291-b44f-17280cd0773b",
   "metadata": {},
   "outputs": [
    {
     "data": {
      "text/plain": [
       "User-ID       int64\n",
       "Location     object\n",
       "Age         float64\n",
       "dtype: object"
      ]
     },
     "execution_count": 52,
     "metadata": {},
     "output_type": "execute_result"
    }
   ],
   "source": [
    "users.dtypes"
   ]
  },
  {
   "cell_type": "code",
   "execution_count": 53,
   "id": "7c0ba68a-d1b9-4eec-b3e6-76f84635e568",
   "metadata": {},
   "outputs": [
    {
     "data": {
      "text/plain": [
       "User-ID          0\n",
       "Location         0\n",
       "Age         110762\n",
       "dtype: int64"
      ]
     },
     "execution_count": 53,
     "metadata": {},
     "output_type": "execute_result"
    }
   ],
   "source": [
    "users.isna().sum()"
   ]
  },
  {
   "cell_type": "code",
   "execution_count": 54,
   "id": "2e4a4205-d5e3-4fe2-96bf-271ad200c6dc",
   "metadata": {},
   "outputs": [
    {
     "data": {
      "text/plain": [
       "User-ID      0.000000\n",
       "Location     0.000000\n",
       "Age         39.719857\n",
       "dtype: float64"
      ]
     },
     "execution_count": 54,
     "metadata": {},
     "output_type": "execute_result"
    }
   ],
   "source": [
    "users.isna().sum()/len(users)*100"
   ]
  },
  {
   "cell_type": "code",
   "execution_count": 55,
   "id": "425ac6a7-e32f-406c-9871-365f05fe3524",
   "metadata": {},
   "outputs": [
    {
     "data": {
      "text/plain": [
       "count    168096.000000\n",
       "mean         34.751434\n",
       "std          14.428097\n",
       "min           0.000000\n",
       "25%          24.000000\n",
       "50%          32.000000\n",
       "75%          44.000000\n",
       "max         244.000000\n",
       "Name: Age, dtype: float64"
      ]
     },
     "execution_count": 55,
     "metadata": {},
     "output_type": "execute_result"
    }
   ],
   "source": [
    "users['Age'].describe()"
   ]
  },
  {
   "cell_type": "code",
   "execution_count": 56,
   "id": "c6ddb72b-b498-4659-a8f1-c53aecbd78e7",
   "metadata": {},
   "outputs": [
    {
     "data": {
      "image/png": "[encoded data removed]",
      "text/plain": [
       "<Figure size 640x480 with 1 Axes>"
      ]
     },
     "metadata": {},
     "output_type": "display_data"
    }
   ],
   "source": [
    "#Understanding the Distribution of Age Column\n",
    "\n",
    "sns.distplot(users['Age'])\n",
    "\n",
    "plt.savefig('Age data distribution.png')\n",
    "plt.show()"
   ]
  },
  {
   "cell_type": "code",
   "execution_count": 57,
   "id": "c4fcc959-0a13-47b7-b1f5-c60af478ac87",
   "metadata": {},
   "outputs": [
    {
     "name": "stdout",
     "output_type": "stream",
     "text": [
      "32.0\n"
     ]
    }
   ],
   "source": [
    "median = users['Age'].median()\n",
    "print(median)"
   ]
  },
  {
   "cell_type": "code",
   "execution_count": 58,
   "id": "6932d0ff-57f4-48a3-962e-d6b02e160fa6",
   "metadata": {},
   "outputs": [],
   "source": [
    "#Filling the null values of Age column by median of Age Column\n",
    "\n",
    "users['Age'] = users['Age'].fillna(median)   "
   ]
  },
  {
   "cell_type": "code",
   "execution_count": 59,
   "id": "38254467-cf8d-4c2a-80eb-0317f8ff0bbf",
   "metadata": {},
   "outputs": [
    {
     "data": {
      "text/plain": [
       "User-ID     0\n",
       "Location    0\n",
       "Age         0\n",
       "dtype: int64"
      ]
     },
     "execution_count": 59,
     "metadata": {},
     "output_type": "execute_result"
    }
   ],
   "source": [
    "users.isna().sum()"
   ]
  },
  {
   "cell_type": "code",
   "execution_count": 60,
   "id": "43ccba5f-e6d5-4513-b5fa-84f175921ca1",
   "metadata": {},
   "outputs": [
    {
     "data": {
      "text/plain": [
       "0"
      ]
     },
     "execution_count": 60,
     "metadata": {},
     "output_type": "execute_result"
    }
   ],
   "source": [
    "users.duplicated().sum()   "
   ]
  },
  {
   "cell_type": "code",
   "execution_count": 61,
   "id": "a853306c-e7ae-4e54-98a6-483283d98e30",
   "metadata": {},
   "outputs": [
    {
     "data": {
      "text/plain": [
       "Location\n",
       "london, england, united kingdom                  2506\n",
       "toronto, ontario, canada                         2250\n",
       "sydney, new south wales, australia               1744\n",
       "melbourne, victoria, australia                   1708\n",
       "portland, oregon, usa                            1629\n",
       "                                                 ... \n",
       "gneisenaustr. 3, nordrhein-westfalen, germany       1\n",
       "-, bayern, germany                                  1\n",
       "bouchegouf, guelma, algeria                         1\n",
       "indiana and philadelphia, pennsylvania, usa         1\n",
       "tacoma, washington, united kingdom                  1\n",
       "Name: count, Length: 57339, dtype: int64"
      ]
     },
     "execution_count": 61,
     "metadata": {},
     "output_type": "execute_result"
    }
   ],
   "source": [
    "users['Location'].value_counts()"
   ]
  },
  {
   "cell_type": "markdown",
   "id": "e6009171-4ea8-4652-b040-3cd874a7cf75",
   "metadata": {},
   "source": [
    "### ***Visualization***"
   ]
  },
  {
   "cell_type": "code",
   "execution_count": 63,
   "id": "d0341283-e0c6-43e4-bea4-5141dd78e566",
   "metadata": {},
   "outputs": [
    {
     "data": {
      "image/png": "[encoded data removed]",
      "text/plain": [
       "<Figure size 1500x600 with 1 Axes>"
      ]
     },
     "metadata": {},
     "output_type": "display_data"
    }
   ],
   "source": [
    "#Plot of where most of the Users are from\n",
    "#Plot top 10 locations of users\n",
    "\n",
    "users['Location'].value_counts().head(10).plot(kind='bar', color='skyblue', figsize=(15, 6))\n",
    "plt.title('Top 10 Locations of Users')\n",
    "plt.xlabel('Location')\n",
    "plt.ylabel('Number of Users')\n",
    "plt.xticks(rotation=45)\n",
    "plt.tight_layout()\n",
    "\n",
    "plt.savefig('Top 10 Locations of most of the users.png')\n",
    "plt.show()"
   ]
  },
  {
   "cell_type": "markdown",
   "id": "35f07994-3ae5-4442-bf8c-86ee9d57a5b8",
   "metadata": {},
   "source": [
    "### Ratings Data Pre-Processing"
   ]
  },
  {
   "cell_type": "code",
   "execution_count": 65,
   "id": "4b6c5ab3-2d76-4d8b-86b1-03890226e809",
   "metadata": {},
   "outputs": [
    {
     "data": {
      "text/plain": [
       "(1149780, 3)"
      ]
     },
     "execution_count": 65,
     "metadata": {},
     "output_type": "execute_result"
    }
   ],
   "source": [
    "ratings.shape"
   ]
  },
  {
   "cell_type": "code",
   "execution_count": 66,
   "id": "5b8f64d5-9784-4375-8a36-d2980e406e8e",
   "metadata": {},
   "outputs": [
    {
     "data": {
      "text/plain": [
       "User-ID         int64\n",
       "ISBN           object\n",
       "Book-Rating     int64\n",
       "dtype: object"
      ]
     },
     "execution_count": 66,
     "metadata": {},
     "output_type": "execute_result"
    }
   ],
   "source": [
    "ratings.dtypes"
   ]
  },
  {
   "cell_type": "code",
   "execution_count": 67,
   "id": "4d4d4193-004e-4edd-b2c6-e81a4c0f0547",
   "metadata": {},
   "outputs": [
    {
     "data": {
      "text/plain": [
       "User-ID        0\n",
       "ISBN           0\n",
       "Book-Rating    0\n",
       "dtype: int64"
      ]
     },
     "execution_count": 67,
     "metadata": {},
     "output_type": "execute_result"
    }
   ],
   "source": [
    "ratings.isna().sum()"
   ]
  },
  {
   "cell_type": "code",
   "execution_count": 68,
   "id": "c5760497-057f-4a5e-b9cf-519116fcf45a",
   "metadata": {},
   "outputs": [
    {
     "data": {
      "text/plain": [
       "count    1149780.00\n",
       "mean           2.87\n",
       "std            3.85\n",
       "min            0.00\n",
       "25%            0.00\n",
       "50%            0.00\n",
       "75%            7.00\n",
       "max           10.00\n",
       "Name: Book-Rating, dtype: float64"
      ]
     },
     "execution_count": 68,
     "metadata": {},
     "output_type": "execute_result"
    }
   ],
   "source": [
    "np.round(ratings['Book-Rating'].describe(),2)\n",
    "\n",
    "#Average Rating given by Users including 0 value"
   ]
  },
  {
   "cell_type": "code",
   "execution_count": 69,
   "id": "42f53e02-ccc9-4156-b93e-4109c6c38585",
   "metadata": {},
   "outputs": [
    {
     "data": {
      "text/plain": [
       "array([ 0,  5,  3,  6,  8,  7, 10,  9,  4,  1,  2], dtype=int64)"
      ]
     },
     "execution_count": 69,
     "metadata": {},
     "output_type": "execute_result"
    }
   ],
   "source": [
    "ratings['Book-Rating'].unique()"
   ]
  },
  {
   "cell_type": "code",
   "execution_count": 70,
   "id": "87da5d3d-1237-4876-b293-453454e9fa18",
   "metadata": {},
   "outputs": [
    {
     "data": {
      "text/plain": [
       "11"
      ]
     },
     "execution_count": 70,
     "metadata": {},
     "output_type": "execute_result"
    }
   ],
   "source": [
    "ratings['Book-Rating'].nunique()"
   ]
  },
  {
   "cell_type": "code",
   "execution_count": 71,
   "id": "c4b1c820-d29d-45ae-a62e-4e0ba08a8ef0",
   "metadata": {},
   "outputs": [
    {
     "data": {
      "text/plain": [
       "0"
      ]
     },
     "execution_count": 71,
     "metadata": {},
     "output_type": "execute_result"
    }
   ],
   "source": [
    "ratings.duplicated().sum()"
   ]
  },
  {
   "cell_type": "code",
   "execution_count": 72,
   "id": "985ce01c-7b3e-4b1e-8e7d-872af1ba666f",
   "metadata": {},
   "outputs": [
    {
     "data": {
      "text/plain": [
       "Book-Rating\n",
       "0     716109\n",
       "8     103736\n",
       "10     78610\n",
       "7      76457\n",
       "9      67541\n",
       "5      50974\n",
       "6      36924\n",
       "4       8904\n",
       "3       5996\n",
       "2       2759\n",
       "1       1770\n",
       "Name: count, dtype: int64"
      ]
     },
     "execution_count": 72,
     "metadata": {},
     "output_type": "execute_result"
    }
   ],
   "source": [
    "ratings['Book-Rating'].value_counts()"
   ]
  },
  {
   "cell_type": "markdown",
   "id": "c6d940c4-9e8e-4fc8-96b6-a59c4d60a034",
   "metadata": {},
   "source": [
    "### ***Visualization***"
   ]
  },
  {
   "cell_type": "markdown",
   "id": "a0e3f20e-e49d-4fd9-a066-08ea32476bc0",
   "metadata": {},
   "source": [
    "##### Books Rating Distribution"
   ]
  },
  {
   "cell_type": "code",
   "execution_count": 75,
   "id": "8250d4e8-be27-4d47-8136-475a44cad8de",
   "metadata": {},
   "outputs": [
    {
     "data": {
      "image/png": "[encoded data removed]",
      "text/plain": [
       "<Figure size 1000x600 with 1 Axes>"
      ]
     },
     "metadata": {},
     "output_type": "display_data"
    }
   ],
   "source": [
    "rating_counts = ratings['Book-Rating'].value_counts()\n",
    "\n",
    "plt.figure(figsize=(10, 6))\n",
    "rating_counts.plot(kind='bar', color = 'red')\n",
    "\n",
    "plt.title('Distribution of Book Ratings')\n",
    "plt.xlabel('Book Rating')\n",
    "plt.ylabel('Count')\n",
    "plt.show()"
   ]
  },
  {
   "cell_type": "markdown",
   "id": "364538ed-bacd-497a-a9e5-411483b27243",
   "metadata": {},
   "source": [
    "##### Segregating value 0 to understand the proper ratings of books given by users from the scale 1-10"
   ]
  },
  {
   "cell_type": "code",
   "execution_count": 77,
   "id": "df1158eb-11cd-4939-a65b-2eed27740c8c",
   "metadata": {},
   "outputs": [],
   "source": [
    "new_ratings = ratings[ratings['Book-Rating'] != 0]"
   ]
  },
  {
   "cell_type": "code",
   "execution_count": 78,
   "id": "de40ad69-269e-4c71-98d8-49d2216d42fe",
   "metadata": {},
   "outputs": [
    {
     "data": {
      "text/plain": [
       "Book-Rating\n",
       "8     103736\n",
       "10     78610\n",
       "7      76457\n",
       "9      67541\n",
       "5      50974\n",
       "6      36924\n",
       "4       8904\n",
       "3       5996\n",
       "2       2759\n",
       "1       1770\n",
       "Name: count, dtype: int64"
      ]
     },
     "execution_count": 78,
     "metadata": {},
     "output_type": "execute_result"
    }
   ],
   "source": [
    "new_ratings['Book-Rating'].value_counts()"
   ]
  },
  {
   "cell_type": "code",
   "execution_count": 79,
   "id": "21afae3a-6d9b-4cb5-a464-c0fede38a845",
   "metadata": {},
   "outputs": [
    {
     "data": {
      "text/plain": [
       "count    433671.00\n",
       "mean          7.60\n",
       "std           1.84\n",
       "min           1.00\n",
       "25%           7.00\n",
       "50%           8.00\n",
       "75%           9.00\n",
       "max          10.00\n",
       "Name: Book-Rating, dtype: float64"
      ]
     },
     "execution_count": 79,
     "metadata": {},
     "output_type": "execute_result"
    }
   ],
   "source": [
    "np.round(new_ratings['Book-Rating'].describe(),2)\n",
    "\n",
    "#After removing 0 (implicit value) Average rating we are getting is 7.60"
   ]
  },
  {
   "cell_type": "markdown",
   "id": "4ed234dc-8606-4835-801b-bbc2f51501e8",
   "metadata": {},
   "source": [
    "### ***Visualization after Removing 0 from Rating***"
   ]
  },
  {
   "cell_type": "markdown",
   "id": "ccb24403-d580-4c2f-abd5-6e4b192e88ec",
   "metadata": {},
   "source": [
    "##### ***Ratings given by most of the users***"
   ]
  },
  {
   "cell_type": "code",
   "execution_count": 82,
   "id": "7806eca7-99f7-4524-b3d0-a3de9c99c568",
   "metadata": {},
   "outputs": [
    {
     "data": {
      "image/png": "[encoded data removed]",
      "text/plain": [
       "<Figure size 1000x600 with 1 Axes>"
      ]
     },
     "metadata": {},
     "output_type": "display_data"
    }
   ],
   "source": [
    "new_rating_counts = new_ratings['Book-Rating'].value_counts()\n",
    "\n",
    "plt.figure(figsize=(10, 6))\n",
    "new_rating_counts.plot(kind='bar', color = 'blue')\n",
    "\n",
    "plt.title('Distribution of Book Ratings')\n",
    "plt.xlabel('Book Rating')\n",
    "plt.ylabel('Count')\n",
    "\n",
    "plt.savefig('Books ratings by user.png')\n",
    "plt.show()"
   ]
  },
  {
   "cell_type": "code",
   "execution_count": 83,
   "id": "4baa17e1-0796-4f21-b2ba-33242190f952",
   "metadata": {},
   "outputs": [
    {
     "data": {
      "text/plain": [
       "(1149780, 3)"
      ]
     },
     "execution_count": 83,
     "metadata": {},
     "output_type": "execute_result"
    }
   ],
   "source": [
    "ratings.shape"
   ]
  },
  {
   "cell_type": "code",
   "execution_count": 84,
   "id": "aed7ebf2-b417-4fe2-9fb6-3d3778ef618a",
   "metadata": {},
   "outputs": [
    {
     "data": {
      "text/plain": [
       "(433671, 3)"
      ]
     },
     "execution_count": 84,
     "metadata": {},
     "output_type": "execute_result"
    }
   ],
   "source": [
    "new_ratings.shape"
   ]
  },
  {
   "cell_type": "markdown",
   "id": "46bf6165-7f9f-4bd2-9df0-4e7fcfb58177",
   "metadata": {},
   "source": [
    "### Merging Datasets"
   ]
  },
  {
   "cell_type": "code",
   "execution_count": 86,
   "id": "8ed80798-fcd1-4cb1-9a25-4638af79b97d",
   "metadata": {},
   "outputs": [],
   "source": [
    "#Merging Books and Rating Dataset where 0 value of rating is not present on similar column 'ISBN'\n",
    "\n",
    "df = pd.merge(books,new_ratings, on = 'ISBN')"
   ]
  },
  {
   "cell_type": "code",
   "execution_count": 87,
   "id": "70596a45-c46a-4d2c-9f00-9393e04e1e32",
   "metadata": {},
   "outputs": [
    {
     "data": {
      "text/html": [
       "<div>\n",
       "<style scoped>\n",
       "    .dataframe tbody tr th:only-of-type {\n",
       "        vertical-align: middle;\n",
       "    }\n",
       "\n",
       "    .dataframe tbody tr th {\n",
       "        vertical-align: top;\n",
       "    }\n",
       "\n",
       "    .dataframe thead th {\n",
       "        text-align: right;\n",
       "    }\n",
       "</style>\n",
       "<table border=\"1\" class=\"dataframe\">\n",
       "  <thead>\n",
       "    <tr style=\"text-align: right;\">\n",
       "      <th></th>\n",
       "      <th>ISBN</th>\n",
       "      <th>Book-Title</th>\n",
       "      <th>Book-Author</th>\n",
       "      <th>Year-Of-Publication</th>\n",
       "      <th>Publisher</th>\n",
       "      <th>User-ID</th>\n",
       "      <th>Book-Rating</th>\n",
       "    </tr>\n",
       "  </thead>\n",
       "  <tbody>\n",
       "    <tr>\n",
       "      <th>0</th>\n",
       "      <td>0002005018</td>\n",
       "      <td>Clara Callan</td>\n",
       "      <td>Richard Bruce Wright</td>\n",
       "      <td>2001</td>\n",
       "      <td>HarperFlamingo Canada</td>\n",
       "      <td>8</td>\n",
       "      <td>5</td>\n",
       "    </tr>\n",
       "    <tr>\n",
       "      <th>1</th>\n",
       "      <td>0002005018</td>\n",
       "      <td>Clara Callan</td>\n",
       "      <td>Richard Bruce Wright</td>\n",
       "      <td>2001</td>\n",
       "      <td>HarperFlamingo Canada</td>\n",
       "      <td>11676</td>\n",
       "      <td>8</td>\n",
       "    </tr>\n",
       "    <tr>\n",
       "      <th>2</th>\n",
       "      <td>0002005018</td>\n",
       "      <td>Clara Callan</td>\n",
       "      <td>Richard Bruce Wright</td>\n",
       "      <td>2001</td>\n",
       "      <td>HarperFlamingo Canada</td>\n",
       "      <td>67544</td>\n",
       "      <td>8</td>\n",
       "    </tr>\n",
       "    <tr>\n",
       "      <th>3</th>\n",
       "      <td>0002005018</td>\n",
       "      <td>Clara Callan</td>\n",
       "      <td>Richard Bruce Wright</td>\n",
       "      <td>2001</td>\n",
       "      <td>HarperFlamingo Canada</td>\n",
       "      <td>116866</td>\n",
       "      <td>9</td>\n",
       "    </tr>\n",
       "    <tr>\n",
       "      <th>4</th>\n",
       "      <td>0002005018</td>\n",
       "      <td>Clara Callan</td>\n",
       "      <td>Richard Bruce Wright</td>\n",
       "      <td>2001</td>\n",
       "      <td>HarperFlamingo Canada</td>\n",
       "      <td>123629</td>\n",
       "      <td>9</td>\n",
       "    </tr>\n",
       "    <tr>\n",
       "      <th>...</th>\n",
       "      <td>...</td>\n",
       "      <td>...</td>\n",
       "      <td>...</td>\n",
       "      <td>...</td>\n",
       "      <td>...</td>\n",
       "      <td>...</td>\n",
       "      <td>...</td>\n",
       "    </tr>\n",
       "    <tr>\n",
       "      <th>383833</th>\n",
       "      <td>0395264707</td>\n",
       "      <td>Dreamsnake</td>\n",
       "      <td>Vonda N. McIntyre</td>\n",
       "      <td>1978</td>\n",
       "      <td>Houghton Mifflin</td>\n",
       "      <td>275318</td>\n",
       "      <td>10</td>\n",
       "    </tr>\n",
       "    <tr>\n",
       "      <th>383834</th>\n",
       "      <td>1845170423</td>\n",
       "      <td>Cocktail Classics</td>\n",
       "      <td>David Biggs</td>\n",
       "      <td>2004</td>\n",
       "      <td>Connaught</td>\n",
       "      <td>275970</td>\n",
       "      <td>7</td>\n",
       "    </tr>\n",
       "    <tr>\n",
       "      <th>383835</th>\n",
       "      <td>0449906736</td>\n",
       "      <td>Flashpoints: Promise and Peril in a New World</td>\n",
       "      <td>Robin Wright</td>\n",
       "      <td>1993</td>\n",
       "      <td>Ballantine Books</td>\n",
       "      <td>276313</td>\n",
       "      <td>5</td>\n",
       "    </tr>\n",
       "    <tr>\n",
       "      <th>383836</th>\n",
       "      <td>0440400988</td>\n",
       "      <td>There's a Bat in Bunk Five</td>\n",
       "      <td>Paula Danziger</td>\n",
       "      <td>1988</td>\n",
       "      <td>Random House Childrens Pub (Mm)</td>\n",
       "      <td>276463</td>\n",
       "      <td>7</td>\n",
       "    </tr>\n",
       "    <tr>\n",
       "      <th>383837</th>\n",
       "      <td>0525447644</td>\n",
       "      <td>From One to One Hundred</td>\n",
       "      <td>Teri Sloat</td>\n",
       "      <td>1991</td>\n",
       "      <td>Dutton Books</td>\n",
       "      <td>276579</td>\n",
       "      <td>4</td>\n",
       "    </tr>\n",
       "  </tbody>\n",
       "</table>\n",
       "<p>383838 rows × 7 columns</p>\n",
       "</div>"
      ],
      "text/plain": [
       "              ISBN                                     Book-Title  \\\n",
       "0       0002005018                                   Clara Callan   \n",
       "1       0002005018                                   Clara Callan   \n",
       "2       0002005018                                   Clara Callan   \n",
       "3       0002005018                                   Clara Callan   \n",
       "4       0002005018                                   Clara Callan   \n",
       "...            ...                                            ...   \n",
       "383833  0395264707                                     Dreamsnake   \n",
       "383834  1845170423                              Cocktail Classics   \n",
       "383835  0449906736  Flashpoints: Promise and Peril in a New World   \n",
       "383836  0440400988                     There's a Bat in Bunk Five   \n",
       "383837  0525447644                        From One to One Hundred   \n",
       "\n",
       "                 Book-Author  Year-Of-Publication  \\\n",
       "0       Richard Bruce Wright                 2001   \n",
       "1       Richard Bruce Wright                 2001   \n",
       "2       Richard Bruce Wright                 2001   \n",
       "3       Richard Bruce Wright                 2001   \n",
       "4       Richard Bruce Wright                 2001   \n",
       "...                      ...                  ...   \n",
       "383833     Vonda N. McIntyre                 1978   \n",
       "383834           David Biggs                 2004   \n",
       "383835          Robin Wright                 1993   \n",
       "383836        Paula Danziger                 1988   \n",
       "383837            Teri Sloat                 1991   \n",
       "\n",
       "                              Publisher  User-ID  Book-Rating  \n",
       "0                 HarperFlamingo Canada        8            5  \n",
       "1                 HarperFlamingo Canada    11676            8  \n",
       "2                 HarperFlamingo Canada    67544            8  \n",
       "3                 HarperFlamingo Canada   116866            9  \n",
       "4                 HarperFlamingo Canada   123629            9  \n",
       "...                                 ...      ...          ...  \n",
       "383833                 Houghton Mifflin   275318           10  \n",
       "383834                        Connaught   275970            7  \n",
       "383835                 Ballantine Books   276313            5  \n",
       "383836  Random House Childrens Pub (Mm)   276463            7  \n",
       "383837                     Dutton Books   276579            4  \n",
       "\n",
       "[383838 rows x 7 columns]"
      ]
     },
     "execution_count": 87,
     "metadata": {},
     "output_type": "execute_result"
    }
   ],
   "source": [
    "df"
   ]
  },
  {
   "cell_type": "code",
   "execution_count": 88,
   "id": "fb981647-e4ee-437e-bfec-4fb38fa6261e",
   "metadata": {},
   "outputs": [],
   "source": [
    "#Merging User dataset with above df on similar column which is 'User-ID'\n",
    "\n",
    "final_df = pd.merge(users,df, on = 'User-ID')"
   ]
  },
  {
   "cell_type": "code",
   "execution_count": 89,
   "id": "b79ecbfb-d67a-409f-80bc-0ee59d7817b3",
   "metadata": {},
   "outputs": [
    {
     "data": {
      "text/html": [
       "<div>\n",
       "<style scoped>\n",
       "    .dataframe tbody tr th:only-of-type {\n",
       "        vertical-align: middle;\n",
       "    }\n",
       "\n",
       "    .dataframe tbody tr th {\n",
       "        vertical-align: top;\n",
       "    }\n",
       "\n",
       "    .dataframe thead th {\n",
       "        text-align: right;\n",
       "    }\n",
       "</style>\n",
       "<table border=\"1\" class=\"dataframe\">\n",
       "  <thead>\n",
       "    <tr style=\"text-align: right;\">\n",
       "      <th></th>\n",
       "      <th>User-ID</th>\n",
       "      <th>Location</th>\n",
       "      <th>Age</th>\n",
       "      <th>ISBN</th>\n",
       "      <th>Book-Title</th>\n",
       "      <th>Book-Author</th>\n",
       "      <th>Year-Of-Publication</th>\n",
       "      <th>Publisher</th>\n",
       "      <th>Book-Rating</th>\n",
       "    </tr>\n",
       "  </thead>\n",
       "  <tbody>\n",
       "    <tr>\n",
       "      <th>0</th>\n",
       "      <td>8</td>\n",
       "      <td>timmins, ontario, canada</td>\n",
       "      <td>32.0</td>\n",
       "      <td>0002005018</td>\n",
       "      <td>Clara Callan</td>\n",
       "      <td>Richard Bruce Wright</td>\n",
       "      <td>2001</td>\n",
       "      <td>HarperFlamingo Canada</td>\n",
       "      <td>5</td>\n",
       "    </tr>\n",
       "    <tr>\n",
       "      <th>1</th>\n",
       "      <td>8</td>\n",
       "      <td>timmins, ontario, canada</td>\n",
       "      <td>32.0</td>\n",
       "      <td>074322678X</td>\n",
       "      <td>Where You'll Find Me: And Other Stories</td>\n",
       "      <td>Ann Beattie</td>\n",
       "      <td>2002</td>\n",
       "      <td>Scribner</td>\n",
       "      <td>5</td>\n",
       "    </tr>\n",
       "    <tr>\n",
       "      <th>2</th>\n",
       "      <td>8</td>\n",
       "      <td>timmins, ontario, canada</td>\n",
       "      <td>32.0</td>\n",
       "      <td>0887841740</td>\n",
       "      <td>The Middle Stories</td>\n",
       "      <td>Sheila Heti</td>\n",
       "      <td>2004</td>\n",
       "      <td>House of Anansi Press</td>\n",
       "      <td>5</td>\n",
       "    </tr>\n",
       "    <tr>\n",
       "      <th>3</th>\n",
       "      <td>8</td>\n",
       "      <td>timmins, ontario, canada</td>\n",
       "      <td>32.0</td>\n",
       "      <td>1552041778</td>\n",
       "      <td>Jane Doe</td>\n",
       "      <td>R. J. Kaiser</td>\n",
       "      <td>1999</td>\n",
       "      <td>Mira Books</td>\n",
       "      <td>5</td>\n",
       "    </tr>\n",
       "    <tr>\n",
       "      <th>4</th>\n",
       "      <td>8</td>\n",
       "      <td>timmins, ontario, canada</td>\n",
       "      <td>32.0</td>\n",
       "      <td>1567407781</td>\n",
       "      <td>The Witchfinder (Amos Walker Mystery Series)</td>\n",
       "      <td>Loren D. Estleman</td>\n",
       "      <td>1998</td>\n",
       "      <td>Brilliance Audio - Trade</td>\n",
       "      <td>6</td>\n",
       "    </tr>\n",
       "    <tr>\n",
       "      <th>...</th>\n",
       "      <td>...</td>\n",
       "      <td>...</td>\n",
       "      <td>...</td>\n",
       "      <td>...</td>\n",
       "      <td>...</td>\n",
       "      <td>...</td>\n",
       "      <td>...</td>\n",
       "      <td>...</td>\n",
       "      <td>...</td>\n",
       "    </tr>\n",
       "    <tr>\n",
       "      <th>383833</th>\n",
       "      <td>278854</td>\n",
       "      <td>portland, oregon, usa</td>\n",
       "      <td>32.0</td>\n",
       "      <td>042516098X</td>\n",
       "      <td>Hornet's Nest</td>\n",
       "      <td>Patricia Daniels Cornwell</td>\n",
       "      <td>1998</td>\n",
       "      <td>Berkley Publishing Group</td>\n",
       "      <td>7</td>\n",
       "    </tr>\n",
       "    <tr>\n",
       "      <th>383834</th>\n",
       "      <td>278854</td>\n",
       "      <td>portland, oregon, usa</td>\n",
       "      <td>32.0</td>\n",
       "      <td>0316184152</td>\n",
       "      <td>Final Harvest : Poems</td>\n",
       "      <td>Emily Dickinson</td>\n",
       "      <td>1964</td>\n",
       "      <td>Back Bay Books</td>\n",
       "      <td>7</td>\n",
       "    </tr>\n",
       "    <tr>\n",
       "      <th>383835</th>\n",
       "      <td>278854</td>\n",
       "      <td>portland, oregon, usa</td>\n",
       "      <td>32.0</td>\n",
       "      <td>0375703063</td>\n",
       "      <td>A Virtuous Woman (Oprah's Book Club (Paperback))</td>\n",
       "      <td>Kaye Gibbons</td>\n",
       "      <td>1997</td>\n",
       "      <td>Vintage Books</td>\n",
       "      <td>7</td>\n",
       "    </tr>\n",
       "    <tr>\n",
       "      <th>383836</th>\n",
       "      <td>278854</td>\n",
       "      <td>portland, oregon, usa</td>\n",
       "      <td>32.0</td>\n",
       "      <td>0553275739</td>\n",
       "      <td>In Her Day</td>\n",
       "      <td>Rita Mae Brown</td>\n",
       "      <td>1988</td>\n",
       "      <td>Bantam Books</td>\n",
       "      <td>6</td>\n",
       "    </tr>\n",
       "    <tr>\n",
       "      <th>383837</th>\n",
       "      <td>278854</td>\n",
       "      <td>portland, oregon, usa</td>\n",
       "      <td>32.0</td>\n",
       "      <td>0425163393</td>\n",
       "      <td>Kat Scratch Fever (Kat Colorado Mysteries)</td>\n",
       "      <td>Karen Kijewski</td>\n",
       "      <td>1998</td>\n",
       "      <td>Berkley Publishing Group</td>\n",
       "      <td>7</td>\n",
       "    </tr>\n",
       "  </tbody>\n",
       "</table>\n",
       "<p>383838 rows × 9 columns</p>\n",
       "</div>"
      ],
      "text/plain": [
       "        User-ID                  Location   Age        ISBN  \\\n",
       "0             8  timmins, ontario, canada  32.0  0002005018   \n",
       "1             8  timmins, ontario, canada  32.0  074322678X   \n",
       "2             8  timmins, ontario, canada  32.0  0887841740   \n",
       "3             8  timmins, ontario, canada  32.0  1552041778   \n",
       "4             8  timmins, ontario, canada  32.0  1567407781   \n",
       "...         ...                       ...   ...         ...   \n",
       "383833   278854     portland, oregon, usa  32.0  042516098X   \n",
       "383834   278854     portland, oregon, usa  32.0  0316184152   \n",
       "383835   278854     portland, oregon, usa  32.0  0375703063   \n",
       "383836   278854     portland, oregon, usa  32.0  0553275739   \n",
       "383837   278854     portland, oregon, usa  32.0  0425163393   \n",
       "\n",
       "                                              Book-Title  \\\n",
       "0                                           Clara Callan   \n",
       "1                Where You'll Find Me: And Other Stories   \n",
       "2                                     The Middle Stories   \n",
       "3                                               Jane Doe   \n",
       "4           The Witchfinder (Amos Walker Mystery Series)   \n",
       "...                                                  ...   \n",
       "383833                                     Hornet's Nest   \n",
       "383834                             Final Harvest : Poems   \n",
       "383835  A Virtuous Woman (Oprah's Book Club (Paperback))   \n",
       "383836                                        In Her Day   \n",
       "383837        Kat Scratch Fever (Kat Colorado Mysteries)   \n",
       "\n",
       "                      Book-Author  Year-Of-Publication  \\\n",
       "0            Richard Bruce Wright                 2001   \n",
       "1                     Ann Beattie                 2002   \n",
       "2                     Sheila Heti                 2004   \n",
       "3                    R. J. Kaiser                 1999   \n",
       "4               Loren D. Estleman                 1998   \n",
       "...                           ...                  ...   \n",
       "383833  Patricia Daniels Cornwell                 1998   \n",
       "383834            Emily Dickinson                 1964   \n",
       "383835               Kaye Gibbons                 1997   \n",
       "383836             Rita Mae Brown                 1988   \n",
       "383837             Karen Kijewski                 1998   \n",
       "\n",
       "                       Publisher  Book-Rating  \n",
       "0          HarperFlamingo Canada            5  \n",
       "1                       Scribner            5  \n",
       "2          House of Anansi Press            5  \n",
       "3                     Mira Books            5  \n",
       "4       Brilliance Audio - Trade            6  \n",
       "...                          ...          ...  \n",
       "383833  Berkley Publishing Group            7  \n",
       "383834            Back Bay Books            7  \n",
       "383835             Vintage Books            7  \n",
       "383836              Bantam Books            6  \n",
       "383837  Berkley Publishing Group            7  \n",
       "\n",
       "[383838 rows x 9 columns]"
      ]
     },
     "execution_count": 89,
     "metadata": {},
     "output_type": "execute_result"
    }
   ],
   "source": [
    "final_df"
   ]
  },
  {
   "cell_type": "code",
   "execution_count": 90,
   "id": "c3305dcd-01a1-4413-bb77-ffded0b99d17",
   "metadata": {},
   "outputs": [
    {
     "data": {
      "text/plain": [
       "User-ID                0\n",
       "Location               0\n",
       "Age                    0\n",
       "ISBN                   0\n",
       "Book-Title             0\n",
       "Book-Author            0\n",
       "Year-Of-Publication    0\n",
       "Publisher              0\n",
       "Book-Rating            0\n",
       "dtype: int64"
      ]
     },
     "execution_count": 90,
     "metadata": {},
     "output_type": "execute_result"
    }
   ],
   "source": [
    "final_df.isna().sum()"
   ]
  },
  {
   "cell_type": "code",
   "execution_count": 91,
   "id": "6db75505-ed69-49b4-9276-0c690d877d48",
   "metadata": {},
   "outputs": [
    {
     "data": {
      "text/plain": [
       "User-ID                0.0\n",
       "Location               0.0\n",
       "Age                    0.0\n",
       "ISBN                   0.0\n",
       "Book-Title             0.0\n",
       "Book-Author            0.0\n",
       "Year-Of-Publication    0.0\n",
       "Publisher              0.0\n",
       "Book-Rating            0.0\n",
       "dtype: float64"
      ]
     },
     "execution_count": 91,
     "metadata": {},
     "output_type": "execute_result"
    }
   ],
   "source": [
    "final_df.isna().sum()/len(final_df)*100"
   ]
  },
  {
   "cell_type": "code",
   "execution_count": 92,
   "id": "563a32e4-9bda-4371-8c74-6f38f3307ac2",
   "metadata": {},
   "outputs": [
    {
     "name": "stdout",
     "output_type": "stream",
     "text": [
      "<class 'pandas.core.frame.DataFrame'>\n",
      "RangeIndex: 383838 entries, 0 to 383837\n",
      "Data columns (total 9 columns):\n",
      " #   Column               Non-Null Count   Dtype  \n",
      "---  ------               --------------   -----  \n",
      " 0   User-ID              383838 non-null  int64  \n",
      " 1   Location             383838 non-null  object \n",
      " 2   Age                  383838 non-null  float64\n",
      " 3   ISBN                 383838 non-null  object \n",
      " 4   Book-Title           383838 non-null  object \n",
      " 5   Book-Author          383838 non-null  object \n",
      " 6   Year-Of-Publication  383838 non-null  int32  \n",
      " 7   Publisher            383838 non-null  object \n",
      " 8   Book-Rating          383838 non-null  int64  \n",
      "dtypes: float64(1), int32(1), int64(2), object(5)\n",
      "memory usage: 24.9+ MB\n"
     ]
    }
   ],
   "source": [
    "final_df.info()"
   ]
  },
  {
   "cell_type": "code",
   "execution_count": 93,
   "id": "3dd06c19-611a-44b4-b4e8-9599835b76a6",
   "metadata": {},
   "outputs": [
    {
     "data": {
      "text/plain": [
       "(383838, 9)"
      ]
     },
     "execution_count": 93,
     "metadata": {},
     "output_type": "execute_result"
    }
   ],
   "source": [
    "final_df.shape"
   ]
  },
  {
   "cell_type": "code",
   "execution_count": 94,
   "id": "3ea42d4d-ae72-4755-98fc-7ab39da7295a",
   "metadata": {},
   "outputs": [
    {
     "data": {
      "text/plain": [
       "0"
      ]
     },
     "execution_count": 94,
     "metadata": {},
     "output_type": "execute_result"
    }
   ],
   "source": [
    "final_df.duplicated().sum()"
   ]
  },
  {
   "cell_type": "code",
   "execution_count": 95,
   "id": "51877bb9-d4db-4492-9f86-f9ba2bd08521",
   "metadata": {},
   "outputs": [
    {
     "data": {
      "text/plain": [
       "Index(['User-ID', 'Location', 'Age', 'ISBN', 'Book-Title', 'Book-Author',\n",
       "       'Year-Of-Publication', 'Publisher', 'Book-Rating'],\n",
       "      dtype='object')"
      ]
     },
     "execution_count": 95,
     "metadata": {},
     "output_type": "execute_result"
    }
   ],
   "source": [
    "final_df.columns"
   ]
  },
  {
   "cell_type": "markdown",
   "id": "e79ae2a7-b699-42b6-aa6a-316cd8e7c4b5",
   "metadata": {},
   "source": [
    "### Re-naming the Columns"
   ]
  },
  {
   "cell_type": "code",
   "execution_count": 97,
   "id": "e2e27738-bf8a-4b46-8787-9d35ed91bc91",
   "metadata": {},
   "outputs": [],
   "source": [
    "final_df.rename(columns = {'User-ID': 'User_ID', 'Book-Title': 'Book_Title', 'Book-Author': 'Book_Author', 'Year-Of-Publication': 'Year_Of_Publication',\n",
    "                     'Book-Rating': 'Book_Rating'}, inplace = True)"
   ]
  },
  {
   "cell_type": "code",
   "execution_count": 98,
   "id": "1e4e194a-a5df-463a-b314-71b30ffdc2ca",
   "metadata": {},
   "outputs": [
    {
     "data": {
      "text/html": [
       "<div>\n",
       "<style scoped>\n",
       "    .dataframe tbody tr th:only-of-type {\n",
       "        vertical-align: middle;\n",
       "    }\n",
       "\n",
       "    .dataframe tbody tr th {\n",
       "        vertical-align: top;\n",
       "    }\n",
       "\n",
       "    .dataframe thead th {\n",
       "        text-align: right;\n",
       "    }\n",
       "</style>\n",
       "<table border=\"1\" class=\"dataframe\">\n",
       "  <thead>\n",
       "    <tr style=\"text-align: right;\">\n",
       "      <th></th>\n",
       "      <th>User_ID</th>\n",
       "      <th>Location</th>\n",
       "      <th>Age</th>\n",
       "      <th>ISBN</th>\n",
       "      <th>Book_Title</th>\n",
       "      <th>Book_Author</th>\n",
       "      <th>Year_Of_Publication</th>\n",
       "      <th>Publisher</th>\n",
       "      <th>Book_Rating</th>\n",
       "    </tr>\n",
       "  </thead>\n",
       "  <tbody>\n",
       "    <tr>\n",
       "      <th>0</th>\n",
       "      <td>8</td>\n",
       "      <td>timmins, ontario, canada</td>\n",
       "      <td>32.0</td>\n",
       "      <td>0002005018</td>\n",
       "      <td>Clara Callan</td>\n",
       "      <td>Richard Bruce Wright</td>\n",
       "      <td>2001</td>\n",
       "      <td>HarperFlamingo Canada</td>\n",
       "      <td>5</td>\n",
       "    </tr>\n",
       "    <tr>\n",
       "      <th>1</th>\n",
       "      <td>8</td>\n",
       "      <td>timmins, ontario, canada</td>\n",
       "      <td>32.0</td>\n",
       "      <td>074322678X</td>\n",
       "      <td>Where You'll Find Me: And Other Stories</td>\n",
       "      <td>Ann Beattie</td>\n",
       "      <td>2002</td>\n",
       "      <td>Scribner</td>\n",
       "      <td>5</td>\n",
       "    </tr>\n",
       "    <tr>\n",
       "      <th>2</th>\n",
       "      <td>8</td>\n",
       "      <td>timmins, ontario, canada</td>\n",
       "      <td>32.0</td>\n",
       "      <td>0887841740</td>\n",
       "      <td>The Middle Stories</td>\n",
       "      <td>Sheila Heti</td>\n",
       "      <td>2004</td>\n",
       "      <td>House of Anansi Press</td>\n",
       "      <td>5</td>\n",
       "    </tr>\n",
       "    <tr>\n",
       "      <th>3</th>\n",
       "      <td>8</td>\n",
       "      <td>timmins, ontario, canada</td>\n",
       "      <td>32.0</td>\n",
       "      <td>1552041778</td>\n",
       "      <td>Jane Doe</td>\n",
       "      <td>R. J. Kaiser</td>\n",
       "      <td>1999</td>\n",
       "      <td>Mira Books</td>\n",
       "      <td>5</td>\n",
       "    </tr>\n",
       "    <tr>\n",
       "      <th>4</th>\n",
       "      <td>8</td>\n",
       "      <td>timmins, ontario, canada</td>\n",
       "      <td>32.0</td>\n",
       "      <td>1567407781</td>\n",
       "      <td>The Witchfinder (Amos Walker Mystery Series)</td>\n",
       "      <td>Loren D. Estleman</td>\n",
       "      <td>1998</td>\n",
       "      <td>Brilliance Audio - Trade</td>\n",
       "      <td>6</td>\n",
       "    </tr>\n",
       "  </tbody>\n",
       "</table>\n",
       "</div>"
      ],
      "text/plain": [
       "   User_ID                  Location   Age        ISBN  \\\n",
       "0        8  timmins, ontario, canada  32.0  0002005018   \n",
       "1        8  timmins, ontario, canada  32.0  074322678X   \n",
       "2        8  timmins, ontario, canada  32.0  0887841740   \n",
       "3        8  timmins, ontario, canada  32.0  1552041778   \n",
       "4        8  timmins, ontario, canada  32.0  1567407781   \n",
       "\n",
       "                                     Book_Title           Book_Author  \\\n",
       "0                                  Clara Callan  Richard Bruce Wright   \n",
       "1       Where You'll Find Me: And Other Stories           Ann Beattie   \n",
       "2                            The Middle Stories           Sheila Heti   \n",
       "3                                      Jane Doe          R. J. Kaiser   \n",
       "4  The Witchfinder (Amos Walker Mystery Series)     Loren D. Estleman   \n",
       "\n",
       "   Year_Of_Publication                 Publisher  Book_Rating  \n",
       "0                 2001     HarperFlamingo Canada            5  \n",
       "1                 2002                  Scribner            5  \n",
       "2                 2004     House of Anansi Press            5  \n",
       "3                 1999                Mira Books            5  \n",
       "4                 1998  Brilliance Audio - Trade            6  "
      ]
     },
     "execution_count": 98,
     "metadata": {},
     "output_type": "execute_result"
    }
   ],
   "source": [
    "final_df.head()"
   ]
  },
  {
   "cell_type": "code",
   "execution_count": 99,
   "id": "05936f91-51d4-4fd4-8ff4-3feb5b993c61",
   "metadata": {},
   "outputs": [
    {
     "data": {
      "text/plain": [
       "Index(['User_ID', 'Location', 'Age', 'ISBN', 'Book_Title', 'Book_Author',\n",
       "       'Year_Of_Publication', 'Publisher', 'Book_Rating'],\n",
       "      dtype='object')"
      ]
     },
     "execution_count": 99,
     "metadata": {},
     "output_type": "execute_result"
    }
   ],
   "source": [
    "final_df.columns"
   ]
  },
  {
   "cell_type": "code",
   "execution_count": 100,
   "id": "6e46e441-545a-4ac4-9a3b-d77cadd4cdc4",
   "metadata": {},
   "outputs": [],
   "source": [
    "#final_df.to_csv('Users_Books_Ratings.csv',index = False)"
   ]
  },
  {
   "cell_type": "markdown",
   "id": "843951e5-cf84-40da-ae0d-19191a20ca4f",
   "metadata": {},
   "source": [
    "# *Model Building*"
   ]
  },
  {
   "cell_type": "markdown",
   "id": "d1516616-f5e0-4f35-bada-abea9622de62",
   "metadata": {},
   "source": [
    "#### *Most Rated Books*"
   ]
  },
  {
   "cell_type": "code",
   "execution_count": 103,
   "id": "d3294b3a-de6c-48b3-b341-ba4bfa962bca",
   "metadata": {},
   "outputs": [
    {
     "data": {
      "text/html": [
       "<div>\n",
       "<style scoped>\n",
       "    .dataframe tbody tr th:only-of-type {\n",
       "        vertical-align: middle;\n",
       "    }\n",
       "\n",
       "    .dataframe tbody tr th {\n",
       "        vertical-align: top;\n",
       "    }\n",
       "\n",
       "    .dataframe thead th {\n",
       "        text-align: right;\n",
       "    }\n",
       "</style>\n",
       "<table border=\"1\" class=\"dataframe\">\n",
       "  <thead>\n",
       "    <tr style=\"text-align: right;\">\n",
       "      <th></th>\n",
       "      <th>Book_Title</th>\n",
       "      <th>Book_Rating</th>\n",
       "    </tr>\n",
       "  </thead>\n",
       "  <tbody>\n",
       "    <tr>\n",
       "      <th>0</th>\n",
       "      <td>A Light in the Storm: The Civil War Diary of ...</td>\n",
       "      <td>1</td>\n",
       "    </tr>\n",
       "    <tr>\n",
       "      <th>1</th>\n",
       "      <td>Ask Lily (Young Women of Faith: Lily Series, ...</td>\n",
       "      <td>1</td>\n",
       "    </tr>\n",
       "    <tr>\n",
       "      <th>2</th>\n",
       "      <td>Dark Justice</td>\n",
       "      <td>1</td>\n",
       "    </tr>\n",
       "    <tr>\n",
       "      <th>3</th>\n",
       "      <td>Earth Prayers From around the World: 365 Pray...</td>\n",
       "      <td>7</td>\n",
       "    </tr>\n",
       "    <tr>\n",
       "      <th>4</th>\n",
       "      <td>Final Fantasy Anthology: Official Strategy Gu...</td>\n",
       "      <td>2</td>\n",
       "    </tr>\n",
       "    <tr>\n",
       "      <th>...</th>\n",
       "      <td>...</td>\n",
       "      <td>...</td>\n",
       "    </tr>\n",
       "    <tr>\n",
       "      <th>135559</th>\n",
       "      <td>Ã?Â?bernachten mit Stil. Die schÃ?Â¶nsten Coun...</td>\n",
       "      <td>1</td>\n",
       "    </tr>\n",
       "    <tr>\n",
       "      <th>135560</th>\n",
       "      <td>Ã?Â?rger mit Produkt X. Roman.</td>\n",
       "      <td>3</td>\n",
       "    </tr>\n",
       "    <tr>\n",
       "      <th>135561</th>\n",
       "      <td>Ã?Â?sterlich leben.</td>\n",
       "      <td>1</td>\n",
       "    </tr>\n",
       "    <tr>\n",
       "      <th>135562</th>\n",
       "      <td>Ã?Â?stlich der Berge.</td>\n",
       "      <td>1</td>\n",
       "    </tr>\n",
       "    <tr>\n",
       "      <th>135563</th>\n",
       "      <td>Ã?Â?thique en toc</td>\n",
       "      <td>1</td>\n",
       "    </tr>\n",
       "  </tbody>\n",
       "</table>\n",
       "<p>135564 rows × 2 columns</p>\n",
       "</div>"
      ],
      "text/plain": [
       "                                               Book_Title  Book_Rating\n",
       "0        A Light in the Storm: The Civil War Diary of ...            1\n",
       "1        Ask Lily (Young Women of Faith: Lily Series, ...            1\n",
       "2                                            Dark Justice            1\n",
       "3        Earth Prayers From around the World: 365 Pray...            7\n",
       "4        Final Fantasy Anthology: Official Strategy Gu...            2\n",
       "...                                                   ...          ...\n",
       "135559  Ã?Â?bernachten mit Stil. Die schÃ?Â¶nsten Coun...            1\n",
       "135560                     Ã?Â?rger mit Produkt X. Roman.            3\n",
       "135561                                Ã?Â?sterlich leben.            1\n",
       "135562                              Ã?Â?stlich der Berge.            1\n",
       "135563                                  Ã?Â?thique en toc            1\n",
       "\n",
       "[135564 rows x 2 columns]"
      ]
     },
     "execution_count": 103,
     "metadata": {},
     "output_type": "execute_result"
    }
   ],
   "source": [
    "num_rating_df = final_df.groupby('Book_Title').count()['Book_Rating'].reset_index()\n",
    "num_rating_df"
   ]
  },
  {
   "cell_type": "code",
   "execution_count": 104,
   "id": "c70370fd-c7df-4d4c-a2db-4843c33a7cdb",
   "metadata": {},
   "outputs": [
    {
     "data": {
      "text/html": [
       "<div>\n",
       "<style scoped>\n",
       "    .dataframe tbody tr th:only-of-type {\n",
       "        vertical-align: middle;\n",
       "    }\n",
       "\n",
       "    .dataframe tbody tr th {\n",
       "        vertical-align: top;\n",
       "    }\n",
       "\n",
       "    .dataframe thead th {\n",
       "        text-align: right;\n",
       "    }\n",
       "</style>\n",
       "<table border=\"1\" class=\"dataframe\">\n",
       "  <thead>\n",
       "    <tr style=\"text-align: right;\">\n",
       "      <th></th>\n",
       "      <th>Book_Title</th>\n",
       "      <th>Book_Rating</th>\n",
       "    </tr>\n",
       "  </thead>\n",
       "  <tbody>\n",
       "    <tr>\n",
       "      <th>110227</th>\n",
       "      <td>The Lovely Bones: A Novel</td>\n",
       "      <td>707</td>\n",
       "    </tr>\n",
       "    <tr>\n",
       "      <th>132238</th>\n",
       "      <td>Wild Animus</td>\n",
       "      <td>581</td>\n",
       "    </tr>\n",
       "    <tr>\n",
       "      <th>102701</th>\n",
       "      <td>The Da Vinci Code</td>\n",
       "      <td>494</td>\n",
       "    </tr>\n",
       "    <tr>\n",
       "      <th>116194</th>\n",
       "      <td>The Secret Life of Bees</td>\n",
       "      <td>406</td>\n",
       "    </tr>\n",
       "    <tr>\n",
       "      <th>111948</th>\n",
       "      <td>The Nanny Diaries: A Novel</td>\n",
       "      <td>393</td>\n",
       "    </tr>\n",
       "    <tr>\n",
       "      <th>...</th>\n",
       "      <td>...</td>\n",
       "      <td>...</td>\n",
       "    </tr>\n",
       "    <tr>\n",
       "      <th>54564</th>\n",
       "      <td>Journeys with Elijah: Eight Tales of the Prophet</td>\n",
       "      <td>1</td>\n",
       "    </tr>\n",
       "    <tr>\n",
       "      <th>54563</th>\n",
       "      <td>Journeys to Door County</td>\n",
       "      <td>1</td>\n",
       "    </tr>\n",
       "    <tr>\n",
       "      <th>54561</th>\n",
       "      <td>Journeys of Simplicity: Traveling Light With T...</td>\n",
       "      <td>1</td>\n",
       "    </tr>\n",
       "    <tr>\n",
       "      <th>54560</th>\n",
       "      <td>Journeys into Past Lives</td>\n",
       "      <td>1</td>\n",
       "    </tr>\n",
       "    <tr>\n",
       "      <th>135563</th>\n",
       "      <td>Ã?Â?thique en toc</td>\n",
       "      <td>1</td>\n",
       "    </tr>\n",
       "  </tbody>\n",
       "</table>\n",
       "<p>135564 rows × 2 columns</p>\n",
       "</div>"
      ],
      "text/plain": [
       "                                               Book_Title  Book_Rating\n",
       "110227                          The Lovely Bones: A Novel          707\n",
       "132238                                        Wild Animus          581\n",
       "102701                                  The Da Vinci Code          494\n",
       "116194                            The Secret Life of Bees          406\n",
       "111948                         The Nanny Diaries: A Novel          393\n",
       "...                                                   ...          ...\n",
       "54564    Journeys with Elijah: Eight Tales of the Prophet            1\n",
       "54563                             Journeys to Door County            1\n",
       "54561   Journeys of Simplicity: Traveling Light With T...            1\n",
       "54560                            Journeys into Past Lives            1\n",
       "135563                                  Ã?Â?thique en toc            1\n",
       "\n",
       "[135564 rows x 2 columns]"
      ]
     },
     "execution_count": 104,
     "metadata": {},
     "output_type": "execute_result"
    }
   ],
   "source": [
    "num_rating_df.sort_values('Book_Rating', ascending = False)"
   ]
  },
  {
   "cell_type": "markdown",
   "id": "221822d6-2bd1-4a61-b943-a1993b6ccac3",
   "metadata": {},
   "source": [
    "#### *Average Rating of each Book*"
   ]
  },
  {
   "cell_type": "code",
   "execution_count": 106,
   "id": "aba12955-6e0d-4692-9405-3e4e76eb7128",
   "metadata": {},
   "outputs": [
    {
     "name": "stdout",
     "output_type": "stream",
     "text": [
      "                                               Book_Title  Book_Rating\n",
      "0        A Light in the Storm: The Civil War Diary of ...     9.000000\n",
      "1        Ask Lily (Young Women of Faith: Lily Series, ...     8.000000\n",
      "2                                            Dark Justice    10.000000\n",
      "3        Earth Prayers From around the World: 365 Pray...     7.142857\n",
      "4        Final Fantasy Anthology: Official Strategy Gu...    10.000000\n",
      "...                                                   ...          ...\n",
      "135559  Ã?Â?bernachten mit Stil. Die schÃ?Â¶nsten Coun...     8.000000\n",
      "135560                     Ã?Â?rger mit Produkt X. Roman.     7.000000\n",
      "135561                                Ã?Â?sterlich leben.     7.000000\n",
      "135562                              Ã?Â?stlich der Berge.     8.000000\n",
      "135563                                  Ã?Â?thique en toc     8.000000\n",
      "\n",
      "[135564 rows x 2 columns]\n"
     ]
    }
   ],
   "source": [
    "avg_rating_df = final_df.groupby('Book_Title')['Book_Rating'].mean().reset_index()\n",
    "print(avg_rating_df)"
   ]
  },
  {
   "cell_type": "code",
   "execution_count": 107,
   "id": "3aa6bfec-91af-409c-ae2c-a3b480442c0e",
   "metadata": {},
   "outputs": [
    {
     "data": {
      "text/html": [
       "<div>\n",
       "<style scoped>\n",
       "    .dataframe tbody tr th:only-of-type {\n",
       "        vertical-align: middle;\n",
       "    }\n",
       "\n",
       "    .dataframe tbody tr th {\n",
       "        vertical-align: top;\n",
       "    }\n",
       "\n",
       "    .dataframe thead th {\n",
       "        text-align: right;\n",
       "    }\n",
       "</style>\n",
       "<table border=\"1\" class=\"dataframe\">\n",
       "  <thead>\n",
       "    <tr style=\"text-align: right;\">\n",
       "      <th></th>\n",
       "      <th>Book_Title</th>\n",
       "      <th>Book_Rating</th>\n",
       "    </tr>\n",
       "  </thead>\n",
       "  <tbody>\n",
       "    <tr>\n",
       "      <th>97341</th>\n",
       "      <td>The 637 Best Things Anybody Ever Said</td>\n",
       "      <td>10.0</td>\n",
       "    </tr>\n",
       "    <tr>\n",
       "      <th>113528</th>\n",
       "      <td>The Perfect Wife</td>\n",
       "      <td>10.0</td>\n",
       "    </tr>\n",
       "    <tr>\n",
       "      <th>16778</th>\n",
       "      <td>CARRYING THE FIRE</td>\n",
       "      <td>10.0</td>\n",
       "    </tr>\n",
       "    <tr>\n",
       "      <th>80964</th>\n",
       "      <td>Psalty's Kids Bible, NIV</td>\n",
       "      <td>10.0</td>\n",
       "    </tr>\n",
       "    <tr>\n",
       "      <th>80960</th>\n",
       "      <td>Psalms for All Seasons</td>\n",
       "      <td>10.0</td>\n",
       "    </tr>\n",
       "    <tr>\n",
       "      <th>...</th>\n",
       "      <td>...</td>\n",
       "      <td>...</td>\n",
       "    </tr>\n",
       "    <tr>\n",
       "      <th>38410</th>\n",
       "      <td>Flamingo</td>\n",
       "      <td>1.0</td>\n",
       "    </tr>\n",
       "    <tr>\n",
       "      <th>104959</th>\n",
       "      <td>The Feminist Critique of Language: A Reader</td>\n",
       "      <td>1.0</td>\n",
       "    </tr>\n",
       "    <tr>\n",
       "      <th>86113</th>\n",
       "      <td>Sams Teach Yourself Red Hat LINUX in 24 Hours ...</td>\n",
       "      <td>1.0</td>\n",
       "    </tr>\n",
       "    <tr>\n",
       "      <th>45757</th>\n",
       "      <td>Headway (Headway)</td>\n",
       "      <td>1.0</td>\n",
       "    </tr>\n",
       "    <tr>\n",
       "      <th>96936</th>\n",
       "      <td>Territorial Bride (Harlequin Historicals, 441)</td>\n",
       "      <td>1.0</td>\n",
       "    </tr>\n",
       "  </tbody>\n",
       "</table>\n",
       "<p>135564 rows × 2 columns</p>\n",
       "</div>"
      ],
      "text/plain": [
       "                                               Book_Title  Book_Rating\n",
       "97341               The 637 Best Things Anybody Ever Said         10.0\n",
       "113528                                   The Perfect Wife         10.0\n",
       "16778                                   CARRYING THE FIRE         10.0\n",
       "80964                            Psalty's Kids Bible, NIV         10.0\n",
       "80960                              Psalms for All Seasons         10.0\n",
       "...                                                   ...          ...\n",
       "38410                                            Flamingo          1.0\n",
       "104959        The Feminist Critique of Language: A Reader          1.0\n",
       "86113   Sams Teach Yourself Red Hat LINUX in 24 Hours ...          1.0\n",
       "45757                                   Headway (Headway)          1.0\n",
       "96936      Territorial Bride (Harlequin Historicals, 441)          1.0\n",
       "\n",
       "[135564 rows x 2 columns]"
      ]
     },
     "execution_count": 107,
     "metadata": {},
     "output_type": "execute_result"
    }
   ],
   "source": [
    "avg_rating_df.sort_values('Book_Rating', ascending = False)"
   ]
  },
  {
   "cell_type": "markdown",
   "id": "da553c2d-b9ae-418a-9183-c4c98040ec1f",
   "metadata": {},
   "source": [
    "### *Popular Books*"
   ]
  },
  {
   "cell_type": "code",
   "execution_count": 109,
   "id": "c4dbf0b2-8a9b-4885-b514-0cf9fa9b8a2e",
   "metadata": {},
   "outputs": [
    {
     "data": {
      "text/html": [
       "<div>\n",
       "<style scoped>\n",
       "    .dataframe tbody tr th:only-of-type {\n",
       "        vertical-align: middle;\n",
       "    }\n",
       "\n",
       "    .dataframe tbody tr th {\n",
       "        vertical-align: top;\n",
       "    }\n",
       "\n",
       "    .dataframe thead th {\n",
       "        text-align: right;\n",
       "    }\n",
       "</style>\n",
       "<table border=\"1\" class=\"dataframe\">\n",
       "  <thead>\n",
       "    <tr style=\"text-align: right;\">\n",
       "      <th></th>\n",
       "      <th>Book_Title</th>\n",
       "      <th>Most_Rated_Books</th>\n",
       "      <th>Avg_Rating</th>\n",
       "    </tr>\n",
       "  </thead>\n",
       "  <tbody>\n",
       "    <tr>\n",
       "      <th>0</th>\n",
       "      <td>A Light in the Storm: The Civil War Diary of ...</td>\n",
       "      <td>1</td>\n",
       "      <td>9.000000</td>\n",
       "    </tr>\n",
       "    <tr>\n",
       "      <th>1</th>\n",
       "      <td>Ask Lily (Young Women of Faith: Lily Series, ...</td>\n",
       "      <td>1</td>\n",
       "      <td>8.000000</td>\n",
       "    </tr>\n",
       "    <tr>\n",
       "      <th>2</th>\n",
       "      <td>Dark Justice</td>\n",
       "      <td>1</td>\n",
       "      <td>10.000000</td>\n",
       "    </tr>\n",
       "    <tr>\n",
       "      <th>3</th>\n",
       "      <td>Earth Prayers From around the World: 365 Pray...</td>\n",
       "      <td>7</td>\n",
       "      <td>7.142857</td>\n",
       "    </tr>\n",
       "    <tr>\n",
       "      <th>4</th>\n",
       "      <td>Final Fantasy Anthology: Official Strategy Gu...</td>\n",
       "      <td>2</td>\n",
       "      <td>10.000000</td>\n",
       "    </tr>\n",
       "    <tr>\n",
       "      <th>...</th>\n",
       "      <td>...</td>\n",
       "      <td>...</td>\n",
       "      <td>...</td>\n",
       "    </tr>\n",
       "    <tr>\n",
       "      <th>135559</th>\n",
       "      <td>Ã?Â?bernachten mit Stil. Die schÃ?Â¶nsten Coun...</td>\n",
       "      <td>1</td>\n",
       "      <td>8.000000</td>\n",
       "    </tr>\n",
       "    <tr>\n",
       "      <th>135560</th>\n",
       "      <td>Ã?Â?rger mit Produkt X. Roman.</td>\n",
       "      <td>3</td>\n",
       "      <td>7.000000</td>\n",
       "    </tr>\n",
       "    <tr>\n",
       "      <th>135561</th>\n",
       "      <td>Ã?Â?sterlich leben.</td>\n",
       "      <td>1</td>\n",
       "      <td>7.000000</td>\n",
       "    </tr>\n",
       "    <tr>\n",
       "      <th>135562</th>\n",
       "      <td>Ã?Â?stlich der Berge.</td>\n",
       "      <td>1</td>\n",
       "      <td>8.000000</td>\n",
       "    </tr>\n",
       "    <tr>\n",
       "      <th>135563</th>\n",
       "      <td>Ã?Â?thique en toc</td>\n",
       "      <td>1</td>\n",
       "      <td>8.000000</td>\n",
       "    </tr>\n",
       "  </tbody>\n",
       "</table>\n",
       "<p>135564 rows × 3 columns</p>\n",
       "</div>"
      ],
      "text/plain": [
       "                                               Book_Title  Most_Rated_Books  \\\n",
       "0        A Light in the Storm: The Civil War Diary of ...                 1   \n",
       "1        Ask Lily (Young Women of Faith: Lily Series, ...                 1   \n",
       "2                                            Dark Justice                 1   \n",
       "3        Earth Prayers From around the World: 365 Pray...                 7   \n",
       "4        Final Fantasy Anthology: Official Strategy Gu...                 2   \n",
       "...                                                   ...               ...   \n",
       "135559  Ã?Â?bernachten mit Stil. Die schÃ?Â¶nsten Coun...                 1   \n",
       "135560                     Ã?Â?rger mit Produkt X. Roman.                 3   \n",
       "135561                                Ã?Â?sterlich leben.                 1   \n",
       "135562                              Ã?Â?stlich der Berge.                 1   \n",
       "135563                                  Ã?Â?thique en toc                 1   \n",
       "\n",
       "        Avg_Rating  \n",
       "0         9.000000  \n",
       "1         8.000000  \n",
       "2        10.000000  \n",
       "3         7.142857  \n",
       "4        10.000000  \n",
       "...            ...  \n",
       "135559    8.000000  \n",
       "135560    7.000000  \n",
       "135561    7.000000  \n",
       "135562    8.000000  \n",
       "135563    8.000000  \n",
       "\n",
       "[135564 rows x 3 columns]"
      ]
     },
     "execution_count": 109,
     "metadata": {},
     "output_type": "execute_result"
    }
   ],
   "source": [
    "#Merging most rated books dataset with Average rated books on similar column which is 'Book_Title'\n",
    "\n",
    "pop_df = pd.merge(num_rating_df,avg_rating_df, on = 'Book_Title')\n",
    "pop_df.rename(columns={'Book_Rating_x': 'Most_Rated_Books', 'Book_Rating_y': 'Avg_Rating'},inplace=True)\n",
    "pop_df"
   ]
  },
  {
   "cell_type": "code",
   "execution_count": 110,
   "id": "8f16c01c-8926-47b8-8f5a-bff374d52be2",
   "metadata": {},
   "outputs": [
    {
     "data": {
      "text/html": [
       "<div>\n",
       "<style scoped>\n",
       "    .dataframe tbody tr th:only-of-type {\n",
       "        vertical-align: middle;\n",
       "    }\n",
       "\n",
       "    .dataframe tbody tr th {\n",
       "        vertical-align: top;\n",
       "    }\n",
       "\n",
       "    .dataframe thead th {\n",
       "        text-align: right;\n",
       "    }\n",
       "</style>\n",
       "<table border=\"1\" class=\"dataframe\">\n",
       "  <thead>\n",
       "    <tr style=\"text-align: right;\">\n",
       "      <th></th>\n",
       "      <th>Book_Title</th>\n",
       "      <th>Most_Rated_Books</th>\n",
       "      <th>Avg_Rating</th>\n",
       "    </tr>\n",
       "  </thead>\n",
       "  <tbody>\n",
       "    <tr>\n",
       "      <th>110227</th>\n",
       "      <td>The Lovely Bones: A Novel</td>\n",
       "      <td>707</td>\n",
       "      <td>8.185290</td>\n",
       "    </tr>\n",
       "    <tr>\n",
       "      <th>132238</th>\n",
       "      <td>Wild Animus</td>\n",
       "      <td>581</td>\n",
       "      <td>4.390706</td>\n",
       "    </tr>\n",
       "    <tr>\n",
       "      <th>102701</th>\n",
       "      <td>The Da Vinci Code</td>\n",
       "      <td>494</td>\n",
       "      <td>8.439271</td>\n",
       "    </tr>\n",
       "    <tr>\n",
       "      <th>116194</th>\n",
       "      <td>The Secret Life of Bees</td>\n",
       "      <td>406</td>\n",
       "      <td>8.477833</td>\n",
       "    </tr>\n",
       "    <tr>\n",
       "      <th>111948</th>\n",
       "      <td>The Nanny Diaries: A Novel</td>\n",
       "      <td>393</td>\n",
       "      <td>7.437659</td>\n",
       "    </tr>\n",
       "    <tr>\n",
       "      <th>...</th>\n",
       "      <td>...</td>\n",
       "      <td>...</td>\n",
       "      <td>...</td>\n",
       "    </tr>\n",
       "    <tr>\n",
       "      <th>83198</th>\n",
       "      <td>Remember Me</td>\n",
       "      <td>50</td>\n",
       "      <td>7.840000</td>\n",
       "    </tr>\n",
       "    <tr>\n",
       "      <th>85945</th>\n",
       "      <td>Saint Maybe</td>\n",
       "      <td>50</td>\n",
       "      <td>7.480000</td>\n",
       "    </tr>\n",
       "    <tr>\n",
       "      <th>88258</th>\n",
       "      <td>Servant of the Bones</td>\n",
       "      <td>50</td>\n",
       "      <td>7.340000</td>\n",
       "    </tr>\n",
       "    <tr>\n",
       "      <th>90474</th>\n",
       "      <td>Sleep No More</td>\n",
       "      <td>50</td>\n",
       "      <td>7.400000</td>\n",
       "    </tr>\n",
       "    <tr>\n",
       "      <th>36107</th>\n",
       "      <td>FORREST GUMP (Movie Tie in)</td>\n",
       "      <td>50</td>\n",
       "      <td>7.420000</td>\n",
       "    </tr>\n",
       "  </tbody>\n",
       "</table>\n",
       "<p>651 rows × 3 columns</p>\n",
       "</div>"
      ],
      "text/plain": [
       "                         Book_Title  Most_Rated_Books  Avg_Rating\n",
       "110227    The Lovely Bones: A Novel               707    8.185290\n",
       "132238                  Wild Animus               581    4.390706\n",
       "102701            The Da Vinci Code               494    8.439271\n",
       "116194      The Secret Life of Bees               406    8.477833\n",
       "111948   The Nanny Diaries: A Novel               393    7.437659\n",
       "...                             ...               ...         ...\n",
       "83198                   Remember Me                50    7.840000\n",
       "85945                   Saint Maybe                50    7.480000\n",
       "88258          Servant of the Bones                50    7.340000\n",
       "90474                 Sleep No More                50    7.400000\n",
       "36107   FORREST GUMP (Movie Tie in)                50    7.420000\n",
       "\n",
       "[651 rows x 3 columns]"
      ]
     },
     "execution_count": 110,
     "metadata": {},
     "output_type": "execute_result"
    }
   ],
   "source": [
    "#Books that have been rated by more than 50 User's\n",
    "\n",
    "pop_df[pop_df['Most_Rated_Books']>=50].sort_values('Most_Rated_Books', ascending =False)"
   ]
  },
  {
   "cell_type": "markdown",
   "id": "300bf270-0a5f-460b-acdc-d2bb0adbfef3",
   "metadata": {},
   "source": [
    "##### *Merging it with Final Dataset*"
   ]
  },
  {
   "cell_type": "code",
   "execution_count": 112,
   "id": "64360580-508b-46b3-b7c2-e7cc1fc84927",
   "metadata": {},
   "outputs": [
    {
     "data": {
      "text/html": [
       "<div>\n",
       "<style scoped>\n",
       "    .dataframe tbody tr th:only-of-type {\n",
       "        vertical-align: middle;\n",
       "    }\n",
       "\n",
       "    .dataframe tbody tr th {\n",
       "        vertical-align: top;\n",
       "    }\n",
       "\n",
       "    .dataframe thead th {\n",
       "        text-align: right;\n",
       "    }\n",
       "</style>\n",
       "<table border=\"1\" class=\"dataframe\">\n",
       "  <thead>\n",
       "    <tr style=\"text-align: right;\">\n",
       "      <th></th>\n",
       "      <th>Book_Title</th>\n",
       "      <th>Most_Rated_Books</th>\n",
       "      <th>Avg_Rating</th>\n",
       "      <th>User_ID</th>\n",
       "      <th>Location</th>\n",
       "      <th>Age</th>\n",
       "      <th>ISBN</th>\n",
       "      <th>Book_Author</th>\n",
       "      <th>Year_Of_Publication</th>\n",
       "      <th>Publisher</th>\n",
       "      <th>Book_Rating</th>\n",
       "    </tr>\n",
       "  </thead>\n",
       "  <tbody>\n",
       "    <tr>\n",
       "      <th>0</th>\n",
       "      <td>A Light in the Storm: The Civil War Diary of ...</td>\n",
       "      <td>1</td>\n",
       "      <td>9.000000</td>\n",
       "      <td>96448</td>\n",
       "      <td>albuquerque, new mexico, usa</td>\n",
       "      <td>32.0</td>\n",
       "      <td>0590567330</td>\n",
       "      <td>Karen Hesse</td>\n",
       "      <td>1999</td>\n",
       "      <td>Hyperion Books for Children</td>\n",
       "      <td>9</td>\n",
       "    </tr>\n",
       "    <tr>\n",
       "      <th>1</th>\n",
       "      <td>Ask Lily (Young Women of Faith: Lily Series, ...</td>\n",
       "      <td>1</td>\n",
       "      <td>8.000000</td>\n",
       "      <td>269557</td>\n",
       "      <td>ypsilanti, michigan, usa</td>\n",
       "      <td>40.0</td>\n",
       "      <td>0310232546</td>\n",
       "      <td>Nancy N. Rue</td>\n",
       "      <td>2001</td>\n",
       "      <td>Zonderkidz</td>\n",
       "      <td>8</td>\n",
       "    </tr>\n",
       "    <tr>\n",
       "      <th>2</th>\n",
       "      <td>Dark Justice</td>\n",
       "      <td>1</td>\n",
       "      <td>10.000000</td>\n",
       "      <td>98391</td>\n",
       "      <td>morrow, georgia, usa</td>\n",
       "      <td>52.0</td>\n",
       "      <td>0399151788</td>\n",
       "      <td>Jack Higgins</td>\n",
       "      <td>2004</td>\n",
       "      <td>Putnam Publishing Group</td>\n",
       "      <td>10</td>\n",
       "    </tr>\n",
       "    <tr>\n",
       "      <th>3</th>\n",
       "      <td>Earth Prayers From around the World: 365 Pray...</td>\n",
       "      <td>7</td>\n",
       "      <td>7.142857</td>\n",
       "      <td>26544</td>\n",
       "      <td>woodbridge, virginia, usa</td>\n",
       "      <td>37.0</td>\n",
       "      <td>006250746X</td>\n",
       "      <td>Elizabeth Roberts</td>\n",
       "      <td>1991</td>\n",
       "      <td>HarperSanFrancisco</td>\n",
       "      <td>9</td>\n",
       "    </tr>\n",
       "    <tr>\n",
       "      <th>4</th>\n",
       "      <td>Earth Prayers From around the World: 365 Pray...</td>\n",
       "      <td>7</td>\n",
       "      <td>7.142857</td>\n",
       "      <td>69120</td>\n",
       "      <td>portland, maine, usa</td>\n",
       "      <td>28.0</td>\n",
       "      <td>006250746X</td>\n",
       "      <td>Elizabeth Roberts</td>\n",
       "      <td>1991</td>\n",
       "      <td>HarperSanFrancisco</td>\n",
       "      <td>10</td>\n",
       "    </tr>\n",
       "    <tr>\n",
       "      <th>...</th>\n",
       "      <td>...</td>\n",
       "      <td>...</td>\n",
       "      <td>...</td>\n",
       "      <td>...</td>\n",
       "      <td>...</td>\n",
       "      <td>...</td>\n",
       "      <td>...</td>\n",
       "      <td>...</td>\n",
       "      <td>...</td>\n",
       "      <td>...</td>\n",
       "      <td>...</td>\n",
       "    </tr>\n",
       "    <tr>\n",
       "      <th>383833</th>\n",
       "      <td>Ã?Â?rger mit Produkt X. Roman.</td>\n",
       "      <td>3</td>\n",
       "      <td>7.000000</td>\n",
       "      <td>133567</td>\n",
       "      <td>frankfurt am main, hessen, germany</td>\n",
       "      <td>57.0</td>\n",
       "      <td>325721538X</td>\n",
       "      <td>Joan Aiken</td>\n",
       "      <td>1987</td>\n",
       "      <td>Diogenes Verlag</td>\n",
       "      <td>8</td>\n",
       "    </tr>\n",
       "    <tr>\n",
       "      <th>383834</th>\n",
       "      <td>Ã?Â?rger mit Produkt X. Roman.</td>\n",
       "      <td>3</td>\n",
       "      <td>7.000000</td>\n",
       "      <td>225343</td>\n",
       "      <td>frankfurt am main, hessen, germany</td>\n",
       "      <td>46.0</td>\n",
       "      <td>325721538X</td>\n",
       "      <td>Joan Aiken</td>\n",
       "      <td>1987</td>\n",
       "      <td>Diogenes Verlag</td>\n",
       "      <td>7</td>\n",
       "    </tr>\n",
       "    <tr>\n",
       "      <th>383835</th>\n",
       "      <td>Ã?Â?sterlich leben.</td>\n",
       "      <td>1</td>\n",
       "      <td>7.000000</td>\n",
       "      <td>256636</td>\n",
       "      <td>89075 ulm, baden-wuerttemberg, germany</td>\n",
       "      <td>51.0</td>\n",
       "      <td>3451274973</td>\n",
       "      <td>Anselm GrÃ?Â¼n</td>\n",
       "      <td>2001</td>\n",
       "      <td>Herder, Freiburg</td>\n",
       "      <td>7</td>\n",
       "    </tr>\n",
       "    <tr>\n",
       "      <th>383836</th>\n",
       "      <td>Ã?Â?stlich der Berge.</td>\n",
       "      <td>1</td>\n",
       "      <td>8.000000</td>\n",
       "      <td>90839</td>\n",
       "      <td>munich, bayern, germany</td>\n",
       "      <td>36.0</td>\n",
       "      <td>3442725739</td>\n",
       "      <td>David Guterson</td>\n",
       "      <td>2000</td>\n",
       "      <td>btb</td>\n",
       "      <td>8</td>\n",
       "    </tr>\n",
       "    <tr>\n",
       "      <th>383837</th>\n",
       "      <td>Ã?Â?thique en toc</td>\n",
       "      <td>1</td>\n",
       "      <td>8.000000</td>\n",
       "      <td>25436</td>\n",
       "      <td>chambery, savoie, france</td>\n",
       "      <td>30.0</td>\n",
       "      <td>2842192508</td>\n",
       "      <td>Didier Daeninckx</td>\n",
       "      <td>1998</td>\n",
       "      <td>Baleine</td>\n",
       "      <td>8</td>\n",
       "    </tr>\n",
       "  </tbody>\n",
       "</table>\n",
       "<p>383838 rows × 11 columns</p>\n",
       "</div>"
      ],
      "text/plain": [
       "                                               Book_Title  Most_Rated_Books  \\\n",
       "0        A Light in the Storm: The Civil War Diary of ...                 1   \n",
       "1        Ask Lily (Young Women of Faith: Lily Series, ...                 1   \n",
       "2                                            Dark Justice                 1   \n",
       "3        Earth Prayers From around the World: 365 Pray...                 7   \n",
       "4        Earth Prayers From around the World: 365 Pray...                 7   \n",
       "...                                                   ...               ...   \n",
       "383833                     Ã?Â?rger mit Produkt X. Roman.                 3   \n",
       "383834                     Ã?Â?rger mit Produkt X. Roman.                 3   \n",
       "383835                                Ã?Â?sterlich leben.                 1   \n",
       "383836                              Ã?Â?stlich der Berge.                 1   \n",
       "383837                                  Ã?Â?thique en toc                 1   \n",
       "\n",
       "        Avg_Rating  User_ID                                Location   Age  \\\n",
       "0         9.000000    96448            albuquerque, new mexico, usa  32.0   \n",
       "1         8.000000   269557                ypsilanti, michigan, usa  40.0   \n",
       "2        10.000000    98391                    morrow, georgia, usa  52.0   \n",
       "3         7.142857    26544               woodbridge, virginia, usa  37.0   \n",
       "4         7.142857    69120                    portland, maine, usa  28.0   \n",
       "...            ...      ...                                     ...   ...   \n",
       "383833    7.000000   133567      frankfurt am main, hessen, germany  57.0   \n",
       "383834    7.000000   225343      frankfurt am main, hessen, germany  46.0   \n",
       "383835    7.000000   256636  89075 ulm, baden-wuerttemberg, germany  51.0   \n",
       "383836    8.000000    90839                 munich, bayern, germany  36.0   \n",
       "383837    8.000000    25436                chambery, savoie, france  30.0   \n",
       "\n",
       "              ISBN        Book_Author  Year_Of_Publication  \\\n",
       "0       0590567330        Karen Hesse                 1999   \n",
       "1       0310232546       Nancy N. Rue                 2001   \n",
       "2       0399151788       Jack Higgins                 2004   \n",
       "3       006250746X  Elizabeth Roberts                 1991   \n",
       "4       006250746X  Elizabeth Roberts                 1991   \n",
       "...            ...                ...                  ...   \n",
       "383833  325721538X         Joan Aiken                 1987   \n",
       "383834  325721538X         Joan Aiken                 1987   \n",
       "383835  3451274973     Anselm GrÃ?Â¼n                 2001   \n",
       "383836  3442725739     David Guterson                 2000   \n",
       "383837  2842192508   Didier Daeninckx                 1998   \n",
       "\n",
       "                          Publisher  Book_Rating  \n",
       "0       Hyperion Books for Children            9  \n",
       "1                        Zonderkidz            8  \n",
       "2           Putnam Publishing Group           10  \n",
       "3                HarperSanFrancisco            9  \n",
       "4                HarperSanFrancisco           10  \n",
       "...                             ...          ...  \n",
       "383833              Diogenes Verlag            8  \n",
       "383834              Diogenes Verlag            7  \n",
       "383835             Herder, Freiburg            7  \n",
       "383836                          btb            8  \n",
       "383837                      Baleine            8  \n",
       "\n",
       "[383838 rows x 11 columns]"
      ]
     },
     "execution_count": 112,
     "metadata": {},
     "output_type": "execute_result"
    }
   ],
   "source": [
    "final = pd.merge(pop_df,final_df, on = 'Book_Title')\n",
    "final"
   ]
  },
  {
   "cell_type": "markdown",
   "id": "243573dd-689b-4961-b21a-d3b91d5a6f55",
   "metadata": {},
   "source": [
    "#### *Selecting those User's who have Rated at least 50 or more Book's*"
   ]
  },
  {
   "cell_type": "code",
   "execution_count": 114,
   "id": "5901d278-9208-494b-af01-e206a14bdabd",
   "metadata": {},
   "outputs": [
    {
     "data": {
      "text/html": [
       "<div>\n",
       "<style scoped>\n",
       "    .dataframe tbody tr th:only-of-type {\n",
       "        vertical-align: middle;\n",
       "    }\n",
       "\n",
       "    .dataframe tbody tr th {\n",
       "        vertical-align: top;\n",
       "    }\n",
       "\n",
       "    .dataframe thead th {\n",
       "        text-align: right;\n",
       "    }\n",
       "</style>\n",
       "<table border=\"1\" class=\"dataframe\">\n",
       "  <thead>\n",
       "    <tr style=\"text-align: right;\">\n",
       "      <th></th>\n",
       "      <th>Book_Title</th>\n",
       "      <th>Most_Rated_Books</th>\n",
       "      <th>Avg_Rating</th>\n",
       "      <th>User_ID</th>\n",
       "      <th>Location</th>\n",
       "      <th>Age</th>\n",
       "      <th>ISBN</th>\n",
       "      <th>Book_Author</th>\n",
       "      <th>Year_Of_Publication</th>\n",
       "      <th>Publisher</th>\n",
       "      <th>Book_Rating</th>\n",
       "    </tr>\n",
       "  </thead>\n",
       "  <tbody>\n",
       "    <tr>\n",
       "      <th>801</th>\n",
       "      <td>1984</td>\n",
       "      <td>144</td>\n",
       "      <td>8.784722</td>\n",
       "      <td>254</td>\n",
       "      <td>minneapolis, minnesota, usa</td>\n",
       "      <td>24.0</td>\n",
       "      <td>0451524934</td>\n",
       "      <td>George Orwell</td>\n",
       "      <td>1990</td>\n",
       "      <td>Signet Book</td>\n",
       "      <td>9</td>\n",
       "    </tr>\n",
       "    <tr>\n",
       "      <th>802</th>\n",
       "      <td>1984</td>\n",
       "      <td>144</td>\n",
       "      <td>8.784722</td>\n",
       "      <td>1706</td>\n",
       "      <td>olympia, washington, usa</td>\n",
       "      <td>26.0</td>\n",
       "      <td>0451524934</td>\n",
       "      <td>George Orwell</td>\n",
       "      <td>1990</td>\n",
       "      <td>Signet Book</td>\n",
       "      <td>10</td>\n",
       "    </tr>\n",
       "    <tr>\n",
       "      <th>803</th>\n",
       "      <td>1984</td>\n",
       "      <td>144</td>\n",
       "      <td>8.784722</td>\n",
       "      <td>2179</td>\n",
       "      <td>sunderland, massachusetts, usa</td>\n",
       "      <td>30.0</td>\n",
       "      <td>0451524934</td>\n",
       "      <td>George Orwell</td>\n",
       "      <td>1990</td>\n",
       "      <td>Signet Book</td>\n",
       "      <td>8</td>\n",
       "    </tr>\n",
       "    <tr>\n",
       "      <th>804</th>\n",
       "      <td>1984</td>\n",
       "      <td>144</td>\n",
       "      <td>8.784722</td>\n",
       "      <td>2198</td>\n",
       "      <td>philadelphia, pennsylvania, usa</td>\n",
       "      <td>32.0</td>\n",
       "      <td>0451524934</td>\n",
       "      <td>George Orwell</td>\n",
       "      <td>1990</td>\n",
       "      <td>Signet Book</td>\n",
       "      <td>10</td>\n",
       "    </tr>\n",
       "    <tr>\n",
       "      <th>805</th>\n",
       "      <td>1984</td>\n",
       "      <td>144</td>\n",
       "      <td>8.784722</td>\n",
       "      <td>2799</td>\n",
       "      <td>eugene, oregon, usa</td>\n",
       "      <td>32.0</td>\n",
       "      <td>0451524934</td>\n",
       "      <td>George Orwell</td>\n",
       "      <td>1990</td>\n",
       "      <td>Signet Book</td>\n",
       "      <td>10</td>\n",
       "    </tr>\n",
       "    <tr>\n",
       "      <th>...</th>\n",
       "      <td>...</td>\n",
       "      <td>...</td>\n",
       "      <td>...</td>\n",
       "      <td>...</td>\n",
       "      <td>...</td>\n",
       "      <td>...</td>\n",
       "      <td>...</td>\n",
       "      <td>...</td>\n",
       "      <td>...</td>\n",
       "      <td>...</td>\n",
       "      <td>...</td>\n",
       "    </tr>\n",
       "    <tr>\n",
       "      <th>383546</th>\n",
       "      <td>\\O\\\" Is for Outlaw\"</td>\n",
       "      <td>108</td>\n",
       "      <td>7.444444</td>\n",
       "      <td>269466</td>\n",
       "      <td>williamsville, illinois, usa</td>\n",
       "      <td>32.0</td>\n",
       "      <td>0449003787</td>\n",
       "      <td>SUE GRAFTON</td>\n",
       "      <td>2001</td>\n",
       "      <td>Ballantine Books</td>\n",
       "      <td>8</td>\n",
       "    </tr>\n",
       "    <tr>\n",
       "      <th>383547</th>\n",
       "      <td>\\O\\\" Is for Outlaw\"</td>\n",
       "      <td>108</td>\n",
       "      <td>7.444444</td>\n",
       "      <td>274301</td>\n",
       "      <td>frankston, victoria, australia</td>\n",
       "      <td>41.0</td>\n",
       "      <td>0449003787</td>\n",
       "      <td>SUE GRAFTON</td>\n",
       "      <td>2001</td>\n",
       "      <td>Ballantine Books</td>\n",
       "      <td>8</td>\n",
       "    </tr>\n",
       "    <tr>\n",
       "      <th>383548</th>\n",
       "      <td>\\O\\\" Is for Outlaw\"</td>\n",
       "      <td>108</td>\n",
       "      <td>7.444444</td>\n",
       "      <td>274325</td>\n",
       "      <td>amsterdam, n/a, netherlands</td>\n",
       "      <td>51.0</td>\n",
       "      <td>0449003787</td>\n",
       "      <td>SUE GRAFTON</td>\n",
       "      <td>2001</td>\n",
       "      <td>Ballantine Books</td>\n",
       "      <td>9</td>\n",
       "    </tr>\n",
       "    <tr>\n",
       "      <th>383549</th>\n",
       "      <td>\\O\\\" Is for Outlaw\"</td>\n",
       "      <td>108</td>\n",
       "      <td>7.444444</td>\n",
       "      <td>276050</td>\n",
       "      <td>beacon, new york, usa</td>\n",
       "      <td>30.0</td>\n",
       "      <td>0449003787</td>\n",
       "      <td>SUE GRAFTON</td>\n",
       "      <td>2001</td>\n",
       "      <td>Ballantine Books</td>\n",
       "      <td>7</td>\n",
       "    </tr>\n",
       "    <tr>\n",
       "      <th>383550</th>\n",
       "      <td>\\O\\\" Is for Outlaw\"</td>\n",
       "      <td>108</td>\n",
       "      <td>7.444444</td>\n",
       "      <td>278535</td>\n",
       "      <td>oshkosh, wisconsin, usa</td>\n",
       "      <td>32.0</td>\n",
       "      <td>0449003787</td>\n",
       "      <td>SUE GRAFTON</td>\n",
       "      <td>2001</td>\n",
       "      <td>Ballantine Books</td>\n",
       "      <td>9</td>\n",
       "    </tr>\n",
       "  </tbody>\n",
       "</table>\n",
       "<p>65477 rows × 11 columns</p>\n",
       "</div>"
      ],
      "text/plain": [
       "                 Book_Title  Most_Rated_Books  Avg_Rating  User_ID  \\\n",
       "801                    1984               144    8.784722      254   \n",
       "802                    1984               144    8.784722     1706   \n",
       "803                    1984               144    8.784722     2179   \n",
       "804                    1984               144    8.784722     2198   \n",
       "805                    1984               144    8.784722     2799   \n",
       "...                     ...               ...         ...      ...   \n",
       "383546  \\O\\\" Is for Outlaw\"               108    7.444444   269466   \n",
       "383547  \\O\\\" Is for Outlaw\"               108    7.444444   274301   \n",
       "383548  \\O\\\" Is for Outlaw\"               108    7.444444   274325   \n",
       "383549  \\O\\\" Is for Outlaw\"               108    7.444444   276050   \n",
       "383550  \\O\\\" Is for Outlaw\"               108    7.444444   278535   \n",
       "\n",
       "                               Location   Age        ISBN    Book_Author  \\\n",
       "801         minneapolis, minnesota, usa  24.0  0451524934  George Orwell   \n",
       "802            olympia, washington, usa  26.0  0451524934  George Orwell   \n",
       "803      sunderland, massachusetts, usa  30.0  0451524934  George Orwell   \n",
       "804     philadelphia, pennsylvania, usa  32.0  0451524934  George Orwell   \n",
       "805                 eugene, oregon, usa  32.0  0451524934  George Orwell   \n",
       "...                                 ...   ...         ...            ...   \n",
       "383546     williamsville, illinois, usa  32.0  0449003787    SUE GRAFTON   \n",
       "383547   frankston, victoria, australia  41.0  0449003787    SUE GRAFTON   \n",
       "383548      amsterdam, n/a, netherlands  51.0  0449003787    SUE GRAFTON   \n",
       "383549            beacon, new york, usa  30.0  0449003787    SUE GRAFTON   \n",
       "383550          oshkosh, wisconsin, usa  32.0  0449003787    SUE GRAFTON   \n",
       "\n",
       "        Year_Of_Publication         Publisher  Book_Rating  \n",
       "801                    1990       Signet Book            9  \n",
       "802                    1990       Signet Book           10  \n",
       "803                    1990       Signet Book            8  \n",
       "804                    1990       Signet Book           10  \n",
       "805                    1990       Signet Book           10  \n",
       "...                     ...               ...          ...  \n",
       "383546                 2001  Ballantine Books            8  \n",
       "383547                 2001  Ballantine Books            8  \n",
       "383548                 2001  Ballantine Books            9  \n",
       "383549                 2001  Ballantine Books            7  \n",
       "383550                 2001  Ballantine Books            9  \n",
       "\n",
       "[65477 rows x 11 columns]"
      ]
     },
     "execution_count": 114,
     "metadata": {},
     "output_type": "execute_result"
    }
   ],
   "source": [
    "popular_user = final[final['Most_Rated_Books']>=50]\n",
    "popular_user"
   ]
  },
  {
   "cell_type": "code",
   "execution_count": 115,
   "id": "4201fe9b-69f5-42da-a711-0255409ab669",
   "metadata": {},
   "outputs": [
    {
     "data": {
      "text/plain": [
       "24863"
      ]
     },
     "execution_count": 115,
     "metadata": {},
     "output_type": "execute_result"
    }
   ],
   "source": [
    "popular_user['User_ID'].nunique()"
   ]
  },
  {
   "cell_type": "code",
   "execution_count": 116,
   "id": "a583983b-1e64-4b20-8d5c-1803f3c8addc",
   "metadata": {},
   "outputs": [],
   "source": [
    "# Drop duplicate User_IDs, keeping the first occurrence\n",
    "cleaned_df = popular_user.drop_duplicates(subset='User_ID', keep='first')\n",
    "\n",
    "# If you want to keep the last occurrence instead, use keep='last'"
   ]
  },
  {
   "cell_type": "code",
   "execution_count": 117,
   "id": "8d8bc06e-f23f-4074-8266-191be313731a",
   "metadata": {},
   "outputs": [
    {
     "name": "stdout",
     "output_type": "stream",
     "text": [
      "    Book_Title  Most_Rated_Books  Avg_Rating  User_ID  \\\n",
      "801       1984               144    8.784722      254   \n",
      "802       1984               144    8.784722     1706   \n",
      "803       1984               144    8.784722     2179   \n",
      "804       1984               144    8.784722     2198   \n",
      "805       1984               144    8.784722     2799   \n",
      "\n",
      "                            Location   Age        ISBN    Book_Author  \\\n",
      "801      minneapolis, minnesota, usa  24.0  0451524934  George Orwell   \n",
      "802         olympia, washington, usa  26.0  0451524934  George Orwell   \n",
      "803   sunderland, massachusetts, usa  30.0  0451524934  George Orwell   \n",
      "804  philadelphia, pennsylvania, usa  32.0  0451524934  George Orwell   \n",
      "805              eugene, oregon, usa  32.0  0451524934  George Orwell   \n",
      "\n",
      "     Year_Of_Publication    Publisher  Book_Rating  \n",
      "801                 1990  Signet Book            9  \n",
      "802                 1990  Signet Book           10  \n",
      "803                 1990  Signet Book            8  \n",
      "804                 1990  Signet Book           10  \n",
      "805                 1990  Signet Book           10  \n",
      "Shape of Final Dataset is :  (24863, 11)\n"
     ]
    }
   ],
   "source": [
    "print(cleaned_df.head())\n",
    "print(f'Shape of Final Dataset is : ',cleaned_df.shape)"
   ]
  },
  {
   "cell_type": "markdown",
   "id": "4422ea80-187c-4aac-b26d-8ad03facdb13",
   "metadata": {},
   "source": [
    "## *Pivot Table*"
   ]
  },
  {
   "cell_type": "code",
   "execution_count": 119,
   "id": "03ef70f4-38a3-4a10-9af0-7065b6124d1a",
   "metadata": {},
   "outputs": [
    {
     "data": {
      "text/html": [
       "<div>\n",
       "<style scoped>\n",
       "    .dataframe tbody tr th:only-of-type {\n",
       "        vertical-align: middle;\n",
       "    }\n",
       "\n",
       "    .dataframe tbody tr th {\n",
       "        vertical-align: top;\n",
       "    }\n",
       "\n",
       "    .dataframe thead th {\n",
       "        text-align: right;\n",
       "    }\n",
       "</style>\n",
       "<table border=\"1\" class=\"dataframe\">\n",
       "  <thead>\n",
       "    <tr style=\"text-align: right;\">\n",
       "      <th>Book_Title</th>\n",
       "      <th>1984</th>\n",
       "      <th>1st to Die: A Novel</th>\n",
       "      <th>2nd Chance</th>\n",
       "      <th>4 Blondes</th>\n",
       "      <th>84 Charing Cross Road</th>\n",
       "      <th>A Beautiful Mind: The Life of Mathematical Genius and Nobel Laureate John Nash</th>\n",
       "      <th>A Bend in the Road</th>\n",
       "      <th>A Case of Need</th>\n",
       "      <th>A Child Called \\It\\\": One Child's Courage to Survive\"</th>\n",
       "      <th>A Confederacy of Dunces (Evergreen Book)</th>\n",
       "      <th>...</th>\n",
       "      <th>Wifey</th>\n",
       "      <th>Wild Animus</th>\n",
       "      <th>Winter Solstice</th>\n",
       "      <th>Wish You Well</th>\n",
       "      <th>Without Remorse</th>\n",
       "      <th>Wizard and Glass (The Dark Tower, Book 4)</th>\n",
       "      <th>Wuthering Heights</th>\n",
       "      <th>Year of Wonders</th>\n",
       "      <th>Zen and the Art of Motorcycle Maintenance: An Inquiry into Values</th>\n",
       "      <th>\\O\\\" Is for Outlaw\"</th>\n",
       "    </tr>\n",
       "    <tr>\n",
       "      <th>User_ID</th>\n",
       "      <th></th>\n",
       "      <th></th>\n",
       "      <th></th>\n",
       "      <th></th>\n",
       "      <th></th>\n",
       "      <th></th>\n",
       "      <th></th>\n",
       "      <th></th>\n",
       "      <th></th>\n",
       "      <th></th>\n",
       "      <th></th>\n",
       "      <th></th>\n",
       "      <th></th>\n",
       "      <th></th>\n",
       "      <th></th>\n",
       "      <th></th>\n",
       "      <th></th>\n",
       "      <th></th>\n",
       "      <th></th>\n",
       "      <th></th>\n",
       "      <th></th>\n",
       "    </tr>\n",
       "  </thead>\n",
       "  <tbody>\n",
       "    <tr>\n",
       "      <th>9</th>\n",
       "      <td>NaN</td>\n",
       "      <td>NaN</td>\n",
       "      <td>NaN</td>\n",
       "      <td>NaN</td>\n",
       "      <td>NaN</td>\n",
       "      <td>NaN</td>\n",
       "      <td>NaN</td>\n",
       "      <td>NaN</td>\n",
       "      <td>NaN</td>\n",
       "      <td>NaN</td>\n",
       "      <td>...</td>\n",
       "      <td>NaN</td>\n",
       "      <td>NaN</td>\n",
       "      <td>NaN</td>\n",
       "      <td>NaN</td>\n",
       "      <td>NaN</td>\n",
       "      <td>NaN</td>\n",
       "      <td>NaN</td>\n",
       "      <td>NaN</td>\n",
       "      <td>NaN</td>\n",
       "      <td>NaN</td>\n",
       "    </tr>\n",
       "    <tr>\n",
       "      <th>16</th>\n",
       "      <td>NaN</td>\n",
       "      <td>NaN</td>\n",
       "      <td>NaN</td>\n",
       "      <td>NaN</td>\n",
       "      <td>NaN</td>\n",
       "      <td>NaN</td>\n",
       "      <td>NaN</td>\n",
       "      <td>NaN</td>\n",
       "      <td>NaN</td>\n",
       "      <td>NaN</td>\n",
       "      <td>...</td>\n",
       "      <td>NaN</td>\n",
       "      <td>NaN</td>\n",
       "      <td>NaN</td>\n",
       "      <td>NaN</td>\n",
       "      <td>NaN</td>\n",
       "      <td>NaN</td>\n",
       "      <td>NaN</td>\n",
       "      <td>NaN</td>\n",
       "      <td>NaN</td>\n",
       "      <td>NaN</td>\n",
       "    </tr>\n",
       "    <tr>\n",
       "      <th>26</th>\n",
       "      <td>NaN</td>\n",
       "      <td>NaN</td>\n",
       "      <td>NaN</td>\n",
       "      <td>NaN</td>\n",
       "      <td>NaN</td>\n",
       "      <td>NaN</td>\n",
       "      <td>NaN</td>\n",
       "      <td>NaN</td>\n",
       "      <td>NaN</td>\n",
       "      <td>NaN</td>\n",
       "      <td>...</td>\n",
       "      <td>NaN</td>\n",
       "      <td>NaN</td>\n",
       "      <td>NaN</td>\n",
       "      <td>NaN</td>\n",
       "      <td>NaN</td>\n",
       "      <td>NaN</td>\n",
       "      <td>NaN</td>\n",
       "      <td>NaN</td>\n",
       "      <td>NaN</td>\n",
       "      <td>NaN</td>\n",
       "    </tr>\n",
       "    <tr>\n",
       "      <th>32</th>\n",
       "      <td>NaN</td>\n",
       "      <td>NaN</td>\n",
       "      <td>NaN</td>\n",
       "      <td>NaN</td>\n",
       "      <td>NaN</td>\n",
       "      <td>NaN</td>\n",
       "      <td>NaN</td>\n",
       "      <td>NaN</td>\n",
       "      <td>NaN</td>\n",
       "      <td>NaN</td>\n",
       "      <td>...</td>\n",
       "      <td>NaN</td>\n",
       "      <td>NaN</td>\n",
       "      <td>NaN</td>\n",
       "      <td>NaN</td>\n",
       "      <td>NaN</td>\n",
       "      <td>NaN</td>\n",
       "      <td>NaN</td>\n",
       "      <td>NaN</td>\n",
       "      <td>NaN</td>\n",
       "      <td>NaN</td>\n",
       "    </tr>\n",
       "    <tr>\n",
       "      <th>42</th>\n",
       "      <td>NaN</td>\n",
       "      <td>NaN</td>\n",
       "      <td>NaN</td>\n",
       "      <td>NaN</td>\n",
       "      <td>NaN</td>\n",
       "      <td>NaN</td>\n",
       "      <td>NaN</td>\n",
       "      <td>NaN</td>\n",
       "      <td>NaN</td>\n",
       "      <td>NaN</td>\n",
       "      <td>...</td>\n",
       "      <td>NaN</td>\n",
       "      <td>NaN</td>\n",
       "      <td>NaN</td>\n",
       "      <td>NaN</td>\n",
       "      <td>NaN</td>\n",
       "      <td>NaN</td>\n",
       "      <td>NaN</td>\n",
       "      <td>NaN</td>\n",
       "      <td>NaN</td>\n",
       "      <td>NaN</td>\n",
       "    </tr>\n",
       "    <tr>\n",
       "      <th>...</th>\n",
       "      <td>...</td>\n",
       "      <td>...</td>\n",
       "      <td>...</td>\n",
       "      <td>...</td>\n",
       "      <td>...</td>\n",
       "      <td>...</td>\n",
       "      <td>...</td>\n",
       "      <td>...</td>\n",
       "      <td>...</td>\n",
       "      <td>...</td>\n",
       "      <td>...</td>\n",
       "      <td>...</td>\n",
       "      <td>...</td>\n",
       "      <td>...</td>\n",
       "      <td>...</td>\n",
       "      <td>...</td>\n",
       "      <td>...</td>\n",
       "      <td>...</td>\n",
       "      <td>...</td>\n",
       "      <td>...</td>\n",
       "      <td>...</td>\n",
       "    </tr>\n",
       "    <tr>\n",
       "      <th>278836</th>\n",
       "      <td>NaN</td>\n",
       "      <td>NaN</td>\n",
       "      <td>NaN</td>\n",
       "      <td>NaN</td>\n",
       "      <td>NaN</td>\n",
       "      <td>NaN</td>\n",
       "      <td>NaN</td>\n",
       "      <td>NaN</td>\n",
       "      <td>NaN</td>\n",
       "      <td>NaN</td>\n",
       "      <td>...</td>\n",
       "      <td>NaN</td>\n",
       "      <td>NaN</td>\n",
       "      <td>NaN</td>\n",
       "      <td>NaN</td>\n",
       "      <td>NaN</td>\n",
       "      <td>NaN</td>\n",
       "      <td>NaN</td>\n",
       "      <td>NaN</td>\n",
       "      <td>NaN</td>\n",
       "      <td>NaN</td>\n",
       "    </tr>\n",
       "    <tr>\n",
       "      <th>278843</th>\n",
       "      <td>NaN</td>\n",
       "      <td>NaN</td>\n",
       "      <td>NaN</td>\n",
       "      <td>NaN</td>\n",
       "      <td>NaN</td>\n",
       "      <td>NaN</td>\n",
       "      <td>NaN</td>\n",
       "      <td>NaN</td>\n",
       "      <td>NaN</td>\n",
       "      <td>NaN</td>\n",
       "      <td>...</td>\n",
       "      <td>NaN</td>\n",
       "      <td>NaN</td>\n",
       "      <td>NaN</td>\n",
       "      <td>NaN</td>\n",
       "      <td>NaN</td>\n",
       "      <td>NaN</td>\n",
       "      <td>NaN</td>\n",
       "      <td>NaN</td>\n",
       "      <td>NaN</td>\n",
       "      <td>NaN</td>\n",
       "    </tr>\n",
       "    <tr>\n",
       "      <th>278844</th>\n",
       "      <td>NaN</td>\n",
       "      <td>NaN</td>\n",
       "      <td>NaN</td>\n",
       "      <td>NaN</td>\n",
       "      <td>NaN</td>\n",
       "      <td>NaN</td>\n",
       "      <td>NaN</td>\n",
       "      <td>NaN</td>\n",
       "      <td>NaN</td>\n",
       "      <td>NaN</td>\n",
       "      <td>...</td>\n",
       "      <td>NaN</td>\n",
       "      <td>NaN</td>\n",
       "      <td>NaN</td>\n",
       "      <td>NaN</td>\n",
       "      <td>NaN</td>\n",
       "      <td>NaN</td>\n",
       "      <td>NaN</td>\n",
       "      <td>NaN</td>\n",
       "      <td>NaN</td>\n",
       "      <td>NaN</td>\n",
       "    </tr>\n",
       "    <tr>\n",
       "      <th>278846</th>\n",
       "      <td>NaN</td>\n",
       "      <td>NaN</td>\n",
       "      <td>NaN</td>\n",
       "      <td>NaN</td>\n",
       "      <td>NaN</td>\n",
       "      <td>NaN</td>\n",
       "      <td>NaN</td>\n",
       "      <td>NaN</td>\n",
       "      <td>NaN</td>\n",
       "      <td>NaN</td>\n",
       "      <td>...</td>\n",
       "      <td>NaN</td>\n",
       "      <td>NaN</td>\n",
       "      <td>NaN</td>\n",
       "      <td>NaN</td>\n",
       "      <td>NaN</td>\n",
       "      <td>NaN</td>\n",
       "      <td>NaN</td>\n",
       "      <td>NaN</td>\n",
       "      <td>NaN</td>\n",
       "      <td>NaN</td>\n",
       "    </tr>\n",
       "    <tr>\n",
       "      <th>278854</th>\n",
       "      <td>NaN</td>\n",
       "      <td>NaN</td>\n",
       "      <td>NaN</td>\n",
       "      <td>NaN</td>\n",
       "      <td>NaN</td>\n",
       "      <td>NaN</td>\n",
       "      <td>NaN</td>\n",
       "      <td>NaN</td>\n",
       "      <td>NaN</td>\n",
       "      <td>NaN</td>\n",
       "      <td>...</td>\n",
       "      <td>NaN</td>\n",
       "      <td>NaN</td>\n",
       "      <td>NaN</td>\n",
       "      <td>NaN</td>\n",
       "      <td>NaN</td>\n",
       "      <td>NaN</td>\n",
       "      <td>NaN</td>\n",
       "      <td>NaN</td>\n",
       "      <td>NaN</td>\n",
       "      <td>NaN</td>\n",
       "    </tr>\n",
       "  </tbody>\n",
       "</table>\n",
       "<p>24863 rows × 651 columns</p>\n",
       "</div>"
      ],
      "text/plain": [
       "Book_Title  1984  1st to Die: A Novel  2nd Chance  4 Blondes  \\\n",
       "User_ID                                                        \n",
       "9            NaN                  NaN         NaN        NaN   \n",
       "16           NaN                  NaN         NaN        NaN   \n",
       "26           NaN                  NaN         NaN        NaN   \n",
       "32           NaN                  NaN         NaN        NaN   \n",
       "42           NaN                  NaN         NaN        NaN   \n",
       "...          ...                  ...         ...        ...   \n",
       "278836       NaN                  NaN         NaN        NaN   \n",
       "278843       NaN                  NaN         NaN        NaN   \n",
       "278844       NaN                  NaN         NaN        NaN   \n",
       "278846       NaN                  NaN         NaN        NaN   \n",
       "278854       NaN                  NaN         NaN        NaN   \n",
       "\n",
       "Book_Title  84 Charing Cross Road  \\\n",
       "User_ID                             \n",
       "9                             NaN   \n",
       "16                            NaN   \n",
       "26                            NaN   \n",
       "32                            NaN   \n",
       "42                            NaN   \n",
       "...                           ...   \n",
       "278836                        NaN   \n",
       "278843                        NaN   \n",
       "278844                        NaN   \n",
       "278846                        NaN   \n",
       "278854                        NaN   \n",
       "\n",
       "Book_Title  A Beautiful Mind: The Life of Mathematical Genius and Nobel Laureate John Nash  \\\n",
       "User_ID                                                                                      \n",
       "9                                                         NaN                                \n",
       "16                                                        NaN                                \n",
       "26                                                        NaN                                \n",
       "32                                                        NaN                                \n",
       "42                                                        NaN                                \n",
       "...                                                       ...                                \n",
       "278836                                                    NaN                                \n",
       "278843                                                    NaN                                \n",
       "278844                                                    NaN                                \n",
       "278846                                                    NaN                                \n",
       "278854                                                    NaN                                \n",
       "\n",
       "Book_Title  A Bend in the Road  A Case of Need  \\\n",
       "User_ID                                          \n",
       "9                          NaN             NaN   \n",
       "16                         NaN             NaN   \n",
       "26                         NaN             NaN   \n",
       "32                         NaN             NaN   \n",
       "42                         NaN             NaN   \n",
       "...                        ...             ...   \n",
       "278836                     NaN             NaN   \n",
       "278843                     NaN             NaN   \n",
       "278844                     NaN             NaN   \n",
       "278846                     NaN             NaN   \n",
       "278854                     NaN             NaN   \n",
       "\n",
       "Book_Title  A Child Called \\It\\\": One Child's Courage to Survive\"  \\\n",
       "User_ID                                                             \n",
       "9                                                         NaN       \n",
       "16                                                        NaN       \n",
       "26                                                        NaN       \n",
       "32                                                        NaN       \n",
       "42                                                        NaN       \n",
       "...                                                       ...       \n",
       "278836                                                    NaN       \n",
       "278843                                                    NaN       \n",
       "278844                                                    NaN       \n",
       "278846                                                    NaN       \n",
       "278854                                                    NaN       \n",
       "\n",
       "Book_Title  A Confederacy of Dunces (Evergreen Book)  ...  Wifey  Wild Animus  \\\n",
       "User_ID                                               ...                       \n",
       "9                                                NaN  ...    NaN          NaN   \n",
       "16                                               NaN  ...    NaN          NaN   \n",
       "26                                               NaN  ...    NaN          NaN   \n",
       "32                                               NaN  ...    NaN          NaN   \n",
       "42                                               NaN  ...    NaN          NaN   \n",
       "...                                              ...  ...    ...          ...   \n",
       "278836                                           NaN  ...    NaN          NaN   \n",
       "278843                                           NaN  ...    NaN          NaN   \n",
       "278844                                           NaN  ...    NaN          NaN   \n",
       "278846                                           NaN  ...    NaN          NaN   \n",
       "278854                                           NaN  ...    NaN          NaN   \n",
       "\n",
       "Book_Title  Winter Solstice  Wish You Well  Without Remorse  \\\n",
       "User_ID                                                       \n",
       "9                       NaN            NaN              NaN   \n",
       "16                      NaN            NaN              NaN   \n",
       "26                      NaN            NaN              NaN   \n",
       "32                      NaN            NaN              NaN   \n",
       "42                      NaN            NaN              NaN   \n",
       "...                     ...            ...              ...   \n",
       "278836                  NaN            NaN              NaN   \n",
       "278843                  NaN            NaN              NaN   \n",
       "278844                  NaN            NaN              NaN   \n",
       "278846                  NaN            NaN              NaN   \n",
       "278854                  NaN            NaN              NaN   \n",
       "\n",
       "Book_Title  Wizard and Glass (The Dark Tower, Book 4)  Wuthering Heights  \\\n",
       "User_ID                                                                    \n",
       "9                                                 NaN                NaN   \n",
       "16                                                NaN                NaN   \n",
       "26                                                NaN                NaN   \n",
       "32                                                NaN                NaN   \n",
       "42                                                NaN                NaN   \n",
       "...                                               ...                ...   \n",
       "278836                                            NaN                NaN   \n",
       "278843                                            NaN                NaN   \n",
       "278844                                            NaN                NaN   \n",
       "278846                                            NaN                NaN   \n",
       "278854                                            NaN                NaN   \n",
       "\n",
       "Book_Title  Year of Wonders  \\\n",
       "User_ID                       \n",
       "9                       NaN   \n",
       "16                      NaN   \n",
       "26                      NaN   \n",
       "32                      NaN   \n",
       "42                      NaN   \n",
       "...                     ...   \n",
       "278836                  NaN   \n",
       "278843                  NaN   \n",
       "278844                  NaN   \n",
       "278846                  NaN   \n",
       "278854                  NaN   \n",
       "\n",
       "Book_Title  Zen and the Art of Motorcycle Maintenance: An Inquiry into Values  \\\n",
       "User_ID                                                                         \n",
       "9                                                         NaN                   \n",
       "16                                                        NaN                   \n",
       "26                                                        NaN                   \n",
       "32                                                        NaN                   \n",
       "42                                                        NaN                   \n",
       "...                                                       ...                   \n",
       "278836                                                    NaN                   \n",
       "278843                                                    NaN                   \n",
       "278844                                                    NaN                   \n",
       "278846                                                    NaN                   \n",
       "278854                                                    NaN                   \n",
       "\n",
       "Book_Title  \\O\\\" Is for Outlaw\"  \n",
       "User_ID                          \n",
       "9                           NaN  \n",
       "16                          NaN  \n",
       "26                          NaN  \n",
       "32                          NaN  \n",
       "42                          NaN  \n",
       "...                         ...  \n",
       "278836                      NaN  \n",
       "278843                      NaN  \n",
       "278844                      NaN  \n",
       "278846                      NaN  \n",
       "278854                      NaN  \n",
       "\n",
       "[24863 rows x 651 columns]"
      ]
     },
     "execution_count": 119,
     "metadata": {},
     "output_type": "execute_result"
    }
   ],
   "source": [
    "user_books_df = cleaned_df.pivot_table(index='User_ID',columns='Book_Title',values='Book_Rating')\n",
    "user_books_df"
   ]
  },
  {
   "cell_type": "code",
   "execution_count": 120,
   "id": "ab0bf261-972c-4e84-825a-d1a77f561a01",
   "metadata": {},
   "outputs": [
    {
     "data": {
      "text/html": [
       "<div>\n",
       "<style scoped>\n",
       "    .dataframe tbody tr th:only-of-type {\n",
       "        vertical-align: middle;\n",
       "    }\n",
       "\n",
       "    .dataframe tbody tr th {\n",
       "        vertical-align: top;\n",
       "    }\n",
       "\n",
       "    .dataframe thead th {\n",
       "        text-align: right;\n",
       "    }\n",
       "</style>\n",
       "<table border=\"1\" class=\"dataframe\">\n",
       "  <thead>\n",
       "    <tr style=\"text-align: right;\">\n",
       "      <th>Book_Title</th>\n",
       "      <th>1984</th>\n",
       "      <th>1st to Die: A Novel</th>\n",
       "      <th>2nd Chance</th>\n",
       "      <th>4 Blondes</th>\n",
       "      <th>84 Charing Cross Road</th>\n",
       "      <th>A Beautiful Mind: The Life of Mathematical Genius and Nobel Laureate John Nash</th>\n",
       "      <th>A Bend in the Road</th>\n",
       "      <th>A Case of Need</th>\n",
       "      <th>A Child Called \\It\\\": One Child's Courage to Survive\"</th>\n",
       "      <th>A Confederacy of Dunces (Evergreen Book)</th>\n",
       "      <th>...</th>\n",
       "      <th>Wifey</th>\n",
       "      <th>Wild Animus</th>\n",
       "      <th>Winter Solstice</th>\n",
       "      <th>Wish You Well</th>\n",
       "      <th>Without Remorse</th>\n",
       "      <th>Wizard and Glass (The Dark Tower, Book 4)</th>\n",
       "      <th>Wuthering Heights</th>\n",
       "      <th>Year of Wonders</th>\n",
       "      <th>Zen and the Art of Motorcycle Maintenance: An Inquiry into Values</th>\n",
       "      <th>\\O\\\" Is for Outlaw\"</th>\n",
       "    </tr>\n",
       "    <tr>\n",
       "      <th>User_ID</th>\n",
       "      <th></th>\n",
       "      <th></th>\n",
       "      <th></th>\n",
       "      <th></th>\n",
       "      <th></th>\n",
       "      <th></th>\n",
       "      <th></th>\n",
       "      <th></th>\n",
       "      <th></th>\n",
       "      <th></th>\n",
       "      <th></th>\n",
       "      <th></th>\n",
       "      <th></th>\n",
       "      <th></th>\n",
       "      <th></th>\n",
       "      <th></th>\n",
       "      <th></th>\n",
       "      <th></th>\n",
       "      <th></th>\n",
       "      <th></th>\n",
       "      <th></th>\n",
       "    </tr>\n",
       "  </thead>\n",
       "  <tbody>\n",
       "    <tr>\n",
       "      <th>9</th>\n",
       "      <td>0.0</td>\n",
       "      <td>0.0</td>\n",
       "      <td>0.0</td>\n",
       "      <td>0.0</td>\n",
       "      <td>0.0</td>\n",
       "      <td>0.0</td>\n",
       "      <td>0.0</td>\n",
       "      <td>0.0</td>\n",
       "      <td>0.0</td>\n",
       "      <td>0.0</td>\n",
       "      <td>...</td>\n",
       "      <td>0.0</td>\n",
       "      <td>0.0</td>\n",
       "      <td>0.0</td>\n",
       "      <td>0.0</td>\n",
       "      <td>0.0</td>\n",
       "      <td>0.0</td>\n",
       "      <td>0.0</td>\n",
       "      <td>0.0</td>\n",
       "      <td>0.0</td>\n",
       "      <td>0.0</td>\n",
       "    </tr>\n",
       "    <tr>\n",
       "      <th>16</th>\n",
       "      <td>0.0</td>\n",
       "      <td>0.0</td>\n",
       "      <td>0.0</td>\n",
       "      <td>0.0</td>\n",
       "      <td>0.0</td>\n",
       "      <td>0.0</td>\n",
       "      <td>0.0</td>\n",
       "      <td>0.0</td>\n",
       "      <td>0.0</td>\n",
       "      <td>0.0</td>\n",
       "      <td>...</td>\n",
       "      <td>0.0</td>\n",
       "      <td>0.0</td>\n",
       "      <td>0.0</td>\n",
       "      <td>0.0</td>\n",
       "      <td>0.0</td>\n",
       "      <td>0.0</td>\n",
       "      <td>0.0</td>\n",
       "      <td>0.0</td>\n",
       "      <td>0.0</td>\n",
       "      <td>0.0</td>\n",
       "    </tr>\n",
       "    <tr>\n",
       "      <th>26</th>\n",
       "      <td>0.0</td>\n",
       "      <td>0.0</td>\n",
       "      <td>0.0</td>\n",
       "      <td>0.0</td>\n",
       "      <td>0.0</td>\n",
       "      <td>0.0</td>\n",
       "      <td>0.0</td>\n",
       "      <td>0.0</td>\n",
       "      <td>0.0</td>\n",
       "      <td>0.0</td>\n",
       "      <td>...</td>\n",
       "      <td>0.0</td>\n",
       "      <td>0.0</td>\n",
       "      <td>0.0</td>\n",
       "      <td>0.0</td>\n",
       "      <td>0.0</td>\n",
       "      <td>0.0</td>\n",
       "      <td>0.0</td>\n",
       "      <td>0.0</td>\n",
       "      <td>0.0</td>\n",
       "      <td>0.0</td>\n",
       "    </tr>\n",
       "    <tr>\n",
       "      <th>32</th>\n",
       "      <td>0.0</td>\n",
       "      <td>0.0</td>\n",
       "      <td>0.0</td>\n",
       "      <td>0.0</td>\n",
       "      <td>0.0</td>\n",
       "      <td>0.0</td>\n",
       "      <td>0.0</td>\n",
       "      <td>0.0</td>\n",
       "      <td>0.0</td>\n",
       "      <td>0.0</td>\n",
       "      <td>...</td>\n",
       "      <td>0.0</td>\n",
       "      <td>0.0</td>\n",
       "      <td>0.0</td>\n",
       "      <td>0.0</td>\n",
       "      <td>0.0</td>\n",
       "      <td>0.0</td>\n",
       "      <td>0.0</td>\n",
       "      <td>0.0</td>\n",
       "      <td>0.0</td>\n",
       "      <td>0.0</td>\n",
       "    </tr>\n",
       "    <tr>\n",
       "      <th>42</th>\n",
       "      <td>0.0</td>\n",
       "      <td>0.0</td>\n",
       "      <td>0.0</td>\n",
       "      <td>0.0</td>\n",
       "      <td>0.0</td>\n",
       "      <td>0.0</td>\n",
       "      <td>0.0</td>\n",
       "      <td>0.0</td>\n",
       "      <td>0.0</td>\n",
       "      <td>0.0</td>\n",
       "      <td>...</td>\n",
       "      <td>0.0</td>\n",
       "      <td>0.0</td>\n",
       "      <td>0.0</td>\n",
       "      <td>0.0</td>\n",
       "      <td>0.0</td>\n",
       "      <td>0.0</td>\n",
       "      <td>0.0</td>\n",
       "      <td>0.0</td>\n",
       "      <td>0.0</td>\n",
       "      <td>0.0</td>\n",
       "    </tr>\n",
       "    <tr>\n",
       "      <th>...</th>\n",
       "      <td>...</td>\n",
       "      <td>...</td>\n",
       "      <td>...</td>\n",
       "      <td>...</td>\n",
       "      <td>...</td>\n",
       "      <td>...</td>\n",
       "      <td>...</td>\n",
       "      <td>...</td>\n",
       "      <td>...</td>\n",
       "      <td>...</td>\n",
       "      <td>...</td>\n",
       "      <td>...</td>\n",
       "      <td>...</td>\n",
       "      <td>...</td>\n",
       "      <td>...</td>\n",
       "      <td>...</td>\n",
       "      <td>...</td>\n",
       "      <td>...</td>\n",
       "      <td>...</td>\n",
       "      <td>...</td>\n",
       "      <td>...</td>\n",
       "    </tr>\n",
       "    <tr>\n",
       "      <th>278836</th>\n",
       "      <td>0.0</td>\n",
       "      <td>0.0</td>\n",
       "      <td>0.0</td>\n",
       "      <td>0.0</td>\n",
       "      <td>0.0</td>\n",
       "      <td>0.0</td>\n",
       "      <td>0.0</td>\n",
       "      <td>0.0</td>\n",
       "      <td>0.0</td>\n",
       "      <td>0.0</td>\n",
       "      <td>...</td>\n",
       "      <td>0.0</td>\n",
       "      <td>0.0</td>\n",
       "      <td>0.0</td>\n",
       "      <td>0.0</td>\n",
       "      <td>0.0</td>\n",
       "      <td>0.0</td>\n",
       "      <td>0.0</td>\n",
       "      <td>0.0</td>\n",
       "      <td>0.0</td>\n",
       "      <td>0.0</td>\n",
       "    </tr>\n",
       "    <tr>\n",
       "      <th>278843</th>\n",
       "      <td>0.0</td>\n",
       "      <td>0.0</td>\n",
       "      <td>0.0</td>\n",
       "      <td>0.0</td>\n",
       "      <td>0.0</td>\n",
       "      <td>0.0</td>\n",
       "      <td>0.0</td>\n",
       "      <td>0.0</td>\n",
       "      <td>0.0</td>\n",
       "      <td>0.0</td>\n",
       "      <td>...</td>\n",
       "      <td>0.0</td>\n",
       "      <td>0.0</td>\n",
       "      <td>0.0</td>\n",
       "      <td>0.0</td>\n",
       "      <td>0.0</td>\n",
       "      <td>0.0</td>\n",
       "      <td>0.0</td>\n",
       "      <td>0.0</td>\n",
       "      <td>0.0</td>\n",
       "      <td>0.0</td>\n",
       "    </tr>\n",
       "    <tr>\n",
       "      <th>278844</th>\n",
       "      <td>0.0</td>\n",
       "      <td>0.0</td>\n",
       "      <td>0.0</td>\n",
       "      <td>0.0</td>\n",
       "      <td>0.0</td>\n",
       "      <td>0.0</td>\n",
       "      <td>0.0</td>\n",
       "      <td>0.0</td>\n",
       "      <td>0.0</td>\n",
       "      <td>0.0</td>\n",
       "      <td>...</td>\n",
       "      <td>0.0</td>\n",
       "      <td>0.0</td>\n",
       "      <td>0.0</td>\n",
       "      <td>0.0</td>\n",
       "      <td>0.0</td>\n",
       "      <td>0.0</td>\n",
       "      <td>0.0</td>\n",
       "      <td>0.0</td>\n",
       "      <td>0.0</td>\n",
       "      <td>0.0</td>\n",
       "    </tr>\n",
       "    <tr>\n",
       "      <th>278846</th>\n",
       "      <td>0.0</td>\n",
       "      <td>0.0</td>\n",
       "      <td>0.0</td>\n",
       "      <td>0.0</td>\n",
       "      <td>0.0</td>\n",
       "      <td>0.0</td>\n",
       "      <td>0.0</td>\n",
       "      <td>0.0</td>\n",
       "      <td>0.0</td>\n",
       "      <td>0.0</td>\n",
       "      <td>...</td>\n",
       "      <td>0.0</td>\n",
       "      <td>0.0</td>\n",
       "      <td>0.0</td>\n",
       "      <td>0.0</td>\n",
       "      <td>0.0</td>\n",
       "      <td>0.0</td>\n",
       "      <td>0.0</td>\n",
       "      <td>0.0</td>\n",
       "      <td>0.0</td>\n",
       "      <td>0.0</td>\n",
       "    </tr>\n",
       "    <tr>\n",
       "      <th>278854</th>\n",
       "      <td>0.0</td>\n",
       "      <td>0.0</td>\n",
       "      <td>0.0</td>\n",
       "      <td>0.0</td>\n",
       "      <td>0.0</td>\n",
       "      <td>0.0</td>\n",
       "      <td>0.0</td>\n",
       "      <td>0.0</td>\n",
       "      <td>0.0</td>\n",
       "      <td>0.0</td>\n",
       "      <td>...</td>\n",
       "      <td>0.0</td>\n",
       "      <td>0.0</td>\n",
       "      <td>0.0</td>\n",
       "      <td>0.0</td>\n",
       "      <td>0.0</td>\n",
       "      <td>0.0</td>\n",
       "      <td>0.0</td>\n",
       "      <td>0.0</td>\n",
       "      <td>0.0</td>\n",
       "      <td>0.0</td>\n",
       "    </tr>\n",
       "  </tbody>\n",
       "</table>\n",
       "<p>24863 rows × 651 columns</p>\n",
       "</div>"
      ],
      "text/plain": [
       "Book_Title  1984  1st to Die: A Novel  2nd Chance  4 Blondes  \\\n",
       "User_ID                                                        \n",
       "9            0.0                  0.0         0.0        0.0   \n",
       "16           0.0                  0.0         0.0        0.0   \n",
       "26           0.0                  0.0         0.0        0.0   \n",
       "32           0.0                  0.0         0.0        0.0   \n",
       "42           0.0                  0.0         0.0        0.0   \n",
       "...          ...                  ...         ...        ...   \n",
       "278836       0.0                  0.0         0.0        0.0   \n",
       "278843       0.0                  0.0         0.0        0.0   \n",
       "278844       0.0                  0.0         0.0        0.0   \n",
       "278846       0.0                  0.0         0.0        0.0   \n",
       "278854       0.0                  0.0         0.0        0.0   \n",
       "\n",
       "Book_Title  84 Charing Cross Road  \\\n",
       "User_ID                             \n",
       "9                             0.0   \n",
       "16                            0.0   \n",
       "26                            0.0   \n",
       "32                            0.0   \n",
       "42                            0.0   \n",
       "...                           ...   \n",
       "278836                        0.0   \n",
       "278843                        0.0   \n",
       "278844                        0.0   \n",
       "278846                        0.0   \n",
       "278854                        0.0   \n",
       "\n",
       "Book_Title  A Beautiful Mind: The Life of Mathematical Genius and Nobel Laureate John Nash  \\\n",
       "User_ID                                                                                      \n",
       "9                                                         0.0                                \n",
       "16                                                        0.0                                \n",
       "26                                                        0.0                                \n",
       "32                                                        0.0                                \n",
       "42                                                        0.0                                \n",
       "...                                                       ...                                \n",
       "278836                                                    0.0                                \n",
       "278843                                                    0.0                                \n",
       "278844                                                    0.0                                \n",
       "278846                                                    0.0                                \n",
       "278854                                                    0.0                                \n",
       "\n",
       "Book_Title  A Bend in the Road  A Case of Need  \\\n",
       "User_ID                                          \n",
       "9                          0.0             0.0   \n",
       "16                         0.0             0.0   \n",
       "26                         0.0             0.0   \n",
       "32                         0.0             0.0   \n",
       "42                         0.0             0.0   \n",
       "...                        ...             ...   \n",
       "278836                     0.0             0.0   \n",
       "278843                     0.0             0.0   \n",
       "278844                     0.0             0.0   \n",
       "278846                     0.0             0.0   \n",
       "278854                     0.0             0.0   \n",
       "\n",
       "Book_Title  A Child Called \\It\\\": One Child's Courage to Survive\"  \\\n",
       "User_ID                                                             \n",
       "9                                                         0.0       \n",
       "16                                                        0.0       \n",
       "26                                                        0.0       \n",
       "32                                                        0.0       \n",
       "42                                                        0.0       \n",
       "...                                                       ...       \n",
       "278836                                                    0.0       \n",
       "278843                                                    0.0       \n",
       "278844                                                    0.0       \n",
       "278846                                                    0.0       \n",
       "278854                                                    0.0       \n",
       "\n",
       "Book_Title  A Confederacy of Dunces (Evergreen Book)  ...  Wifey  Wild Animus  \\\n",
       "User_ID                                               ...                       \n",
       "9                                                0.0  ...    0.0          0.0   \n",
       "16                                               0.0  ...    0.0          0.0   \n",
       "26                                               0.0  ...    0.0          0.0   \n",
       "32                                               0.0  ...    0.0          0.0   \n",
       "42                                               0.0  ...    0.0          0.0   \n",
       "...                                              ...  ...    ...          ...   \n",
       "278836                                           0.0  ...    0.0          0.0   \n",
       "278843                                           0.0  ...    0.0          0.0   \n",
       "278844                                           0.0  ...    0.0          0.0   \n",
       "278846                                           0.0  ...    0.0          0.0   \n",
       "278854                                           0.0  ...    0.0          0.0   \n",
       "\n",
       "Book_Title  Winter Solstice  Wish You Well  Without Remorse  \\\n",
       "User_ID                                                       \n",
       "9                       0.0            0.0              0.0   \n",
       "16                      0.0            0.0              0.0   \n",
       "26                      0.0            0.0              0.0   \n",
       "32                      0.0            0.0              0.0   \n",
       "42                      0.0            0.0              0.0   \n",
       "...                     ...            ...              ...   \n",
       "278836                  0.0            0.0              0.0   \n",
       "278843                  0.0            0.0              0.0   \n",
       "278844                  0.0            0.0              0.0   \n",
       "278846                  0.0            0.0              0.0   \n",
       "278854                  0.0            0.0              0.0   \n",
       "\n",
       "Book_Title  Wizard and Glass (The Dark Tower, Book 4)  Wuthering Heights  \\\n",
       "User_ID                                                                    \n",
       "9                                                 0.0                0.0   \n",
       "16                                                0.0                0.0   \n",
       "26                                                0.0                0.0   \n",
       "32                                                0.0                0.0   \n",
       "42                                                0.0                0.0   \n",
       "...                                               ...                ...   \n",
       "278836                                            0.0                0.0   \n",
       "278843                                            0.0                0.0   \n",
       "278844                                            0.0                0.0   \n",
       "278846                                            0.0                0.0   \n",
       "278854                                            0.0                0.0   \n",
       "\n",
       "Book_Title  Year of Wonders  \\\n",
       "User_ID                       \n",
       "9                       0.0   \n",
       "16                      0.0   \n",
       "26                      0.0   \n",
       "32                      0.0   \n",
       "42                      0.0   \n",
       "...                     ...   \n",
       "278836                  0.0   \n",
       "278843                  0.0   \n",
       "278844                  0.0   \n",
       "278846                  0.0   \n",
       "278854                  0.0   \n",
       "\n",
       "Book_Title  Zen and the Art of Motorcycle Maintenance: An Inquiry into Values  \\\n",
       "User_ID                                                                         \n",
       "9                                                         0.0                   \n",
       "16                                                        0.0                   \n",
       "26                                                        0.0                   \n",
       "32                                                        0.0                   \n",
       "42                                                        0.0                   \n",
       "...                                                       ...                   \n",
       "278836                                                    0.0                   \n",
       "278843                                                    0.0                   \n",
       "278844                                                    0.0                   \n",
       "278846                                                    0.0                   \n",
       "278854                                                    0.0                   \n",
       "\n",
       "Book_Title  \\O\\\" Is for Outlaw\"  \n",
       "User_ID                          \n",
       "9                           0.0  \n",
       "16                          0.0  \n",
       "26                          0.0  \n",
       "32                          0.0  \n",
       "42                          0.0  \n",
       "...                         ...  \n",
       "278836                      0.0  \n",
       "278843                      0.0  \n",
       "278844                      0.0  \n",
       "278846                      0.0  \n",
       "278854                      0.0  \n",
       "\n",
       "[24863 rows x 651 columns]"
      ]
     },
     "execution_count": 120,
     "metadata": {},
     "output_type": "execute_result"
    }
   ],
   "source": [
    "user_books_df.fillna(0,inplace = True) #all the NaN values or missing values will be converted into 0\n",
    "user_books_df"
   ]
  },
  {
   "cell_type": "markdown",
   "id": "2e3d24c2-da19-4616-8485-add0387a1053",
   "metadata": {},
   "source": [
    "##### *How Many times, 1984 A Novel Book by George have been Rated by Users*"
   ]
  },
  {
   "cell_type": "code",
   "execution_count": 122,
   "id": "4923c84a-eaa2-4bc2-a88f-0a9fea0e1aec",
   "metadata": {},
   "outputs": [
    {
     "data": {
      "text/plain": [
       "1984\n",
       "0.0     24720\n",
       "10.0       56\n",
       "9.0        33\n",
       "8.0        28\n",
       "7.0        21\n",
       "6.0         3\n",
       "5.0         2\n",
       "Name: count, dtype: int64"
      ]
     },
     "execution_count": 122,
     "metadata": {},
     "output_type": "execute_result"
    }
   ],
   "source": [
    "user_books_df['1984'].value_counts() "
   ]
  },
  {
   "cell_type": "markdown",
   "id": "7d8034d2-a520-4c45-acde-c22d36a4e4e9",
   "metadata": {},
   "source": [
    "### *Cosine Based Similarity*\n",
    "\n",
    "###### *To Find out Similar User's*"
   ]
  },
  {
   "cell_type": "code",
   "execution_count": 124,
   "id": "baa3f3a9-cc4c-40bb-af7d-3a9151b51c1c",
   "metadata": {},
   "outputs": [],
   "source": [
    "from sklearn.metrics.pairwise import cosine_similarity"
   ]
  },
  {
   "cell_type": "code",
   "execution_count": 125,
   "id": "7ddbce15-1aa3-463e-bb41-69fd4cabfe2b",
   "metadata": {},
   "outputs": [
    {
     "data": {
      "text/plain": [
       "array([[1., 0., 0., ..., 0., 0., 0.],\n",
       "       [0., 1., 0., ..., 0., 0., 0.],\n",
       "       [0., 0., 1., ..., 0., 0., 0.],\n",
       "       ...,\n",
       "       [0., 0., 0., ..., 1., 0., 0.],\n",
       "       [0., 0., 0., ..., 0., 1., 0.],\n",
       "       [0., 0., 0., ..., 0., 0., 1.]])"
      ]
     },
     "execution_count": 125,
     "metadata": {},
     "output_type": "execute_result"
    }
   ],
   "source": [
    "similarity_scores = cosine_similarity(user_books_df)\n",
    "similarity_scores"
   ]
  },
  {
   "cell_type": "code",
   "execution_count": 126,
   "id": "8262008a-adc3-4d27-bea3-2f1194c1ece5",
   "metadata": {},
   "outputs": [
    {
     "data": {
      "text/plain": [
       "(24863, 24863)"
      ]
     },
     "execution_count": 126,
     "metadata": {},
     "output_type": "execute_result"
    }
   ],
   "source": [
    "similarity_scores.shape"
   ]
  },
  {
   "cell_type": "markdown",
   "id": "70196175-8a1c-45b7-838b-74a12aef2e64",
   "metadata": {},
   "source": [
    "##### *Defining a Function to Recommend Book's based on User ID*"
   ]
  },
  {
   "cell_type": "code",
   "execution_count": 128,
   "id": "71b908a0-8f72-4c25-bf7a-223b06db5172",
   "metadata": {},
   "outputs": [],
   "source": [
    "def recommend(user_id):\n",
    "    similar_users = np.argsort(-similarity_scores[np.where(user_books_df.index == user_id)[0][0]])[1:6]\n",
    "    recommended_books = set()\n",
    "    for user in similar_users:\n",
    "        user_books = cleaned_df[cleaned_df['User_ID'] == user_books_df.index[user]]\n",
    "        for _, row in user_books.iterrows():\n",
    "            if len(recommended_books) < 10:\n",
    "                recommended_books.add(row['Book_Title'])\n",
    "            else:\n",
    "                break\n",
    "    return list(recommended_books)"
   ]
  },
  {
   "cell_type": "code",
   "execution_count": 129,
   "id": "5aaf5fa5-9f2e-4c90-8237-7ab7b58d0dff",
   "metadata": {},
   "outputs": [
    {
     "data": {
      "text/plain": [
       "['1984']"
      ]
     },
     "execution_count": 129,
     "metadata": {},
     "output_type": "execute_result"
    }
   ],
   "source": [
    "recommend(254)"
   ]
  },
  {
   "cell_type": "code",
   "execution_count": 130,
   "id": "b4102511-b1ed-4e30-b462-06c24aa759c9",
   "metadata": {},
   "outputs": [
    {
     "data": {
      "text/plain": [
       "['Seabiscuit: An American Legend']"
      ]
     },
     "execution_count": 130,
     "metadata": {},
     "output_type": "execute_result"
    }
   ],
   "source": [
    "recommend(26)"
   ]
  },
  {
   "cell_type": "code",
   "execution_count": 131,
   "id": "1ba64fde-f8e3-433f-bfb8-f922144ef1d1",
   "metadata": {},
   "outputs": [
    {
     "data": {
      "text/plain": [
       "['Beloved (Plume Contemporary Fiction)']"
      ]
     },
     "execution_count": 131,
     "metadata": {},
     "output_type": "execute_result"
    }
   ],
   "source": [
    "recommend(9)"
   ]
  },
  {
   "cell_type": "code",
   "execution_count": 132,
   "id": "db6e87de-9cb4-464e-b78d-3b9231c76c36",
   "metadata": {},
   "outputs": [
    {
     "data": {
      "text/plain": [
       "['Airframe']"
      ]
     },
     "execution_count": 132,
     "metadata": {},
     "output_type": "execute_result"
    }
   ],
   "source": [
    "recommend(16)"
   ]
  },
  {
   "cell_type": "code",
   "execution_count": 133,
   "id": "706a5805-4af5-4686-81ae-6cfc5510d866",
   "metadata": {},
   "outputs": [
    {
     "data": {
      "text/plain": [
       "[\"A Virtuous Woman (Oprah's Book Club (Paperback))\"]"
      ]
     },
     "execution_count": 133,
     "metadata": {},
     "output_type": "execute_result"
    }
   ],
   "source": [
    "recommend(278854)"
   ]
  },
  {
   "cell_type": "markdown",
   "id": "16eee6ac-b04c-4b59-966d-a1c7313e381d",
   "metadata": {},
   "source": [
    "### ***Deployment***"
   ]
  },
  {
   "cell_type": "code",
   "execution_count": 135,
   "id": "3afc6d24-5e13-451b-8c97-bce03560ee4f",
   "metadata": {},
   "outputs": [],
   "source": [
    "#cleaned df\n",
    "\n",
    "cleaned_df.to_csv('cleaned_df.csv',index = False)"
   ]
  },
  {
   "cell_type": "code",
   "execution_count": 136,
   "id": "17fd2e46-645e-4b91-8ed4-a8b4e27aef69",
   "metadata": {},
   "outputs": [],
   "source": [
    "#pivot table\n",
    "\n",
    "user_books_df.to_csv('user_books_df.csv',index = False)"
   ]
  },
  {
   "cell_type": "code",
   "execution_count": 137,
   "id": "deddfc4c-eb94-4cfd-be08-6fee7e8db38c",
   "metadata": {},
   "outputs": [],
   "source": [
    "np.save('similarity_scores.npy', similarity_scores)"
   ]
  }
 ],
 "metadata": {
  "kernelspec": {
   "display_name": "Python 3 (ipykernel)",
   "language": "python",
   "name": "python3"
  },
  "language_info": {
   "codemirror_mode": {
    "name": "ipython",
    "version": 3
   },
   "file_extension": ".py",
   "mimetype": "text/x-python",
   "name": "python",
   "nbconvert_exporter": "python",
   "pygments_lexer": "ipython3",
   "version": "3.12.3"
  }
 },
 "nbformat": 4,
 "nbformat_minor": 5
}
